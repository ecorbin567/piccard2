{
 "cells": [
  {
   "cell_type": "code",
   "execution_count": 25,
   "id": "59622d46",
   "metadata": {},
   "outputs": [],
   "source": [
    "import piccard as pc\n",
    "import piccard2 as pc2\n",
    "\n",
    "# install other dependencies, pip install first if needed\n",
    "from tscluster.tsplot import tsplot\n",
    "import geopandas as gpd\n",
    "import numpy as np\n",
    "import matplotlib.pyplot as plt\n",
    "\n",
    "import warnings\n",
    "warnings.filterwarnings('ignore')"
   ]
  },
  {
   "cell_type": "code",
   "execution_count": 26,
   "id": "934d1afc",
   "metadata": {},
   "outputs": [],
   "source": [
    "households_data_2021 = gpd.read_file(\"https://raw.githubusercontent.com/ecorbin567/piccard2/refs/heads/main/docs/piccard2_testing_data/households_data_2021.geojson\")\n",
    "households_data_2016 = gpd.read_file(\"https://raw.githubusercontent.com/ecorbin567/piccard2/refs/heads/main/docs/piccard2_testing_data/households_data_2016.geojson\")\n",
    "households_data_2011 = gpd.read_file(\"https://raw.githubusercontent.com/ecorbin567/piccard2/refs/heads/main/docs/piccard2_testing_data/households_data_2011.geojson\")\n",
    "households_data_2006 = gpd.read_file(\"https://raw.githubusercontent.com/ecorbin567/piccard2/refs/heads/main/docs/piccard2_testing_data/households_data_2006.geojson\")\n",
    "\n",
    "households_data_2021.rename(columns={'v_CA21_434: Occupied private dwellings by structural type of dwelling data': 'occupied_private_dwellings',\n",
    "                                     'v_CA21_435: Single-detached house': 'single_detached_house',\n",
    "                                     'v_CA21_440: Apartment in a building that has five or more storeys': 'apt_five_or_more'}, inplace=True)\n",
    "households_data_2016.rename(columns={'v_CA16_408: Occupied private dwellings by structural type of dwelling data': 'occupied_private_dwellings',\n",
    "                                     'v_CA16_409: Single-detached house': 'single_detached_house',\n",
    "                                     'v_CA16_410: Apartment in a building that has five or more storeys': 'apt_five_or_more'}, inplace=True)\n",
    "households_data_2011.rename(columns={'v_CA11F_199: Total number of occupied private dwellings by structural type of dwelling': 'occupied_private_dwellings',\n",
    "                                     'v_CA11F_200: Single-detached house': 'single_detached_house',\n",
    "                                     'v_CA11F_201: Apartment, building that has five or more storeys': 'apt_five_or_more',}, inplace=True)\n",
    "households_data_2006.rename(columns={'v_CA06_119: Total number of occupied private dwellings by structural type of dwelling - data': 'occupied_private_dwellings',\n",
    "                                     'v_CA06_120: Single-detached house': 'single_detached_house',\n",
    "                                     'v_CA06_124: Apartment, building that has five or more storeys': 'apt_five_or_more',}, inplace=True)"
   ]
  },
  {
   "cell_type": "code",
   "execution_count": 27,
   "id": "085fdf35",
   "metadata": {},
   "outputs": [],
   "source": [
    "census_dfs = [households_data_2006, households_data_2011, households_data_2016, households_data_2021]\n",
    "years = ['2006', '2011', '2016', '2021']\n",
    "\n",
    "network_table = pc.create_network_table(census_dfs, years, 'GeoUID')\n",
    "G = pc.create_network(census_dfs, years, 'GeoUID', 0.05)"
   ]
  },
  {
   "cell_type": "code",
   "execution_count": 28,
   "id": "65a6ff6c",
   "metadata": {},
   "outputs": [],
   "source": [
    "arr, label_dict = pc2.clustering_prep(network_table, 'name', [\n",
    "    'occupied_private_dwellings_2006', 'single_detached_house_2006', 'apt_five_or_more_2006',\n",
    "    'occupied_private_dwellings_2011', 'single_detached_house_2011', 'apt_five_or_more_2011',\n",
    "    'occupied_private_dwellings_2016', 'single_detached_house_2016', 'apt_five_or_more_2016',\n",
    "    'occupied_private_dwellings_2021', 'single_detached_house_2021', 'apt_five_or_more_2021'])"
   ]
  },
  {
   "cell_type": "code",
   "execution_count": 29,
   "id": "ff85bf80",
   "metadata": {},
   "outputs": [
    {
     "name": "stdout",
     "output_type": "stream",
     "text": [
      "Initialization with kmeans++, Sum of Distance: 2378037516.6667, Max Distance: 6859.2583\n",
      "Iteration 0, Sum of distance: 1783766278.9400, Max distance: 7594.8886, Number of change: 149\n",
      "Iteration 5, Sum of distance: 1562560998.9736, Max distance: 7594.8886, Number of change: 46\n",
      "Iteration 10, Sum of distance: 1553885796.4576, Max distance: 7594.8886, Number of change: 0\n",
      "Converged at iteration 15, Sum of distance: 1553885796.4576, Max distance: 7594.8886\n"
     ]
    }
   ],
   "source": [
    "tsc = pc2.cluster(network_table, G, 'GeoUID', 4, arr=arr, label_dict=label_dict)"
   ]
  },
  {
   "cell_type": "code",
   "execution_count": null,
   "id": "b98a385e",
   "metadata": {},
   "outputs": [
    {
     "data": {
      "application/vnd.plotly.v1+json": {
       "config": {
        "plotlyServerURL": "https://plot.ly"
       },
       "data": [
        {
         "line": {
          "color": "black",
          "dash": "dot"
         },
         "mode": "lines+markers",
         "showlegend": false,
         "type": "scatter",
         "x": [
          "2006",
          "2011",
          "2016",
          "2021"
         ],
         "y": {
          "bdata": "AAAAAAByoEAAAAAAAAy3QAAAAAAAW7NAAAAAAABetUA=",
          "dtype": "f8"
         }
        },
        {
         "marker": {
          "color": "#636EFA",
          "size": 6
         },
         "mode": "markers",
         "name": "Path 8",
         "showlegend": false,
         "type": "scatter",
         "x": [
          "2006",
          "2011",
          "2016",
          "2021"
         ],
         "y": {
          "bdata": "AAAAAAByoEAAAAAAAAy3QAAAAAAAW7NAAAAAAABetUA=",
          "dtype": "f8"
         }
        },
        {
         "line": {
          "color": "black",
          "dash": "dot"
         },
         "mode": "lines+markers",
         "showlegend": false,
         "type": "scatter",
         "x": [
          "2006",
          "2011",
          "2016",
          "2021"
         ],
         "y": {
          "bdata": "AAAAAAByoEAAAAAAAAy3QAAAAAAArLdAAAAAAABsu0A=",
          "dtype": "f8"
         }
        },
        {
         "marker": {
          "color": "#636EFA",
          "size": 6
         },
         "mode": "markers",
         "name": "Path 9",
         "showlegend": false,
         "type": "scatter",
         "x": [
          "2006",
          "2011",
          "2016",
          "2021"
         ],
         "y": {
          "bdata": "AAAAAAByoEAAAAAAAAy3QAAAAAAArLdAAAAAAABsu0A=",
          "dtype": "f8"
         }
        },
        {
         "line": {
          "color": "black",
          "dash": "dot"
         },
         "mode": "lines+markers",
         "showlegend": false,
         "type": "scatter",
         "x": [
          "2006",
          "2011",
          "2016",
          "2021"
         ],
         "y": {
          "bdata": "AAAAAABcokAAAAAAAKCkQAAAAAAAkqhAAAAAAABetUA=",
          "dtype": "f8"
         }
        },
        {
         "marker": {
          "color": "#636EFA",
          "size": 6
         },
         "mode": "markers",
         "name": "Path 11",
         "showlegend": false,
         "type": "scatter",
         "x": [
          "2006",
          "2011",
          "2016",
          "2021"
         ],
         "y": {
          "bdata": "AAAAAABcokAAAAAAAKCkQAAAAAAAkqhAAAAAAABetUA=",
          "dtype": "f8"
         }
        },
        {
         "line": {
          "color": "black",
          "dash": "dot"
         },
         "mode": "lines+markers",
         "showlegend": false,
         "type": "scatter",
         "x": [
          "2006",
          "2011",
          "2016",
          "2021"
         ],
         "y": {
          "bdata": "AAAAAADapkAAAAAAALK2QAAAAAAAOcdAAAAAAADsuEA=",
          "dtype": "f8"
         }
        },
        {
         "marker": {
          "color": "#EF553B",
          "size": 6
         },
         "mode": "markers",
         "name": "Path 14",
         "showlegend": false,
         "type": "scatter",
         "x": [
          "2006",
          "2011",
          "2016",
          "2021"
         ],
         "y": {
          "bdata": "AAAAAADapkAAAAAAALK2QAAAAAAAOcdAAAAAAADsuEA=",
          "dtype": "f8"
         }
        },
        {
         "line": {
          "color": "black",
          "dash": "dot"
         },
         "mode": "lines+markers",
         "showlegend": false,
         "type": "scatter",
         "x": [
          "2006",
          "2011",
          "2016",
          "2021"
         ],
         "y": {
          "bdata": "AAAAAADapkAAAAAAALK2QAAAAAAAOcdAAAAAAACquUA=",
          "dtype": "f8"
         }
        },
        {
         "marker": {
          "color": "#EF553B",
          "size": 6
         },
         "mode": "markers",
         "name": "Path 15",
         "showlegend": false,
         "type": "scatter",
         "x": [
          "2006",
          "2011",
          "2016",
          "2021"
         ],
         "y": {
          "bdata": "AAAAAADapkAAAAAAALK2QAAAAAAAOcdAAAAAAACquUA=",
          "dtype": "f8"
         }
        },
        {
         "line": {
          "color": "black",
          "dash": "dot"
         },
         "mode": "lines+markers",
         "showlegend": false,
         "type": "scatter",
         "x": [
          "2006",
          "2011",
          "2016",
          "2021"
         ],
         "y": {
          "bdata": "AAAAAADapkAAAAAAALK2QAAAAAAAOcdAAAAAAAAYsEA=",
          "dtype": "f8"
         }
        },
        {
         "marker": {
          "color": "#EF553B",
          "size": 6
         },
         "mode": "markers",
         "name": "Path 16",
         "showlegend": false,
         "type": "scatter",
         "x": [
          "2006",
          "2011",
          "2016",
          "2021"
         ],
         "y": {
          "bdata": "AAAAAADapkAAAAAAALK2QAAAAAAAOcdAAAAAAAAYsEA=",
          "dtype": "f8"
         }
        },
        {
         "line": {
          "color": "black",
          "dash": "dot"
         },
         "mode": "lines+markers",
         "showlegend": false,
         "type": "scatter",
         "x": [
          "2006",
          "2011",
          "2016",
          "2021"
         ],
         "y": {
          "bdata": "AAAAAACcs0AAAAAAAKW5QAAAAAAAIKdAAAAAAAAwq0A=",
          "dtype": "f8"
         }
        },
        {
         "marker": {
          "color": "#AB63FA",
          "size": 6
         },
         "mode": "markers",
         "name": "Path 19",
         "showlegend": false,
         "type": "scatter",
         "x": [
          "2006",
          "2011",
          "2016",
          "2021"
         ],
         "y": {
          "bdata": "AAAAAACcs0AAAAAAAKW5QAAAAAAAIKdAAAAAAAAwq0A=",
          "dtype": "f8"
         }
        },
        {
         "line": {
          "color": "black",
          "dash": "dot"
         },
         "mode": "lines+markers",
         "showlegend": false,
         "type": "scatter",
         "x": [
          "2006",
          "2011",
          "2016",
          "2021"
         ],
         "y": {
          "bdata": "AAAAAAAUrkAAAAAAAGm5QAAAAAAAuK9AAAAAAACQsEA=",
          "dtype": "f8"
         }
        },
        {
         "marker": {
          "color": "#AB63FA",
          "size": 6
         },
         "mode": "markers",
         "name": "Path 20",
         "showlegend": false,
         "type": "scatter",
         "x": [
          "2006",
          "2011",
          "2016",
          "2021"
         ],
         "y": {
          "bdata": "AAAAAAAUrkAAAAAAAGm5QAAAAAAAuK9AAAAAAACQsEA=",
          "dtype": "f8"
         }
        },
        {
         "line": {
          "color": "black",
          "dash": "dot"
         },
         "mode": "lines+markers",
         "showlegend": false,
         "type": "scatter",
         "x": [
          "2006",
          "2011",
          "2016",
          "2021"
         ],
         "y": {
          "bdata": "AAAAAABGpEAAAAAAAD6sQAAAAAAAJLhAAAAAAAC9ukA=",
          "dtype": "f8"
         }
        },
        {
         "marker": {
          "color": "#EF553B",
          "size": 6
         },
         "mode": "markers",
         "name": "Path 24",
         "showlegend": false,
         "type": "scatter",
         "x": [
          "2006",
          "2011",
          "2016",
          "2021"
         ],
         "y": {
          "bdata": "AAAAAABGpEAAAAAAAD6sQAAAAAAAJLhAAAAAAAC9ukA=",
          "dtype": "f8"
         }
        },
        {
         "line": {
          "color": "black",
          "dash": "dot"
         },
         "mode": "lines+markers",
         "showlegend": false,
         "type": "scatter",
         "x": [
          "2006",
          "2011",
          "2016",
          "2021"
         ],
         "y": {
          "bdata": "AAAAAACOrEAAAAAAAMKvQAAAAAAAObJAAAAAAAAMp0A=",
          "dtype": "f8"
         }
        },
        {
         "marker": {
          "color": "#EF553B",
          "size": 6
         },
         "mode": "markers",
         "name": "Path 25",
         "showlegend": false,
         "type": "scatter",
         "x": [
          "2006",
          "2011",
          "2016",
          "2021"
         ],
         "y": {
          "bdata": "AAAAAACOrEAAAAAAAMKvQAAAAAAAObJAAAAAAAAMp0A=",
          "dtype": "f8"
         }
        },
        {
         "line": {
          "color": "black",
          "dash": "dot"
         },
         "mode": "lines+markers",
         "showlegend": false,
         "type": "scatter",
         "x": [
          "2006",
          "2011",
          "2016",
          "2021"
         ],
         "y": {
          "bdata": "AAAAAACOrEAAAAAAAMKvQAAAAAAAObJAAAAAAAAUtEA=",
          "dtype": "f8"
         }
        },
        {
         "marker": {
          "color": "#EF553B",
          "size": 6
         },
         "mode": "markers",
         "name": "Path 26",
         "showlegend": false,
         "type": "scatter",
         "x": [
          "2006",
          "2011",
          "2016",
          "2021"
         ],
         "y": {
          "bdata": "AAAAAACOrEAAAAAAAMKvQAAAAAAAObJAAAAAAAAUtEA=",
          "dtype": "f8"
         }
        },
        {
         "line": {
          "color": "black",
          "dash": "dot"
         },
         "mode": "lines+markers",
         "showlegend": false,
         "type": "scatter",
         "x": [
          "2006",
          "2011",
          "2016",
          "2021"
         ],
         "y": {
          "bdata": "AAAAAACEskAAAAAAAAqkQAAAAAAAvKFAAAAAAACwqEA=",
          "dtype": "f8"
         }
        },
        {
         "marker": {
          "color": "#AB63FA",
          "size": 6
         },
         "mode": "markers",
         "name": "Path 44",
         "showlegend": false,
         "type": "scatter",
         "x": [
          "2006",
          "2011",
          "2016",
          "2021"
         ],
         "y": {
          "bdata": "AAAAAACEskAAAAAAAAqkQAAAAAAAvKFAAAAAAACwqEA=",
          "dtype": "f8"
         }
        },
        {
         "line": {
          "color": "black",
          "dash": "dot"
         },
         "mode": "lines+markers",
         "showlegend": false,
         "type": "scatter",
         "x": [
          "2006",
          "2011",
          "2016",
          "2021"
         ],
         "y": {
          "bdata": "AAAAAACEskAAAAAAAOinQAAAAAAA3qdAAAAAAAAks0A=",
          "dtype": "f8"
         }
        },
        {
         "marker": {
          "color": "#AB63FA",
          "size": 6
         },
         "mode": "markers",
         "name": "Path 45",
         "showlegend": false,
         "type": "scatter",
         "x": [
          "2006",
          "2011",
          "2016",
          "2021"
         ],
         "y": {
          "bdata": "AAAAAACEskAAAAAAAOinQAAAAAAA3qdAAAAAAAAks0A=",
          "dtype": "f8"
         }
        },
        {
         "line": {
          "color": "black",
          "dash": "dot"
         },
         "mode": "lines+markers",
         "showlegend": false,
         "type": "scatter",
         "x": [
          "2006",
          "2011",
          "2016",
          "2021"
         ],
         "y": {
          "bdata": "AAAAAABgo0AAAAAAAIawQAAAAAAASbZAAAAAAAAGuEA=",
          "dtype": "f8"
         }
        },
        {
         "marker": {
          "color": "#EF553B",
          "size": 6
         },
         "mode": "markers",
         "name": "Path 46",
         "showlegend": false,
         "type": "scatter",
         "x": [
          "2006",
          "2011",
          "2016",
          "2021"
         ],
         "y": {
          "bdata": "AAAAAABgo0AAAAAAAIawQAAAAAAASbZAAAAAAAAGuEA=",
          "dtype": "f8"
         }
        },
        {
         "line": {
          "color": "black",
          "dash": "dot"
         },
         "mode": "lines+markers",
         "showlegend": false,
         "type": "scatter",
         "x": [
          "2006",
          "2011",
          "2016",
          "2021"
         ],
         "y": {
          "bdata": "AAAAAADEqEAAAAAAABSuQAAAAAAA/7RAAAAAAAAApEA=",
          "dtype": "f8"
         }
        },
        {
         "marker": {
          "color": "#EF553B",
          "size": 6
         },
         "mode": "markers",
         "name": "Path 79",
         "showlegend": false,
         "type": "scatter",
         "x": [
          "2006",
          "2011",
          "2016",
          "2021"
         ],
         "y": {
          "bdata": "AAAAAADEqEAAAAAAABSuQAAAAAAA/7RAAAAAAAAApEA=",
          "dtype": "f8"
         }
        },
        {
         "line": {
          "color": "black",
          "dash": "dot"
         },
         "mode": "lines+markers",
         "showlegend": false,
         "type": "scatter",
         "x": [
          "2006",
          "2011",
          "2016",
          "2021"
         ],
         "y": {
          "bdata": "AAAAAADEqEAAAAAAABSuQAAAAAAA/7RAAAAAAAAitUA=",
          "dtype": "f8"
         }
        },
        {
         "marker": {
          "color": "#EF553B",
          "size": 6
         },
         "mode": "markers",
         "name": "Path 80",
         "showlegend": false,
         "type": "scatter",
         "x": [
          "2006",
          "2011",
          "2016",
          "2021"
         ],
         "y": {
          "bdata": "AAAAAADEqEAAAAAAABSuQAAAAAAA/7RAAAAAAAAitUA=",
          "dtype": "f8"
         }
        },
        {
         "line": {
          "color": "black",
          "dash": "dot"
         },
         "mode": "lines+markers",
         "showlegend": false,
         "type": "scatter",
         "x": [
          "2006",
          "2011",
          "2016",
          "2021"
         ],
         "y": {
          "bdata": "AAAAAAC/s0AAAAAAAKi2QAAAAAAA+KZAAAAAAACasEA=",
          "dtype": "f8"
         }
        },
        {
         "marker": {
          "color": "#AB63FA",
          "size": 6
         },
         "mode": "markers",
         "name": "Path 81",
         "showlegend": false,
         "type": "scatter",
         "x": [
          "2006",
          "2011",
          "2016",
          "2021"
         ],
         "y": {
          "bdata": "AAAAAAC/s0AAAAAAAKi2QAAAAAAA+KZAAAAAAACasEA=",
          "dtype": "f8"
         }
        },
        {
         "line": {
          "color": "black",
          "dash": "dot"
         },
         "mode": "lines+markers",
         "showlegend": false,
         "type": "scatter",
         "x": [
          "2006",
          "2011",
          "2016",
          "2021"
         ],
         "y": {
          "bdata": "AAAAAAC/s0AAAAAAAKi2QAAAAAAAgKtAAAAAAADgr0A=",
          "dtype": "f8"
         }
        },
        {
         "marker": {
          "color": "#AB63FA",
          "size": 6
         },
         "mode": "markers",
         "name": "Path 82",
         "showlegend": false,
         "type": "scatter",
         "x": [
          "2006",
          "2011",
          "2016",
          "2021"
         ],
         "y": {
          "bdata": "AAAAAAC/s0AAAAAAAKi2QAAAAAAAgKtAAAAAAADgr0A=",
          "dtype": "f8"
         }
        },
        {
         "line": {
          "color": "black",
          "dash": "dot"
         },
         "mode": "lines+markers",
         "showlegend": false,
         "type": "scatter",
         "x": [
          "2006",
          "2011",
          "2016",
          "2021"
         ],
         "y": {
          "bdata": "AAAAAABtsEAAAAAAAJiyQAAAAAAAmqpAAAAAAADiqEA=",
          "dtype": "f8"
         }
        },
        {
         "marker": {
          "color": "#AB63FA",
          "size": 6
         },
         "mode": "markers",
         "name": "Path 83",
         "showlegend": false,
         "type": "scatter",
         "x": [
          "2006",
          "2011",
          "2016",
          "2021"
         ],
         "y": {
          "bdata": "AAAAAABtsEAAAAAAAJiyQAAAAAAAmqpAAAAAAADiqEA=",
          "dtype": "f8"
         }
        },
        {
         "line": {
          "color": "black",
          "dash": "dot"
         },
         "mode": "lines+markers",
         "showlegend": false,
         "type": "scatter",
         "x": [
          "2006",
          "2011",
          "2016",
          "2021"
         ],
         "y": {
          "bdata": "AAAAAABtsEAAAAAAAJiyQAAAAAAAsqFAAAAAAABMqEA=",
          "dtype": "f8"
         }
        },
        {
         "marker": {
          "color": "#AB63FA",
          "size": 6
         },
         "mode": "markers",
         "name": "Path 84",
         "showlegend": false,
         "type": "scatter",
         "x": [
          "2006",
          "2011",
          "2016",
          "2021"
         ],
         "y": {
          "bdata": "AAAAAABtsEAAAAAAAJiyQAAAAAAAsqFAAAAAAABMqEA=",
          "dtype": "f8"
         }
        },
        {
         "line": {
          "color": "black",
          "dash": "dot"
         },
         "mode": "lines+markers",
         "showlegend": false,
         "type": "scatter",
         "x": [
          "2006",
          "2011",
          "2016",
          "2021"
         ],
         "y": {
          "bdata": "AAAAAACuukAAAAAAAE+6QAAAAAAAzJVAAAAAAADklkA=",
          "dtype": "f8"
         }
        },
        {
         "marker": {
          "color": "#AB63FA",
          "size": 6
         },
         "mode": "markers",
         "name": "Path 86",
         "showlegend": false,
         "type": "scatter",
         "x": [
          "2006",
          "2011",
          "2016",
          "2021"
         ],
         "y": {
          "bdata": "AAAAAACuukAAAAAAAE+6QAAAAAAAzJVAAAAAAADklkA=",
          "dtype": "f8"
         }
        },
        {
         "line": {
          "color": "black",
          "dash": "dot"
         },
         "mode": "lines+markers",
         "showlegend": false,
         "type": "scatter",
         "x": [
          "2006",
          "2011",
          "2016",
          "2021"
         ],
         "y": {
          "bdata": "AAAAAADWr0AAAAAAAAeyQAAAAAAASbFAAAAAAABesEA=",
          "dtype": "f8"
         }
        },
        {
         "marker": {
          "color": "#EF553B",
          "size": 6
         },
         "mode": "markers",
         "name": "Path 88",
         "showlegend": false,
         "type": "scatter",
         "x": [
          "2006",
          "2011",
          "2016",
          "2021"
         ],
         "y": {
          "bdata": "AAAAAADWr0AAAAAAAAeyQAAAAAAASbFAAAAAAABesEA=",
          "dtype": "f8"
         }
        },
        {
         "line": {
          "color": "black",
          "dash": "dot"
         },
         "mode": "lines+markers",
         "showlegend": false,
         "type": "scatter",
         "x": [
          "2006",
          "2011",
          "2016",
          "2021"
         ],
         "y": {
          "bdata": "AAAAAAAIq0AAAAAAAPKyQAAAAAAAnbJAAAAAAAD0ukA=",
          "dtype": "f8"
         }
        },
        {
         "marker": {
          "color": "#EF553B",
          "size": 6
         },
         "mode": "markers",
         "name": "Path 159",
         "showlegend": false,
         "type": "scatter",
         "x": [
          "2006",
          "2011",
          "2016",
          "2021"
         ],
         "y": {
          "bdata": "AAAAAAAIq0AAAAAAAPKyQAAAAAAAnbJAAAAAAAD0ukA=",
          "dtype": "f8"
         }
        },
        {
         "line": {
          "color": "black",
          "dash": "dot"
         },
         "mode": "lines+markers",
         "showlegend": false,
         "type": "scatter",
         "x": [
          "2006",
          "2011",
          "2016",
          "2021"
         ],
         "y": {
          "bdata": "AAAAAADmpEAAAAAAAPqpQAAAAAAA9qhAAAAAAAAttEA=",
          "dtype": "f8"
         }
        },
        {
         "marker": {
          "color": "#EF553B",
          "size": 6
         },
         "mode": "markers",
         "name": "Path 171",
         "showlegend": false,
         "type": "scatter",
         "x": [
          "2006",
          "2011",
          "2016",
          "2021"
         ],
         "y": {
          "bdata": "AAAAAADmpEAAAAAAAPqpQAAAAAAA9qhAAAAAAAAttEA=",
          "dtype": "f8"
         }
        },
        {
         "line": {
          "color": "black",
          "dash": "dot"
         },
         "mode": "lines+markers",
         "showlegend": false,
         "type": "scatter",
         "x": [
          "2006",
          "2011",
          "2016",
          "2021"
         ],
         "y": {
          "bdata": "AAAAAABiq0AAAAAAAFmwQAAAAAAAUI5AAAAAAADIjkA=",
          "dtype": "f8"
         }
        },
        {
         "marker": {
          "color": "#EF553B",
          "size": 6
         },
         "mode": "markers",
         "name": "Path 252",
         "showlegend": false,
         "type": "scatter",
         "x": [
          "2006",
          "2011",
          "2016",
          "2021"
         ],
         "y": {
          "bdata": "AAAAAABiq0AAAAAAAFmwQAAAAAAAUI5AAAAAAADIjkA=",
          "dtype": "f8"
         }
        },
        {
         "line": {
          "color": "black",
          "dash": "dot"
         },
         "mode": "lines+markers",
         "showlegend": false,
         "type": "scatter",
         "x": [
          "2006",
          "2011",
          "2016",
          "2021"
         ],
         "y": {
          "bdata": "AAAAAABiq0AAAAAAAFmwQAAAAAAAZ7tAAAAAAABAsEA=",
          "dtype": "f8"
         }
        },
        {
         "marker": {
          "color": "#EF553B",
          "size": 6
         },
         "mode": "markers",
         "name": "Path 253",
         "showlegend": false,
         "type": "scatter",
         "x": [
          "2006",
          "2011",
          "2016",
          "2021"
         ],
         "y": {
          "bdata": "AAAAAABiq0AAAAAAAFmwQAAAAAAAZ7tAAAAAAABAsEA=",
          "dtype": "f8"
         }
        },
        {
         "line": {
          "color": "black",
          "dash": "dot"
         },
         "mode": "lines+markers",
         "showlegend": false,
         "type": "scatter",
         "x": [
          "2006",
          "2011",
          "2016",
          "2021"
         ],
         "y": {
          "bdata": "AAAAAABiq0AAAAAAAFmwQAAAAAAAZ7tAAAAAAAAauEA=",
          "dtype": "f8"
         }
        },
        {
         "marker": {
          "color": "#EF553B",
          "size": 6
         },
         "mode": "markers",
         "name": "Path 254",
         "showlegend": false,
         "type": "scatter",
         "x": [
          "2006",
          "2011",
          "2016",
          "2021"
         ],
         "y": {
          "bdata": "AAAAAABiq0AAAAAAAFmwQAAAAAAAZ7tAAAAAAAAauEA=",
          "dtype": "f8"
         }
        },
        {
         "line": {
          "color": "black",
          "dash": "dot"
         },
         "mode": "lines+markers",
         "showlegend": false,
         "type": "scatter",
         "x": [
          "2006",
          "2011",
          "2016",
          "2021"
         ],
         "y": {
          "bdata": "AAAAAACopkAAAAAAAFatQAAAAAAA/LJAAAAAAAA2tUA=",
          "dtype": "f8"
         }
        },
        {
         "marker": {
          "color": "#EF553B",
          "size": 6
         },
         "mode": "markers",
         "name": "Path 274",
         "showlegend": false,
         "type": "scatter",
         "x": [
          "2006",
          "2011",
          "2016",
          "2021"
         ],
         "y": {
          "bdata": "AAAAAACopkAAAAAAAFatQAAAAAAA/LJAAAAAAAA2tUA=",
          "dtype": "f8"
         }
        },
        {
         "line": {
          "color": "black",
          "dash": "dot"
         },
         "mode": "lines+markers",
         "showlegend": false,
         "type": "scatter",
         "x": [
          "2006",
          "2011",
          "2016",
          "2021"
         ],
         "y": {
          "bdata": "AAAAAAASsUAAAAAAAG60QAAAAAAAMLtAAAAAAAC4oEA=",
          "dtype": "f8"
         }
        },
        {
         "marker": {
          "color": "#AB63FA",
          "size": 6
         },
         "mode": "markers",
         "name": "Path 384",
         "showlegend": false,
         "type": "scatter",
         "x": [
          "2006",
          "2011",
          "2016",
          "2021"
         ],
         "y": {
          "bdata": "AAAAAAASsUAAAAAAAG60QAAAAAAAMLtAAAAAAAC4oEA=",
          "dtype": "f8"
         }
        },
        {
         "line": {
          "color": "black",
          "dash": "dot"
         },
         "mode": "lines+markers",
         "showlegend": false,
         "type": "scatter",
         "x": [
          "2006",
          "2011",
          "2016",
          "2021"
         ],
         "y": {
          "bdata": "AAAAAAASsUAAAAAAAG60QAAAAAAAMLtAAAAAAABkrkA=",
          "dtype": "f8"
         }
        },
        {
         "marker": {
          "color": "#AB63FA",
          "size": 6
         },
         "mode": "markers",
         "name": "Path 385",
         "showlegend": false,
         "type": "scatter",
         "x": [
          "2006",
          "2011",
          "2016",
          "2021"
         ],
         "y": {
          "bdata": "AAAAAAASsUAAAAAAAG60QAAAAAAAMLtAAAAAAABkrkA=",
          "dtype": "f8"
         }
        },
        {
         "line": {
          "color": "black",
          "dash": "dot"
         },
         "mode": "lines+markers",
         "showlegend": false,
         "type": "scatter",
         "x": [
          "2006",
          "2011",
          "2016",
          "2021"
         ],
         "y": {
          "bdata": "AAAAAAASsUAAAAAAAG60QAAAAAAAMLtAAAAAAABQjkA=",
          "dtype": "f8"
         }
        },
        {
         "marker": {
          "color": "#AB63FA",
          "size": 6
         },
         "mode": "markers",
         "name": "Path 386",
         "showlegend": false,
         "type": "scatter",
         "x": [
          "2006",
          "2011",
          "2016",
          "2021"
         ],
         "y": {
          "bdata": "AAAAAAASsUAAAAAAAG60QAAAAAAAMLtAAAAAAABQjkA=",
          "dtype": "f8"
         }
        },
        {
         "line": {
          "color": "black",
          "dash": "dot"
         },
         "mode": "lines+markers",
         "showlegend": false,
         "type": "scatter",
         "x": [
          "2006",
          "2011",
          "2016",
          "2021"
         ],
         "y": {
          "bdata": "AAAAAADQq0AAAAAAAJqlQAAAAAAA1LJAAAAAAADMqkA=",
          "dtype": "f8"
         }
        },
        {
         "marker": {
          "color": "#EF553B",
          "size": 6
         },
         "mode": "markers",
         "name": "Path 402",
         "showlegend": false,
         "type": "scatter",
         "x": [
          "2006",
          "2011",
          "2016",
          "2021"
         ],
         "y": {
          "bdata": "AAAAAADQq0AAAAAAAJqlQAAAAAAA1LJAAAAAAADMqkA=",
          "dtype": "f8"
         }
        },
        {
         "line": {
          "color": "black",
          "dash": "dot"
         },
         "mode": "lines+markers",
         "showlegend": false,
         "type": "scatter",
         "x": [
          "2006",
          "2011",
          "2016",
          "2021"
         ],
         "y": {
          "bdata": "AAAAAADQq0AAAAAAAJqlQAAAAAAA1LJAAAAAAAAuo0A=",
          "dtype": "f8"
         }
        },
        {
         "marker": {
          "color": "#EF553B",
          "size": 6
         },
         "mode": "markers",
         "name": "Path 403",
         "showlegend": false,
         "type": "scatter",
         "x": [
          "2006",
          "2011",
          "2016",
          "2021"
         ],
         "y": {
          "bdata": "AAAAAADQq0AAAAAAAJqlQAAAAAAA1LJAAAAAAAAuo0A=",
          "dtype": "f8"
         }
        },
        {
         "line": {
          "color": "black",
          "dash": "dot"
         },
         "mode": "lines+markers",
         "showlegend": false,
         "type": "scatter",
         "x": [
          "2006",
          "2011",
          "2016",
          "2021"
         ],
         "y": {
          "bdata": "AAAAAADoskAAAAAAAFihQAAAAAAAdqFAAAAAAAA+okA=",
          "dtype": "f8"
         }
        },
        {
         "marker": {
          "color": "#AB63FA",
          "size": 6
         },
         "mode": "markers",
         "name": "Path 406",
         "showlegend": false,
         "type": "scatter",
         "x": [
          "2006",
          "2011",
          "2016",
          "2021"
         ],
         "y": {
          "bdata": "AAAAAADoskAAAAAAAFihQAAAAAAAdqFAAAAAAAA+okA=",
          "dtype": "f8"
         }
        },
        {
         "line": {
          "color": "black",
          "dash": "dot"
         },
         "mode": "lines+markers",
         "showlegend": false,
         "type": "scatter",
         "x": [
          "2006",
          "2011",
          "2016",
          "2021"
         ],
         "y": {
          "bdata": "AAAAAADoskAAAAAAAHCnQAAAAAAAQKpAAAAAAAByqkA=",
          "dtype": "f8"
         }
        },
        {
         "marker": {
          "color": "#AB63FA",
          "size": 6
         },
         "mode": "markers",
         "name": "Path 407",
         "showlegend": false,
         "type": "scatter",
         "x": [
          "2006",
          "2011",
          "2016",
          "2021"
         ],
         "y": {
          "bdata": "AAAAAADoskAAAAAAAHCnQAAAAAAAQKpAAAAAAAByqkA=",
          "dtype": "f8"
         }
        },
        {
         "line": {
          "color": "black",
          "dash": "dot"
         },
         "mode": "lines+markers",
         "showlegend": false,
         "type": "scatter",
         "x": [
          "2006",
          "2011",
          "2016",
          "2021"
         ],
         "y": {
          "bdata": "AAAAAADltUAAAAAAAACeQAAAAAAAKJ5AAAAAAAA4nUA=",
          "dtype": "f8"
         }
        },
        {
         "marker": {
          "color": "#AB63FA",
          "size": 6
         },
         "mode": "markers",
         "name": "Path 408",
         "showlegend": false,
         "type": "scatter",
         "x": [
          "2006",
          "2011",
          "2016",
          "2021"
         ],
         "y": {
          "bdata": "AAAAAADltUAAAAAAAACeQAAAAAAAKJ5AAAAAAAA4nUA=",
          "dtype": "f8"
         }
        },
        {
         "line": {
          "color": "black",
          "dash": "dot"
         },
         "mode": "lines+markers",
         "showlegend": false,
         "type": "scatter",
         "x": [
          "2006",
          "2011",
          "2016",
          "2021"
         ],
         "y": {
          "bdata": "AAAAAADltUAAAAAAADSiQAAAAAAAsqFAAAAAAACUoUA=",
          "dtype": "f8"
         }
        },
        {
         "marker": {
          "color": "#AB63FA",
          "size": 6
         },
         "mode": "markers",
         "name": "Path 409",
         "showlegend": false,
         "type": "scatter",
         "x": [
          "2006",
          "2011",
          "2016",
          "2021"
         ],
         "y": {
          "bdata": "AAAAAADltUAAAAAAADSiQAAAAAAAsqFAAAAAAACUoUA=",
          "dtype": "f8"
         }
        },
        {
         "line": {
          "color": "black",
          "dash": "dot"
         },
         "mode": "lines+markers",
         "showlegend": false,
         "type": "scatter",
         "x": [
          "2006",
          "2011",
          "2016",
          "2021"
         ],
         "y": {
          "bdata": "AAAAAADltUAAAAAAAASfQAAAAAAAeqJAAAAAAACYokA=",
          "dtype": "f8"
         }
        },
        {
         "marker": {
          "color": "#AB63FA",
          "size": 6
         },
         "mode": "markers",
         "name": "Path 410",
         "showlegend": false,
         "type": "scatter",
         "x": [
          "2006",
          "2011",
          "2016",
          "2021"
         ],
         "y": {
          "bdata": "AAAAAADltUAAAAAAAASfQAAAAAAAeqJAAAAAAACYokA=",
          "dtype": "f8"
         }
        },
        {
         "line": {
          "color": "black",
          "dash": "dot"
         },
         "mode": "lines+markers",
         "showlegend": false,
         "type": "scatter",
         "x": [
          "2006",
          "2011",
          "2016",
          "2021"
         ],
         "y": {
          "bdata": "AAAAAABGrkAAAAAAAL+zQAAAAAAAEHhAAAAAAAAQeEA=",
          "dtype": "f8"
         }
        },
        {
         "marker": {
          "color": "#EF553B",
          "size": 6
         },
         "mode": "markers",
         "name": "Path 411",
         "showlegend": false,
         "type": "scatter",
         "x": [
          "2006",
          "2011",
          "2016",
          "2021"
         ],
         "y": {
          "bdata": "AAAAAABGrkAAAAAAAL+zQAAAAAAAEHhAAAAAAAAQeEA=",
          "dtype": "f8"
         }
        },
        {
         "line": {
          "color": "black",
          "dash": "dot"
         },
         "mode": "lines+markers",
         "showlegend": false,
         "type": "scatter",
         "x": [
          "2006",
          "2011",
          "2016",
          "2021"
         ],
         "y": {
          "bdata": "AAAAAABGrkAAAAAAAL+zQAAAAAAAx7VAAAAAAAC4ikA=",
          "dtype": "f8"
         }
        },
        {
         "marker": {
          "color": "#EF553B",
          "size": 6
         },
         "mode": "markers",
         "name": "Path 412",
         "showlegend": false,
         "type": "scatter",
         "x": [
          "2006",
          "2011",
          "2016",
          "2021"
         ],
         "y": {
          "bdata": "AAAAAABGrkAAAAAAAL+zQAAAAAAAx7VAAAAAAAC4ikA=",
          "dtype": "f8"
         }
        },
        {
         "line": {
          "color": "black",
          "dash": "dot"
         },
         "mode": "lines+markers",
         "showlegend": false,
         "type": "scatter",
         "x": [
          "2006",
          "2011",
          "2016",
          "2021"
         ],
         "y": {
          "bdata": "AAAAAABGrkAAAAAAAL+zQAAAAAAAx7VAAAAAAABEpkA=",
          "dtype": "f8"
         }
        },
        {
         "marker": {
          "color": "#EF553B",
          "size": 6
         },
         "mode": "markers",
         "name": "Path 413",
         "showlegend": false,
         "type": "scatter",
         "x": [
          "2006",
          "2011",
          "2016",
          "2021"
         ],
         "y": {
          "bdata": "AAAAAABGrkAAAAAAAL+zQAAAAAAAx7VAAAAAAABEpkA=",
          "dtype": "f8"
         }
        },
        {
         "line": {
          "color": "black",
          "dash": "dot"
         },
         "mode": "lines+markers",
         "showlegend": false,
         "type": "scatter",
         "x": [
          "2006",
          "2011",
          "2016",
          "2021"
         ],
         "y": {
          "bdata": "AAAAAABGrkAAAAAAAL+zQAAAAAAAx7VAAAAAAAD0oEA=",
          "dtype": "f8"
         }
        },
        {
         "marker": {
          "color": "#EF553B",
          "size": 6
         },
         "mode": "markers",
         "name": "Path 414",
         "showlegend": false,
         "type": "scatter",
         "x": [
          "2006",
          "2011",
          "2016",
          "2021"
         ],
         "y": {
          "bdata": "AAAAAABGrkAAAAAAAL+zQAAAAAAAx7VAAAAAAAD0oEA=",
          "dtype": "f8"
         }
        },
        {
         "line": {
          "color": "#636EFA"
         },
         "mode": "lines+markers",
         "name": "Cluster 0",
         "type": "scatter",
         "x": [
          "2006",
          "2011",
          "2016",
          "2021"
         ],
         "y": {
          "bdata": "kYUsZCFOoEANIg9cRdugQJQlsGk/kqBAG5GNyEaQoEA=",
          "dtype": "f8"
         }
        },
        {
         "line": {
          "color": "#EF553B"
         },
         "mode": "lines+markers",
         "name": "Cluster 1",
         "type": "scatter",
         "x": [
          "2006",
          "2011",
          "2016",
          "2021"
         ],
         "y": {
          "bdata": "q6qqqqrKqEBDeQ3lNT6lQEYXXXSR/KdAyhXE5Aq/p0A=",
          "dtype": "f8"
         }
        },
        {
         "line": {
          "color": "#AB63FA"
         },
         "mode": "lines+markers",
         "name": "Cluster 3",
         "type": "scatter",
         "x": [
          "2006",
          "2011",
          "2016",
          "2021"
         ],
         "y": {
          "bdata": "SZIkSZJZs0DT0tLSUim0QFVVVVUVsblAq6qqqqpOt0A=",
          "dtype": "f8"
         }
        }
       ],
       "layout": {
        "height": 500,
        "legend": {
         "title": {
          "text": "Legend"
         }
        },
        "template": {
         "data": {
          "bar": [
           {
            "error_x": {
             "color": "#2a3f5f"
            },
            "error_y": {
             "color": "#2a3f5f"
            },
            "marker": {
             "line": {
              "color": "#E5ECF6",
              "width": 0.5
             },
             "pattern": {
              "fillmode": "overlay",
              "size": 10,
              "solidity": 0.2
             }
            },
            "type": "bar"
           }
          ],
          "barpolar": [
           {
            "marker": {
             "line": {
              "color": "#E5ECF6",
              "width": 0.5
             },
             "pattern": {
              "fillmode": "overlay",
              "size": 10,
              "solidity": 0.2
             }
            },
            "type": "barpolar"
           }
          ],
          "carpet": [
           {
            "aaxis": {
             "endlinecolor": "#2a3f5f",
             "gridcolor": "white",
             "linecolor": "white",
             "minorgridcolor": "white",
             "startlinecolor": "#2a3f5f"
            },
            "baxis": {
             "endlinecolor": "#2a3f5f",
             "gridcolor": "white",
             "linecolor": "white",
             "minorgridcolor": "white",
             "startlinecolor": "#2a3f5f"
            },
            "type": "carpet"
           }
          ],
          "choropleth": [
           {
            "colorbar": {
             "outlinewidth": 0,
             "ticks": ""
            },
            "type": "choropleth"
           }
          ],
          "contour": [
           {
            "colorbar": {
             "outlinewidth": 0,
             "ticks": ""
            },
            "colorscale": [
             [
              0,
              "#0d0887"
             ],
             [
              0.1111111111111111,
              "#46039f"
             ],
             [
              0.2222222222222222,
              "#7201a8"
             ],
             [
              0.3333333333333333,
              "#9c179e"
             ],
             [
              0.4444444444444444,
              "#bd3786"
             ],
             [
              0.5555555555555556,
              "#d8576b"
             ],
             [
              0.6666666666666666,
              "#ed7953"
             ],
             [
              0.7777777777777778,
              "#fb9f3a"
             ],
             [
              0.8888888888888888,
              "#fdca26"
             ],
             [
              1,
              "#f0f921"
             ]
            ],
            "type": "contour"
           }
          ],
          "contourcarpet": [
           {
            "colorbar": {
             "outlinewidth": 0,
             "ticks": ""
            },
            "type": "contourcarpet"
           }
          ],
          "heatmap": [
           {
            "colorbar": {
             "outlinewidth": 0,
             "ticks": ""
            },
            "colorscale": [
             [
              0,
              "#0d0887"
             ],
             [
              0.1111111111111111,
              "#46039f"
             ],
             [
              0.2222222222222222,
              "#7201a8"
             ],
             [
              0.3333333333333333,
              "#9c179e"
             ],
             [
              0.4444444444444444,
              "#bd3786"
             ],
             [
              0.5555555555555556,
              "#d8576b"
             ],
             [
              0.6666666666666666,
              "#ed7953"
             ],
             [
              0.7777777777777778,
              "#fb9f3a"
             ],
             [
              0.8888888888888888,
              "#fdca26"
             ],
             [
              1,
              "#f0f921"
             ]
            ],
            "type": "heatmap"
           }
          ],
          "histogram": [
           {
            "marker": {
             "pattern": {
              "fillmode": "overlay",
              "size": 10,
              "solidity": 0.2
             }
            },
            "type": "histogram"
           }
          ],
          "histogram2d": [
           {
            "colorbar": {
             "outlinewidth": 0,
             "ticks": ""
            },
            "colorscale": [
             [
              0,
              "#0d0887"
             ],
             [
              0.1111111111111111,
              "#46039f"
             ],
             [
              0.2222222222222222,
              "#7201a8"
             ],
             [
              0.3333333333333333,
              "#9c179e"
             ],
             [
              0.4444444444444444,
              "#bd3786"
             ],
             [
              0.5555555555555556,
              "#d8576b"
             ],
             [
              0.6666666666666666,
              "#ed7953"
             ],
             [
              0.7777777777777778,
              "#fb9f3a"
             ],
             [
              0.8888888888888888,
              "#fdca26"
             ],
             [
              1,
              "#f0f921"
             ]
            ],
            "type": "histogram2d"
           }
          ],
          "histogram2dcontour": [
           {
            "colorbar": {
             "outlinewidth": 0,
             "ticks": ""
            },
            "colorscale": [
             [
              0,
              "#0d0887"
             ],
             [
              0.1111111111111111,
              "#46039f"
             ],
             [
              0.2222222222222222,
              "#7201a8"
             ],
             [
              0.3333333333333333,
              "#9c179e"
             ],
             [
              0.4444444444444444,
              "#bd3786"
             ],
             [
              0.5555555555555556,
              "#d8576b"
             ],
             [
              0.6666666666666666,
              "#ed7953"
             ],
             [
              0.7777777777777778,
              "#fb9f3a"
             ],
             [
              0.8888888888888888,
              "#fdca26"
             ],
             [
              1,
              "#f0f921"
             ]
            ],
            "type": "histogram2dcontour"
           }
          ],
          "mesh3d": [
           {
            "colorbar": {
             "outlinewidth": 0,
             "ticks": ""
            },
            "type": "mesh3d"
           }
          ],
          "parcoords": [
           {
            "line": {
             "colorbar": {
              "outlinewidth": 0,
              "ticks": ""
             }
            },
            "type": "parcoords"
           }
          ],
          "pie": [
           {
            "automargin": true,
            "type": "pie"
           }
          ],
          "scatter": [
           {
            "fillpattern": {
             "fillmode": "overlay",
             "size": 10,
             "solidity": 0.2
            },
            "type": "scatter"
           }
          ],
          "scatter3d": [
           {
            "line": {
             "colorbar": {
              "outlinewidth": 0,
              "ticks": ""
             }
            },
            "marker": {
             "colorbar": {
              "outlinewidth": 0,
              "ticks": ""
             }
            },
            "type": "scatter3d"
           }
          ],
          "scattercarpet": [
           {
            "marker": {
             "colorbar": {
              "outlinewidth": 0,
              "ticks": ""
             }
            },
            "type": "scattercarpet"
           }
          ],
          "scattergeo": [
           {
            "marker": {
             "colorbar": {
              "outlinewidth": 0,
              "ticks": ""
             }
            },
            "type": "scattergeo"
           }
          ],
          "scattergl": [
           {
            "marker": {
             "colorbar": {
              "outlinewidth": 0,
              "ticks": ""
             }
            },
            "type": "scattergl"
           }
          ],
          "scattermap": [
           {
            "marker": {
             "colorbar": {
              "outlinewidth": 0,
              "ticks": ""
             }
            },
            "type": "scattermap"
           }
          ],
          "scattermapbox": [
           {
            "marker": {
             "colorbar": {
              "outlinewidth": 0,
              "ticks": ""
             }
            },
            "type": "scattermapbox"
           }
          ],
          "scatterpolar": [
           {
            "marker": {
             "colorbar": {
              "outlinewidth": 0,
              "ticks": ""
             }
            },
            "type": "scatterpolar"
           }
          ],
          "scatterpolargl": [
           {
            "marker": {
             "colorbar": {
              "outlinewidth": 0,
              "ticks": ""
             }
            },
            "type": "scatterpolargl"
           }
          ],
          "scatterternary": [
           {
            "marker": {
             "colorbar": {
              "outlinewidth": 0,
              "ticks": ""
             }
            },
            "type": "scatterternary"
           }
          ],
          "surface": [
           {
            "colorbar": {
             "outlinewidth": 0,
             "ticks": ""
            },
            "colorscale": [
             [
              0,
              "#0d0887"
             ],
             [
              0.1111111111111111,
              "#46039f"
             ],
             [
              0.2222222222222222,
              "#7201a8"
             ],
             [
              0.3333333333333333,
              "#9c179e"
             ],
             [
              0.4444444444444444,
              "#bd3786"
             ],
             [
              0.5555555555555556,
              "#d8576b"
             ],
             [
              0.6666666666666666,
              "#ed7953"
             ],
             [
              0.7777777777777778,
              "#fb9f3a"
             ],
             [
              0.8888888888888888,
              "#fdca26"
             ],
             [
              1,
              "#f0f921"
             ]
            ],
            "type": "surface"
           }
          ],
          "table": [
           {
            "cells": {
             "fill": {
              "color": "#EBF0F8"
             },
             "line": {
              "color": "white"
             }
            },
            "header": {
             "fill": {
              "color": "#C8D4E3"
             },
             "line": {
              "color": "white"
             }
            },
            "type": "table"
           }
          ]
         },
         "layout": {
          "annotationdefaults": {
           "arrowcolor": "#2a3f5f",
           "arrowhead": 0,
           "arrowwidth": 1
          },
          "autotypenumbers": "strict",
          "coloraxis": {
           "colorbar": {
            "outlinewidth": 0,
            "ticks": ""
           }
          },
          "colorscale": {
           "diverging": [
            [
             0,
             "#8e0152"
            ],
            [
             0.1,
             "#c51b7d"
            ],
            [
             0.2,
             "#de77ae"
            ],
            [
             0.3,
             "#f1b6da"
            ],
            [
             0.4,
             "#fde0ef"
            ],
            [
             0.5,
             "#f7f7f7"
            ],
            [
             0.6,
             "#e6f5d0"
            ],
            [
             0.7,
             "#b8e186"
            ],
            [
             0.8,
             "#7fbc41"
            ],
            [
             0.9,
             "#4d9221"
            ],
            [
             1,
             "#276419"
            ]
           ],
           "sequential": [
            [
             0,
             "#0d0887"
            ],
            [
             0.1111111111111111,
             "#46039f"
            ],
            [
             0.2222222222222222,
             "#7201a8"
            ],
            [
             0.3333333333333333,
             "#9c179e"
            ],
            [
             0.4444444444444444,
             "#bd3786"
            ],
            [
             0.5555555555555556,
             "#d8576b"
            ],
            [
             0.6666666666666666,
             "#ed7953"
            ],
            [
             0.7777777777777778,
             "#fb9f3a"
            ],
            [
             0.8888888888888888,
             "#fdca26"
            ],
            [
             1,
             "#f0f921"
            ]
           ],
           "sequentialminus": [
            [
             0,
             "#0d0887"
            ],
            [
             0.1111111111111111,
             "#46039f"
            ],
            [
             0.2222222222222222,
             "#7201a8"
            ],
            [
             0.3333333333333333,
             "#9c179e"
            ],
            [
             0.4444444444444444,
             "#bd3786"
            ],
            [
             0.5555555555555556,
             "#d8576b"
            ],
            [
             0.6666666666666666,
             "#ed7953"
            ],
            [
             0.7777777777777778,
             "#fb9f3a"
            ],
            [
             0.8888888888888888,
             "#fdca26"
            ],
            [
             1,
             "#f0f921"
            ]
           ]
          },
          "colorway": [
           "#636efa",
           "#EF553B",
           "#00cc96",
           "#ab63fa",
           "#FFA15A",
           "#19d3f3",
           "#FF6692",
           "#B6E880",
           "#FF97FF",
           "#FECB52"
          ],
          "font": {
           "color": "#2a3f5f"
          },
          "geo": {
           "bgcolor": "white",
           "lakecolor": "white",
           "landcolor": "#E5ECF6",
           "showlakes": true,
           "showland": true,
           "subunitcolor": "white"
          },
          "hoverlabel": {
           "align": "left"
          },
          "hovermode": "closest",
          "mapbox": {
           "style": "light"
          },
          "paper_bgcolor": "white",
          "plot_bgcolor": "#E5ECF6",
          "polar": {
           "angularaxis": {
            "gridcolor": "white",
            "linecolor": "white",
            "ticks": ""
           },
           "bgcolor": "#E5ECF6",
           "radialaxis": {
            "gridcolor": "white",
            "linecolor": "white",
            "ticks": ""
           }
          },
          "scene": {
           "xaxis": {
            "backgroundcolor": "#E5ECF6",
            "gridcolor": "white",
            "gridwidth": 2,
            "linecolor": "white",
            "showbackground": true,
            "ticks": "",
            "zerolinecolor": "white"
           },
           "yaxis": {
            "backgroundcolor": "#E5ECF6",
            "gridcolor": "white",
            "gridwidth": 2,
            "linecolor": "white",
            "showbackground": true,
            "ticks": "",
            "zerolinecolor": "white"
           },
           "zaxis": {
            "backgroundcolor": "#E5ECF6",
            "gridcolor": "white",
            "gridwidth": 2,
            "linecolor": "white",
            "showbackground": true,
            "ticks": "",
            "zerolinecolor": "white"
           }
          },
          "shapedefaults": {
           "line": {
            "color": "#2a3f5f"
           }
          },
          "ternary": {
           "aaxis": {
            "gridcolor": "white",
            "linecolor": "white",
            "ticks": ""
           },
           "baxis": {
            "gridcolor": "white",
            "linecolor": "white",
            "ticks": ""
           },
           "bgcolor": "#E5ECF6",
           "caxis": {
            "gridcolor": "white",
            "linecolor": "white",
            "ticks": ""
           }
          },
          "title": {
           "x": 0.05
          },
          "xaxis": {
           "automargin": true,
           "gridcolor": "white",
           "linecolor": "white",
           "ticks": "",
           "title": {
            "standoff": 15
           },
           "zerolinecolor": "white",
           "zerolinewidth": 2
          },
          "yaxis": {
           "automargin": true,
           "gridcolor": "white",
           "linecolor": "white",
           "ticks": "",
           "title": {
            "standoff": 15
           },
           "zerolinecolor": "white",
           "zerolinewidth": 2
          }
         }
        },
        "title": {
         "text": "Feature occupied_private_dwellings"
        },
        "width": 700,
        "xaxis": {
         "tickangle": 45,
         "title": {
          "text": "Year"
         }
        },
        "yaxis": {
         "title": {
          "text": "Value"
         }
        }
       }
      }
     },
     "metadata": {},
     "output_type": "display_data"
    },
    {
     "data": {
      "application/vnd.plotly.v1+json": {
       "config": {
        "plotlyServerURL": "https://plot.ly"
       },
       "data": [
        {
         "line": {
          "color": "black",
          "dash": "dot"
         },
         "mode": "lines+markers",
         "showlegend": false,
         "type": "scatter",
         "x": [
          "2006",
          "2011",
          "2016",
          "2021"
         ],
         "y": {
          "bdata": "AAAAAAAAFEAAAAAAAAAAAAAAAAAAAAAAAAAAAAAAAAA=",
          "dtype": "f8"
         }
        },
        {
         "marker": {
          "color": "#636EFA",
          "size": 6
         },
         "mode": "markers",
         "name": "Path 8",
         "showlegend": false,
         "type": "scatter",
         "x": [
          "2006",
          "2011",
          "2016",
          "2021"
         ],
         "y": {
          "bdata": "AAAAAAAAFEAAAAAAAAAAAAAAAAAAAAAAAAAAAAAAAAA=",
          "dtype": "f8"
         }
        },
        {
         "line": {
          "color": "black",
          "dash": "dot"
         },
         "mode": "lines+markers",
         "showlegend": false,
         "type": "scatter",
         "x": [
          "2006",
          "2011",
          "2016",
          "2021"
         ],
         "y": {
          "bdata": "AAAAAAAAFEAAAAAAAAAAAAAAAAAAAAAAAAAAAAAAFEA=",
          "dtype": "f8"
         }
        },
        {
         "marker": {
          "color": "#636EFA",
          "size": 6
         },
         "mode": "markers",
         "name": "Path 9",
         "showlegend": false,
         "type": "scatter",
         "x": [
          "2006",
          "2011",
          "2016",
          "2021"
         ],
         "y": {
          "bdata": "AAAAAAAAFEAAAAAAAAAAAAAAAAAAAAAAAAAAAAAAFEA=",
          "dtype": "f8"
         }
        },
        {
         "line": {
          "color": "black",
          "dash": "dot"
         },
         "mode": "lines+markers",
         "showlegend": false,
         "type": "scatter",
         "x": [
          "2006",
          "2011",
          "2016",
          "2021"
         ],
         "y": {
          "bdata": "AAAAAAAAJEAAAAAAAAAkQAAAAAAAACRAAAAAAAAAAAA=",
          "dtype": "f8"
         }
        },
        {
         "marker": {
          "color": "#636EFA",
          "size": 6
         },
         "mode": "markers",
         "name": "Path 11",
         "showlegend": false,
         "type": "scatter",
         "x": [
          "2006",
          "2011",
          "2016",
          "2021"
         ],
         "y": {
          "bdata": "AAAAAAAAJEAAAAAAAAAkQAAAAAAAACRAAAAAAAAAAAA=",
          "dtype": "f8"
         }
        },
        {
         "line": {
          "color": "black",
          "dash": "dot"
         },
         "mode": "lines+markers",
         "showlegend": false,
         "type": "scatter",
         "x": [
          "2006",
          "2011",
          "2016",
          "2021"
         ],
         "y": {
          "bdata": "AAAAAAAAFEAAAAAAAAAUQAAAAAAAACRAAAAAAAAAAAA=",
          "dtype": "f8"
         }
        },
        {
         "marker": {
          "color": "#EF553B",
          "size": 6
         },
         "mode": "markers",
         "name": "Path 14",
         "showlegend": false,
         "type": "scatter",
         "x": [
          "2006",
          "2011",
          "2016",
          "2021"
         ],
         "y": {
          "bdata": "AAAAAAAAFEAAAAAAAAAUQAAAAAAAACRAAAAAAAAAAAA=",
          "dtype": "f8"
         }
        },
        {
         "line": {
          "color": "black",
          "dash": "dot"
         },
         "mode": "lines+markers",
         "showlegend": false,
         "type": "scatter",
         "x": [
          "2006",
          "2011",
          "2016",
          "2021"
         ],
         "y": {
          "bdata": "AAAAAAAAFEAAAAAAAAAUQAAAAAAAACRAAAAAAAAAFEA=",
          "dtype": "f8"
         }
        },
        {
         "marker": {
          "color": "#EF553B",
          "size": 6
         },
         "mode": "markers",
         "name": "Path 15",
         "showlegend": false,
         "type": "scatter",
         "x": [
          "2006",
          "2011",
          "2016",
          "2021"
         ],
         "y": {
          "bdata": "AAAAAAAAFEAAAAAAAAAUQAAAAAAAACRAAAAAAAAAFEA=",
          "dtype": "f8"
         }
        },
        {
         "line": {
          "color": "black",
          "dash": "dot"
         },
         "mode": "lines+markers",
         "showlegend": false,
         "type": "scatter",
         "x": [
          "2006",
          "2011",
          "2016",
          "2021"
         ],
         "y": {
          "bdata": "AAAAAAAAFEAAAAAAAAAUQAAAAAAAACRAAAAAAAAAAAA=",
          "dtype": "f8"
         }
        },
        {
         "marker": {
          "color": "#EF553B",
          "size": 6
         },
         "mode": "markers",
         "name": "Path 16",
         "showlegend": false,
         "type": "scatter",
         "x": [
          "2006",
          "2011",
          "2016",
          "2021"
         ],
         "y": {
          "bdata": "AAAAAAAAFEAAAAAAAAAUQAAAAAAAACRAAAAAAAAAAAA=",
          "dtype": "f8"
         }
        },
        {
         "line": {
          "color": "black",
          "dash": "dot"
         },
         "mode": "lines+markers",
         "showlegend": false,
         "type": "scatter",
         "x": [
          "2006",
          "2011",
          "2016",
          "2021"
         ],
         "y": {
          "bdata": "AAAAAAAAFEAAAAAAAAAAAAAAAAAAAAAAAAAAAAAAAAA=",
          "dtype": "f8"
         }
        },
        {
         "marker": {
          "color": "#AB63FA",
          "size": 6
         },
         "mode": "markers",
         "name": "Path 19",
         "showlegend": false,
         "type": "scatter",
         "x": [
          "2006",
          "2011",
          "2016",
          "2021"
         ],
         "y": {
          "bdata": "AAAAAAAAFEAAAAAAAAAAAAAAAAAAAAAAAAAAAAAAAAA=",
          "dtype": "f8"
         }
        },
        {
         "line": {
          "color": "black",
          "dash": "dot"
         },
         "mode": "lines+markers",
         "showlegend": false,
         "type": "scatter",
         "x": [
          "2006",
          "2011",
          "2016",
          "2021"
         ],
         "y": {
          "bdata": "AAAAAAAAAAAAAAAAAAAAAAAAAAAAAAAAAAAAAAAAAAA=",
          "dtype": "f8"
         }
        },
        {
         "marker": {
          "color": "#AB63FA",
          "size": 6
         },
         "mode": "markers",
         "name": "Path 20",
         "showlegend": false,
         "type": "scatter",
         "x": [
          "2006",
          "2011",
          "2016",
          "2021"
         ],
         "y": {
          "bdata": "AAAAAAAAAAAAAAAAAAAAAAAAAAAAAAAAAAAAAAAAAAA=",
          "dtype": "f8"
         }
        },
        {
         "line": {
          "color": "black",
          "dash": "dot"
         },
         "mode": "lines+markers",
         "showlegend": false,
         "type": "scatter",
         "x": [
          "2006",
          "2011",
          "2016",
          "2021"
         ],
         "y": {
          "bdata": "AAAAAAAAJEAAAAAAAAAUQAAAAAAAABRAAAAAAAAAFEA=",
          "dtype": "f8"
         }
        },
        {
         "marker": {
          "color": "#EF553B",
          "size": 6
         },
         "mode": "markers",
         "name": "Path 24",
         "showlegend": false,
         "type": "scatter",
         "x": [
          "2006",
          "2011",
          "2016",
          "2021"
         ],
         "y": {
          "bdata": "AAAAAAAAJEAAAAAAAAAUQAAAAAAAABRAAAAAAAAAFEA=",
          "dtype": "f8"
         }
        },
        {
         "line": {
          "color": "black",
          "dash": "dot"
         },
         "mode": "lines+markers",
         "showlegend": false,
         "type": "scatter",
         "x": [
          "2006",
          "2011",
          "2016",
          "2021"
         ],
         "y": {
          "bdata": "AAAAAAAAAAAAAAAAAAAAAAAAAAAAAAAAAAAAAAAAAAA=",
          "dtype": "f8"
         }
        },
        {
         "marker": {
          "color": "#EF553B",
          "size": 6
         },
         "mode": "markers",
         "name": "Path 25",
         "showlegend": false,
         "type": "scatter",
         "x": [
          "2006",
          "2011",
          "2016",
          "2021"
         ],
         "y": {
          "bdata": "AAAAAAAAAAAAAAAAAAAAAAAAAAAAAAAAAAAAAAAAAAA=",
          "dtype": "f8"
         }
        },
        {
         "line": {
          "color": "black",
          "dash": "dot"
         },
         "mode": "lines+markers",
         "showlegend": false,
         "type": "scatter",
         "x": [
          "2006",
          "2011",
          "2016",
          "2021"
         ],
         "y": {
          "bdata": "AAAAAAAAAAAAAAAAAAAAAAAAAAAAAAAAAAAAAAAAAAA=",
          "dtype": "f8"
         }
        },
        {
         "marker": {
          "color": "#EF553B",
          "size": 6
         },
         "mode": "markers",
         "name": "Path 26",
         "showlegend": false,
         "type": "scatter",
         "x": [
          "2006",
          "2011",
          "2016",
          "2021"
         ],
         "y": {
          "bdata": "AAAAAAAAAAAAAAAAAAAAAAAAAAAAAAAAAAAAAAAAAAA=",
          "dtype": "f8"
         }
        },
        {
         "line": {
          "color": "black",
          "dash": "dot"
         },
         "mode": "lines+markers",
         "showlegend": false,
         "type": "scatter",
         "x": [
          "2006",
          "2011",
          "2016",
          "2021"
         ],
         "y": {
          "bdata": "AAAAAAAAFEAAAAAAAAAUQAAAAAAAABRAAAAAAAAAFEA=",
          "dtype": "f8"
         }
        },
        {
         "marker": {
          "color": "#AB63FA",
          "size": 6
         },
         "mode": "markers",
         "name": "Path 44",
         "showlegend": false,
         "type": "scatter",
         "x": [
          "2006",
          "2011",
          "2016",
          "2021"
         ],
         "y": {
          "bdata": "AAAAAAAAFEAAAAAAAAAUQAAAAAAAABRAAAAAAAAAFEA=",
          "dtype": "f8"
         }
        },
        {
         "line": {
          "color": "black",
          "dash": "dot"
         },
         "mode": "lines+markers",
         "showlegend": false,
         "type": "scatter",
         "x": [
          "2006",
          "2011",
          "2016",
          "2021"
         ],
         "y": {
          "bdata": "AAAAAAAAFEAAAAAAAAAkQAAAAAAAAAAAAAAAAAAAJEA=",
          "dtype": "f8"
         }
        },
        {
         "marker": {
          "color": "#AB63FA",
          "size": 6
         },
         "mode": "markers",
         "name": "Path 45",
         "showlegend": false,
         "type": "scatter",
         "x": [
          "2006",
          "2011",
          "2016",
          "2021"
         ],
         "y": {
          "bdata": "AAAAAAAAFEAAAAAAAAAkQAAAAAAAAAAAAAAAAAAAJEA=",
          "dtype": "f8"
         }
        },
        {
         "line": {
          "color": "black",
          "dash": "dot"
         },
         "mode": "lines+markers",
         "showlegend": false,
         "type": "scatter",
         "x": [
          "2006",
          "2011",
          "2016",
          "2021"
         ],
         "y": {
          "bdata": "AAAAAAAAAAAAAAAAAAAAAAAAAAAAABRAAAAAAAAAAAA=",
          "dtype": "f8"
         }
        },
        {
         "marker": {
          "color": "#EF553B",
          "size": 6
         },
         "mode": "markers",
         "name": "Path 46",
         "showlegend": false,
         "type": "scatter",
         "x": [
          "2006",
          "2011",
          "2016",
          "2021"
         ],
         "y": {
          "bdata": "AAAAAAAAAAAAAAAAAAAAAAAAAAAAABRAAAAAAAAAAAA=",
          "dtype": "f8"
         }
        },
        {
         "line": {
          "color": "black",
          "dash": "dot"
         },
         "mode": "lines+markers",
         "showlegend": false,
         "type": "scatter",
         "x": [
          "2006",
          "2011",
          "2016",
          "2021"
         ],
         "y": {
          "bdata": "AAAAAAAAAAAAAAAAAAAAAAAAAAAAAAAAAAAAAAAAAAA=",
          "dtype": "f8"
         }
        },
        {
         "marker": {
          "color": "#EF553B",
          "size": 6
         },
         "mode": "markers",
         "name": "Path 79",
         "showlegend": false,
         "type": "scatter",
         "x": [
          "2006",
          "2011",
          "2016",
          "2021"
         ],
         "y": {
          "bdata": "AAAAAAAAAAAAAAAAAAAAAAAAAAAAAAAAAAAAAAAAAAA=",
          "dtype": "f8"
         }
        },
        {
         "line": {
          "color": "black",
          "dash": "dot"
         },
         "mode": "lines+markers",
         "showlegend": false,
         "type": "scatter",
         "x": [
          "2006",
          "2011",
          "2016",
          "2021"
         ],
         "y": {
          "bdata": "AAAAAAAAAAAAAAAAAAAAAAAAAAAAAAAAAAAAAAAAAAA=",
          "dtype": "f8"
         }
        },
        {
         "marker": {
          "color": "#EF553B",
          "size": 6
         },
         "mode": "markers",
         "name": "Path 80",
         "showlegend": false,
         "type": "scatter",
         "x": [
          "2006",
          "2011",
          "2016",
          "2021"
         ],
         "y": {
          "bdata": "AAAAAAAAAAAAAAAAAAAAAAAAAAAAAAAAAAAAAAAAAAA=",
          "dtype": "f8"
         }
        },
        {
         "line": {
          "color": "black",
          "dash": "dot"
         },
         "mode": "lines+markers",
         "showlegend": false,
         "type": "scatter",
         "x": [
          "2006",
          "2011",
          "2016",
          "2021"
         ],
         "y": {
          "bdata": "AAAAAAAAJEAAAAAAAAAkQAAAAAAAAAAAAAAAAAAAAAA=",
          "dtype": "f8"
         }
        },
        {
         "marker": {
          "color": "#AB63FA",
          "size": 6
         },
         "mode": "markers",
         "name": "Path 81",
         "showlegend": false,
         "type": "scatter",
         "x": [
          "2006",
          "2011",
          "2016",
          "2021"
         ],
         "y": {
          "bdata": "AAAAAAAAJEAAAAAAAAAkQAAAAAAAAAAAAAAAAAAAAAA=",
          "dtype": "f8"
         }
        },
        {
         "line": {
          "color": "black",
          "dash": "dot"
         },
         "mode": "lines+markers",
         "showlegend": false,
         "type": "scatter",
         "x": [
          "2006",
          "2011",
          "2016",
          "2021"
         ],
         "y": {
          "bdata": "AAAAAAAAJEAAAAAAAAAkQAAAAAAAABRAAAAAAAAAFEA=",
          "dtype": "f8"
         }
        },
        {
         "marker": {
          "color": "#AB63FA",
          "size": 6
         },
         "mode": "markers",
         "name": "Path 82",
         "showlegend": false,
         "type": "scatter",
         "x": [
          "2006",
          "2011",
          "2016",
          "2021"
         ],
         "y": {
          "bdata": "AAAAAAAAJEAAAAAAAAAkQAAAAAAAABRAAAAAAAAAFEA=",
          "dtype": "f8"
         }
        },
        {
         "line": {
          "color": "black",
          "dash": "dot"
         },
         "mode": "lines+markers",
         "showlegend": false,
         "type": "scatter",
         "x": [
          "2006",
          "2011",
          "2016",
          "2021"
         ],
         "y": {
          "bdata": "AAAAAAAAAAAAAAAAAAAAAAAAAAAAAAAAAAAAAAAAAAA=",
          "dtype": "f8"
         }
        },
        {
         "marker": {
          "color": "#AB63FA",
          "size": 6
         },
         "mode": "markers",
         "name": "Path 83",
         "showlegend": false,
         "type": "scatter",
         "x": [
          "2006",
          "2011",
          "2016",
          "2021"
         ],
         "y": {
          "bdata": "AAAAAAAAAAAAAAAAAAAAAAAAAAAAAAAAAAAAAAAAAAA=",
          "dtype": "f8"
         }
        },
        {
         "line": {
          "color": "black",
          "dash": "dot"
         },
         "mode": "lines+markers",
         "showlegend": false,
         "type": "scatter",
         "x": [
          "2006",
          "2011",
          "2016",
          "2021"
         ],
         "y": {
          "bdata": "AAAAAAAAAAAAAAAAAAAAAAAAAAAAAAAAAAAAAAAAAAA=",
          "dtype": "f8"
         }
        },
        {
         "marker": {
          "color": "#AB63FA",
          "size": 6
         },
         "mode": "markers",
         "name": "Path 84",
         "showlegend": false,
         "type": "scatter",
         "x": [
          "2006",
          "2011",
          "2016",
          "2021"
         ],
         "y": {
          "bdata": "AAAAAAAAAAAAAAAAAAAAAAAAAAAAAAAAAAAAAAAAAAA=",
          "dtype": "f8"
         }
        },
        {
         "line": {
          "color": "black",
          "dash": "dot"
         },
         "mode": "lines+markers",
         "showlegend": false,
         "type": "scatter",
         "x": [
          "2006",
          "2011",
          "2016",
          "2021"
         ],
         "y": {
          "bdata": "AAAAAAAAAAAAAAAAAAAUQAAAAAAAAAAAAAAAAAAAAAA=",
          "dtype": "f8"
         }
        },
        {
         "marker": {
          "color": "#AB63FA",
          "size": 6
         },
         "mode": "markers",
         "name": "Path 86",
         "showlegend": false,
         "type": "scatter",
         "x": [
          "2006",
          "2011",
          "2016",
          "2021"
         ],
         "y": {
          "bdata": "AAAAAAAAAAAAAAAAAAAUQAAAAAAAAAAAAAAAAAAAAAA=",
          "dtype": "f8"
         }
        },
        {
         "line": {
          "color": "black",
          "dash": "dot"
         },
         "mode": "lines+markers",
         "showlegend": false,
         "type": "scatter",
         "x": [
          "2006",
          "2011",
          "2016",
          "2021"
         ],
         "y": {
          "bdata": "AAAAAAAAJEAAAAAAAAA5QAAAAAAAADRAAAAAAAAANEA=",
          "dtype": "f8"
         }
        },
        {
         "marker": {
          "color": "#EF553B",
          "size": 6
         },
         "mode": "markers",
         "name": "Path 88",
         "showlegend": false,
         "type": "scatter",
         "x": [
          "2006",
          "2011",
          "2016",
          "2021"
         ],
         "y": {
          "bdata": "AAAAAAAAJEAAAAAAAAA5QAAAAAAAADRAAAAAAAAANEA=",
          "dtype": "f8"
         }
        },
        {
         "line": {
          "color": "black",
          "dash": "dot"
         },
         "mode": "lines+markers",
         "showlegend": false,
         "type": "scatter",
         "x": [
          "2006",
          "2011",
          "2016",
          "2021"
         ],
         "y": {
          "bdata": "AAAAAADAd0AAAAAAAGB4QAAAAAAAEHhAAAAAAAAQeEA=",
          "dtype": "f8"
         }
        },
        {
         "marker": {
          "color": "#EF553B",
          "size": 6
         },
         "mode": "markers",
         "name": "Path 159",
         "showlegend": false,
         "type": "scatter",
         "x": [
          "2006",
          "2011",
          "2016",
          "2021"
         ],
         "y": {
          "bdata": "AAAAAADAd0AAAAAAAGB4QAAAAAAAEHhAAAAAAAAQeEA=",
          "dtype": "f8"
         }
        },
        {
         "line": {
          "color": "black",
          "dash": "dot"
         },
         "mode": "lines+markers",
         "showlegend": false,
         "type": "scatter",
         "x": [
          "2006",
          "2011",
          "2016",
          "2021"
         ],
         "y": {
          "bdata": "AAAAAAAAFEAAAAAAAAAUQAAAAAAAAAAAAAAAAAAAAAA=",
          "dtype": "f8"
         }
        },
        {
         "marker": {
          "color": "#EF553B",
          "size": 6
         },
         "mode": "markers",
         "name": "Path 171",
         "showlegend": false,
         "type": "scatter",
         "x": [
          "2006",
          "2011",
          "2016",
          "2021"
         ],
         "y": {
          "bdata": "AAAAAAAAFEAAAAAAAAAUQAAAAAAAAAAAAAAAAAAAAAA=",
          "dtype": "f8"
         }
        },
        {
         "line": {
          "color": "black",
          "dash": "dot"
         },
         "mode": "lines+markers",
         "showlegend": false,
         "type": "scatter",
         "x": [
          "2006",
          "2011",
          "2016",
          "2021"
         ],
         "y": {
          "bdata": "AAAAAACweEAAAAAAAFB5QAAAAAAAcHdAAAAAAACweEA=",
          "dtype": "f8"
         }
        },
        {
         "marker": {
          "color": "#EF553B",
          "size": 6
         },
         "mode": "markers",
         "name": "Path 252",
         "showlegend": false,
         "type": "scatter",
         "x": [
          "2006",
          "2011",
          "2016",
          "2021"
         ],
         "y": {
          "bdata": "AAAAAACweEAAAAAAAFB5QAAAAAAAcHdAAAAAAACweEA=",
          "dtype": "f8"
         }
        },
        {
         "line": {
          "color": "black",
          "dash": "dot"
         },
         "mode": "lines+markers",
         "showlegend": false,
         "type": "scatter",
         "x": [
          "2006",
          "2011",
          "2016",
          "2021"
         ],
         "y": {
          "bdata": "AAAAAACweEAAAAAAAFB5QAAAAAAAAAAAAAAAAAAAAAA=",
          "dtype": "f8"
         }
        },
        {
         "marker": {
          "color": "#EF553B",
          "size": 6
         },
         "mode": "markers",
         "name": "Path 253",
         "showlegend": false,
         "type": "scatter",
         "x": [
          "2006",
          "2011",
          "2016",
          "2021"
         ],
         "y": {
          "bdata": "AAAAAACweEAAAAAAAFB5QAAAAAAAAAAAAAAAAAAAAAA=",
          "dtype": "f8"
         }
        },
        {
         "line": {
          "color": "black",
          "dash": "dot"
         },
         "mode": "lines+markers",
         "showlegend": false,
         "type": "scatter",
         "x": [
          "2006",
          "2011",
          "2016",
          "2021"
         ],
         "y": {
          "bdata": "AAAAAACweEAAAAAAAFB5QAAAAAAAAAAAAAAAAAAAAAA=",
          "dtype": "f8"
         }
        },
        {
         "marker": {
          "color": "#EF553B",
          "size": 6
         },
         "mode": "markers",
         "name": "Path 254",
         "showlegend": false,
         "type": "scatter",
         "x": [
          "2006",
          "2011",
          "2016",
          "2021"
         ],
         "y": {
          "bdata": "AAAAAACweEAAAAAAAFB5QAAAAAAAAAAAAAAAAAAAAAA=",
          "dtype": "f8"
         }
        },
        {
         "line": {
          "color": "black",
          "dash": "dot"
         },
         "mode": "lines+markers",
         "showlegend": false,
         "type": "scatter",
         "x": [
          "2006",
          "2011",
          "2016",
          "2021"
         ],
         "y": {
          "bdata": "AAAAAAAAFEAAAAAAAAAAAAAAAAAAAAAAAAAAAAAAFEA=",
          "dtype": "f8"
         }
        },
        {
         "marker": {
          "color": "#EF553B",
          "size": 6
         },
         "mode": "markers",
         "name": "Path 274",
         "showlegend": false,
         "type": "scatter",
         "x": [
          "2006",
          "2011",
          "2016",
          "2021"
         ],
         "y": {
          "bdata": "AAAAAAAAFEAAAAAAAAAAAAAAAAAAAAAAAAAAAAAAFEA=",
          "dtype": "f8"
         }
        },
        {
         "line": {
          "color": "black",
          "dash": "dot"
         },
         "mode": "lines+markers",
         "showlegend": false,
         "type": "scatter",
         "x": [
          "2006",
          "2011",
          "2016",
          "2021"
         ],
         "y": {
          "bdata": "AAAAAACwfUAAAAAAAJB/QAAAAAAAUH5AAAAAAACAQUA=",
          "dtype": "f8"
         }
        },
        {
         "marker": {
          "color": "#AB63FA",
          "size": 6
         },
         "mode": "markers",
         "name": "Path 384",
         "showlegend": false,
         "type": "scatter",
         "x": [
          "2006",
          "2011",
          "2016",
          "2021"
         ],
         "y": {
          "bdata": "AAAAAACwfUAAAAAAAJB/QAAAAAAAUH5AAAAAAACAQUA=",
          "dtype": "f8"
         }
        },
        {
         "line": {
          "color": "black",
          "dash": "dot"
         },
         "mode": "lines+markers",
         "showlegend": false,
         "type": "scatter",
         "x": [
          "2006",
          "2011",
          "2016",
          "2021"
         ],
         "y": {
          "bdata": "AAAAAACwfUAAAAAAAJB/QAAAAAAAUH5AAAAAAAAAAAA=",
          "dtype": "f8"
         }
        },
        {
         "marker": {
          "color": "#AB63FA",
          "size": 6
         },
         "mode": "markers",
         "name": "Path 385",
         "showlegend": false,
         "type": "scatter",
         "x": [
          "2006",
          "2011",
          "2016",
          "2021"
         ],
         "y": {
          "bdata": "AAAAAACwfUAAAAAAAJB/QAAAAAAAUH5AAAAAAAAAAAA=",
          "dtype": "f8"
         }
        },
        {
         "line": {
          "color": "black",
          "dash": "dot"
         },
         "mode": "lines+markers",
         "showlegend": false,
         "type": "scatter",
         "x": [
          "2006",
          "2011",
          "2016",
          "2021"
         ],
         "y": {
          "bdata": "AAAAAACwfUAAAAAAAJB/QAAAAAAAUH5AAAAAAAAgfEA=",
          "dtype": "f8"
         }
        },
        {
         "marker": {
          "color": "#AB63FA",
          "size": 6
         },
         "mode": "markers",
         "name": "Path 386",
         "showlegend": false,
         "type": "scatter",
         "x": [
          "2006",
          "2011",
          "2016",
          "2021"
         ],
         "y": {
          "bdata": "AAAAAACwfUAAAAAAAJB/QAAAAAAAUH5AAAAAAAAgfEA=",
          "dtype": "f8"
         }
        },
        {
         "line": {
          "color": "black",
          "dash": "dot"
         },
         "mode": "lines+markers",
         "showlegend": false,
         "type": "scatter",
         "x": [
          "2006",
          "2011",
          "2016",
          "2021"
         ],
         "y": {
          "bdata": "AAAAAACgdEAAAAAAAAA+QAAAAAAAAC5AAAAAAAAAFEA=",
          "dtype": "f8"
         }
        },
        {
         "marker": {
          "color": "#EF553B",
          "size": 6
         },
         "mode": "markers",
         "name": "Path 402",
         "showlegend": false,
         "type": "scatter",
         "x": [
          "2006",
          "2011",
          "2016",
          "2021"
         ],
         "y": {
          "bdata": "AAAAAACgdEAAAAAAAAA+QAAAAAAAAC5AAAAAAAAAFEA=",
          "dtype": "f8"
         }
        },
        {
         "line": {
          "color": "black",
          "dash": "dot"
         },
         "mode": "lines+markers",
         "showlegend": false,
         "type": "scatter",
         "x": [
          "2006",
          "2011",
          "2016",
          "2021"
         ],
         "y": {
          "bdata": "AAAAAACgdEAAAAAAAAA+QAAAAAAAAC5AAAAAAAAAAAA=",
          "dtype": "f8"
         }
        },
        {
         "marker": {
          "color": "#EF553B",
          "size": 6
         },
         "mode": "markers",
         "name": "Path 403",
         "showlegend": false,
         "type": "scatter",
         "x": [
          "2006",
          "2011",
          "2016",
          "2021"
         ],
         "y": {
          "bdata": "AAAAAACgdEAAAAAAAAA+QAAAAAAAAC5AAAAAAAAAAAA=",
          "dtype": "f8"
         }
        },
        {
         "line": {
          "color": "black",
          "dash": "dot"
         },
         "mode": "lines+markers",
         "showlegend": false,
         "type": "scatter",
         "x": [
          "2006",
          "2011",
          "2016",
          "2021"
         ],
         "y": {
          "bdata": "AAAAAAAAAAAAAAAAAAAAAAAAAAAAAAAAAAAAAAAAFEA=",
          "dtype": "f8"
         }
        },
        {
         "marker": {
          "color": "#AB63FA",
          "size": 6
         },
         "mode": "markers",
         "name": "Path 406",
         "showlegend": false,
         "type": "scatter",
         "x": [
          "2006",
          "2011",
          "2016",
          "2021"
         ],
         "y": {
          "bdata": "AAAAAAAAAAAAAAAAAAAAAAAAAAAAAAAAAAAAAAAAFEA=",
          "dtype": "f8"
         }
        },
        {
         "line": {
          "color": "black",
          "dash": "dot"
         },
         "mode": "lines+markers",
         "showlegend": false,
         "type": "scatter",
         "x": [
          "2006",
          "2011",
          "2016",
          "2021"
         ],
         "y": {
          "bdata": "AAAAAAAAAAAAAAAAAAAAAAAAAAAAAAAAAAAAAAAAFEA=",
          "dtype": "f8"
         }
        },
        {
         "marker": {
          "color": "#AB63FA",
          "size": 6
         },
         "mode": "markers",
         "name": "Path 407",
         "showlegend": false,
         "type": "scatter",
         "x": [
          "2006",
          "2011",
          "2016",
          "2021"
         ],
         "y": {
          "bdata": "AAAAAAAAAAAAAAAAAAAAAAAAAAAAAAAAAAAAAAAAFEA=",
          "dtype": "f8"
         }
        },
        {
         "line": {
          "color": "black",
          "dash": "dot"
         },
         "mode": "lines+markers",
         "showlegend": false,
         "type": "scatter",
         "x": [
          "2006",
          "2011",
          "2016",
          "2021"
         ],
         "y": {
          "bdata": "AAAAAADojEAAAAAAAAAkQAAAAAAAABRAAAAAAAAAJEA=",
          "dtype": "f8"
         }
        },
        {
         "marker": {
          "color": "#AB63FA",
          "size": 6
         },
         "mode": "markers",
         "name": "Path 408",
         "showlegend": false,
         "type": "scatter",
         "x": [
          "2006",
          "2011",
          "2016",
          "2021"
         ],
         "y": {
          "bdata": "AAAAAADojEAAAAAAAAAkQAAAAAAAABRAAAAAAAAAJEA=",
          "dtype": "f8"
         }
        },
        {
         "line": {
          "color": "black",
          "dash": "dot"
         },
         "mode": "lines+markers",
         "showlegend": false,
         "type": "scatter",
         "x": [
          "2006",
          "2011",
          "2016",
          "2021"
         ],
         "y": {
          "bdata": "AAAAAADojEAAAAAAAAAUQAAAAAAAABRAAAAAAAAAFEA=",
          "dtype": "f8"
         }
        },
        {
         "marker": {
          "color": "#AB63FA",
          "size": 6
         },
         "mode": "markers",
         "name": "Path 409",
         "showlegend": false,
         "type": "scatter",
         "x": [
          "2006",
          "2011",
          "2016",
          "2021"
         ],
         "y": {
          "bdata": "AAAAAADojEAAAAAAAAAUQAAAAAAAABRAAAAAAAAAFEA=",
          "dtype": "f8"
         }
        },
        {
         "line": {
          "color": "black",
          "dash": "dot"
         },
         "mode": "lines+markers",
         "showlegend": false,
         "type": "scatter",
         "x": [
          "2006",
          "2011",
          "2016",
          "2021"
         ],
         "y": {
          "bdata": "AAAAAADojEAAAAAAAKiLQAAAAAAAMItAAAAAAACYjEA=",
          "dtype": "f8"
         }
        },
        {
         "marker": {
          "color": "#AB63FA",
          "size": 6
         },
         "mode": "markers",
         "name": "Path 410",
         "showlegend": false,
         "type": "scatter",
         "x": [
          "2006",
          "2011",
          "2016",
          "2021"
         ],
         "y": {
          "bdata": "AAAAAADojEAAAAAAAKiLQAAAAAAAMItAAAAAAACYjEA=",
          "dtype": "f8"
         }
        },
        {
         "line": {
          "color": "black",
          "dash": "dot"
         },
         "mode": "lines+markers",
         "showlegend": false,
         "type": "scatter",
         "x": [
          "2006",
          "2011",
          "2016",
          "2021"
         ],
         "y": {
          "bdata": "AAAAAACAi0AAAAAAALiKQAAAAAAAUHRAAAAAAADwdEA=",
          "dtype": "f8"
         }
        },
        {
         "marker": {
          "color": "#EF553B",
          "size": 6
         },
         "mode": "markers",
         "name": "Path 411",
         "showlegend": false,
         "type": "scatter",
         "x": [
          "2006",
          "2011",
          "2016",
          "2021"
         ],
         "y": {
          "bdata": "AAAAAACAi0AAAAAAALiKQAAAAAAAUHRAAAAAAADwdEA=",
          "dtype": "f8"
         }
        },
        {
         "line": {
          "color": "black",
          "dash": "dot"
         },
         "mode": "lines+markers",
         "showlegend": false,
         "type": "scatter",
         "x": [
          "2006",
          "2011",
          "2016",
          "2021"
         ],
         "y": {
          "bdata": "AAAAAACAi0AAAAAAALiKQAAAAAAA8H5AAAAAAAAAfkA=",
          "dtype": "f8"
         }
        },
        {
         "marker": {
          "color": "#EF553B",
          "size": 6
         },
         "mode": "markers",
         "name": "Path 412",
         "showlegend": false,
         "type": "scatter",
         "x": [
          "2006",
          "2011",
          "2016",
          "2021"
         ],
         "y": {
          "bdata": "AAAAAACAi0AAAAAAALiKQAAAAAAA8H5AAAAAAAAAfkA=",
          "dtype": "f8"
         }
        },
        {
         "line": {
          "color": "black",
          "dash": "dot"
         },
         "mode": "lines+markers",
         "showlegend": false,
         "type": "scatter",
         "x": [
          "2006",
          "2011",
          "2016",
          "2021"
         ],
         "y": {
          "bdata": "AAAAAACAi0AAAAAAALiKQAAAAAAA8H5AAAAAAAAAAAA=",
          "dtype": "f8"
         }
        },
        {
         "marker": {
          "color": "#EF553B",
          "size": 6
         },
         "mode": "markers",
         "name": "Path 413",
         "showlegend": false,
         "type": "scatter",
         "x": [
          "2006",
          "2011",
          "2016",
          "2021"
         ],
         "y": {
          "bdata": "AAAAAACAi0AAAAAAALiKQAAAAAAA8H5AAAAAAAAAAAA=",
          "dtype": "f8"
         }
        },
        {
         "line": {
          "color": "black",
          "dash": "dot"
         },
         "mode": "lines+markers",
         "showlegend": false,
         "type": "scatter",
         "x": [
          "2006",
          "2011",
          "2016",
          "2021"
         ],
         "y": {
          "bdata": "AAAAAACAi0AAAAAAALiKQAAAAAAA8H5AAAAAAAAAAAA=",
          "dtype": "f8"
         }
        },
        {
         "marker": {
          "color": "#EF553B",
          "size": 6
         },
         "mode": "markers",
         "name": "Path 414",
         "showlegend": false,
         "type": "scatter",
         "x": [
          "2006",
          "2011",
          "2016",
          "2021"
         ],
         "y": {
          "bdata": "AAAAAACAi0AAAAAAALiKQAAAAAAA8H5AAAAAAAAAAAA=",
          "dtype": "f8"
         }
        },
        {
         "line": {
          "color": "#636EFA"
         },
         "mode": "lines+markers",
         "name": "Cluster 0",
         "type": "scatter",
         "x": [
          "2006",
          "2011",
          "2016",
          "2021"
         ],
         "y": {
          "bdata": "b3rTm97sgUAeuIp2pjyFQO0nS2DTGoNANYuaRc2qgkA=",
          "dtype": "f8"
         }
        },
        {
         "line": {
          "color": "#EF553B"
         },
         "mode": "lines+markers",
         "name": "Cluster 1",
         "type": "scatter",
         "x": [
          "2006",
          "2011",
          "2016",
          "2021"
         ],
         "y": {
          "bdata": "nud5nucRfUC9hvIayktrQEYXXXTRSWdAxOQKYnKFY0A=",
          "dtype": "f8"
         }
        },
        {
         "line": {
          "color": "#AB63FA"
         },
         "mode": "lines+markers",
         "name": "Cluster 3",
         "type": "scatter",
         "x": [
          "2006",
          "2011",
          "2016",
          "2021"
         ],
         "y": {
          "bdata": "SZIkSZJEaUAtLS0tLU1oQKuqqqqqWl9AVVVVVVVVN0A=",
          "dtype": "f8"
         }
        }
       ],
       "layout": {
        "height": 500,
        "legend": {
         "title": {
          "text": "Legend"
         }
        },
        "template": {
         "data": {
          "bar": [
           {
            "error_x": {
             "color": "#2a3f5f"
            },
            "error_y": {
             "color": "#2a3f5f"
            },
            "marker": {
             "line": {
              "color": "#E5ECF6",
              "width": 0.5
             },
             "pattern": {
              "fillmode": "overlay",
              "size": 10,
              "solidity": 0.2
             }
            },
            "type": "bar"
           }
          ],
          "barpolar": [
           {
            "marker": {
             "line": {
              "color": "#E5ECF6",
              "width": 0.5
             },
             "pattern": {
              "fillmode": "overlay",
              "size": 10,
              "solidity": 0.2
             }
            },
            "type": "barpolar"
           }
          ],
          "carpet": [
           {
            "aaxis": {
             "endlinecolor": "#2a3f5f",
             "gridcolor": "white",
             "linecolor": "white",
             "minorgridcolor": "white",
             "startlinecolor": "#2a3f5f"
            },
            "baxis": {
             "endlinecolor": "#2a3f5f",
             "gridcolor": "white",
             "linecolor": "white",
             "minorgridcolor": "white",
             "startlinecolor": "#2a3f5f"
            },
            "type": "carpet"
           }
          ],
          "choropleth": [
           {
            "colorbar": {
             "outlinewidth": 0,
             "ticks": ""
            },
            "type": "choropleth"
           }
          ],
          "contour": [
           {
            "colorbar": {
             "outlinewidth": 0,
             "ticks": ""
            },
            "colorscale": [
             [
              0,
              "#0d0887"
             ],
             [
              0.1111111111111111,
              "#46039f"
             ],
             [
              0.2222222222222222,
              "#7201a8"
             ],
             [
              0.3333333333333333,
              "#9c179e"
             ],
             [
              0.4444444444444444,
              "#bd3786"
             ],
             [
              0.5555555555555556,
              "#d8576b"
             ],
             [
              0.6666666666666666,
              "#ed7953"
             ],
             [
              0.7777777777777778,
              "#fb9f3a"
             ],
             [
              0.8888888888888888,
              "#fdca26"
             ],
             [
              1,
              "#f0f921"
             ]
            ],
            "type": "contour"
           }
          ],
          "contourcarpet": [
           {
            "colorbar": {
             "outlinewidth": 0,
             "ticks": ""
            },
            "type": "contourcarpet"
           }
          ],
          "heatmap": [
           {
            "colorbar": {
             "outlinewidth": 0,
             "ticks": ""
            },
            "colorscale": [
             [
              0,
              "#0d0887"
             ],
             [
              0.1111111111111111,
              "#46039f"
             ],
             [
              0.2222222222222222,
              "#7201a8"
             ],
             [
              0.3333333333333333,
              "#9c179e"
             ],
             [
              0.4444444444444444,
              "#bd3786"
             ],
             [
              0.5555555555555556,
              "#d8576b"
             ],
             [
              0.6666666666666666,
              "#ed7953"
             ],
             [
              0.7777777777777778,
              "#fb9f3a"
             ],
             [
              0.8888888888888888,
              "#fdca26"
             ],
             [
              1,
              "#f0f921"
             ]
            ],
            "type": "heatmap"
           }
          ],
          "histogram": [
           {
            "marker": {
             "pattern": {
              "fillmode": "overlay",
              "size": 10,
              "solidity": 0.2
             }
            },
            "type": "histogram"
           }
          ],
          "histogram2d": [
           {
            "colorbar": {
             "outlinewidth": 0,
             "ticks": ""
            },
            "colorscale": [
             [
              0,
              "#0d0887"
             ],
             [
              0.1111111111111111,
              "#46039f"
             ],
             [
              0.2222222222222222,
              "#7201a8"
             ],
             [
              0.3333333333333333,
              "#9c179e"
             ],
             [
              0.4444444444444444,
              "#bd3786"
             ],
             [
              0.5555555555555556,
              "#d8576b"
             ],
             [
              0.6666666666666666,
              "#ed7953"
             ],
             [
              0.7777777777777778,
              "#fb9f3a"
             ],
             [
              0.8888888888888888,
              "#fdca26"
             ],
             [
              1,
              "#f0f921"
             ]
            ],
            "type": "histogram2d"
           }
          ],
          "histogram2dcontour": [
           {
            "colorbar": {
             "outlinewidth": 0,
             "ticks": ""
            },
            "colorscale": [
             [
              0,
              "#0d0887"
             ],
             [
              0.1111111111111111,
              "#46039f"
             ],
             [
              0.2222222222222222,
              "#7201a8"
             ],
             [
              0.3333333333333333,
              "#9c179e"
             ],
             [
              0.4444444444444444,
              "#bd3786"
             ],
             [
              0.5555555555555556,
              "#d8576b"
             ],
             [
              0.6666666666666666,
              "#ed7953"
             ],
             [
              0.7777777777777778,
              "#fb9f3a"
             ],
             [
              0.8888888888888888,
              "#fdca26"
             ],
             [
              1,
              "#f0f921"
             ]
            ],
            "type": "histogram2dcontour"
           }
          ],
          "mesh3d": [
           {
            "colorbar": {
             "outlinewidth": 0,
             "ticks": ""
            },
            "type": "mesh3d"
           }
          ],
          "parcoords": [
           {
            "line": {
             "colorbar": {
              "outlinewidth": 0,
              "ticks": ""
             }
            },
            "type": "parcoords"
           }
          ],
          "pie": [
           {
            "automargin": true,
            "type": "pie"
           }
          ],
          "scatter": [
           {
            "fillpattern": {
             "fillmode": "overlay",
             "size": 10,
             "solidity": 0.2
            },
            "type": "scatter"
           }
          ],
          "scatter3d": [
           {
            "line": {
             "colorbar": {
              "outlinewidth": 0,
              "ticks": ""
             }
            },
            "marker": {
             "colorbar": {
              "outlinewidth": 0,
              "ticks": ""
             }
            },
            "type": "scatter3d"
           }
          ],
          "scattercarpet": [
           {
            "marker": {
             "colorbar": {
              "outlinewidth": 0,
              "ticks": ""
             }
            },
            "type": "scattercarpet"
           }
          ],
          "scattergeo": [
           {
            "marker": {
             "colorbar": {
              "outlinewidth": 0,
              "ticks": ""
             }
            },
            "type": "scattergeo"
           }
          ],
          "scattergl": [
           {
            "marker": {
             "colorbar": {
              "outlinewidth": 0,
              "ticks": ""
             }
            },
            "type": "scattergl"
           }
          ],
          "scattermap": [
           {
            "marker": {
             "colorbar": {
              "outlinewidth": 0,
              "ticks": ""
             }
            },
            "type": "scattermap"
           }
          ],
          "scattermapbox": [
           {
            "marker": {
             "colorbar": {
              "outlinewidth": 0,
              "ticks": ""
             }
            },
            "type": "scattermapbox"
           }
          ],
          "scatterpolar": [
           {
            "marker": {
             "colorbar": {
              "outlinewidth": 0,
              "ticks": ""
             }
            },
            "type": "scatterpolar"
           }
          ],
          "scatterpolargl": [
           {
            "marker": {
             "colorbar": {
              "outlinewidth": 0,
              "ticks": ""
             }
            },
            "type": "scatterpolargl"
           }
          ],
          "scatterternary": [
           {
            "marker": {
             "colorbar": {
              "outlinewidth": 0,
              "ticks": ""
             }
            },
            "type": "scatterternary"
           }
          ],
          "surface": [
           {
            "colorbar": {
             "outlinewidth": 0,
             "ticks": ""
            },
            "colorscale": [
             [
              0,
              "#0d0887"
             ],
             [
              0.1111111111111111,
              "#46039f"
             ],
             [
              0.2222222222222222,
              "#7201a8"
             ],
             [
              0.3333333333333333,
              "#9c179e"
             ],
             [
              0.4444444444444444,
              "#bd3786"
             ],
             [
              0.5555555555555556,
              "#d8576b"
             ],
             [
              0.6666666666666666,
              "#ed7953"
             ],
             [
              0.7777777777777778,
              "#fb9f3a"
             ],
             [
              0.8888888888888888,
              "#fdca26"
             ],
             [
              1,
              "#f0f921"
             ]
            ],
            "type": "surface"
           }
          ],
          "table": [
           {
            "cells": {
             "fill": {
              "color": "#EBF0F8"
             },
             "line": {
              "color": "white"
             }
            },
            "header": {
             "fill": {
              "color": "#C8D4E3"
             },
             "line": {
              "color": "white"
             }
            },
            "type": "table"
           }
          ]
         },
         "layout": {
          "annotationdefaults": {
           "arrowcolor": "#2a3f5f",
           "arrowhead": 0,
           "arrowwidth": 1
          },
          "autotypenumbers": "strict",
          "coloraxis": {
           "colorbar": {
            "outlinewidth": 0,
            "ticks": ""
           }
          },
          "colorscale": {
           "diverging": [
            [
             0,
             "#8e0152"
            ],
            [
             0.1,
             "#c51b7d"
            ],
            [
             0.2,
             "#de77ae"
            ],
            [
             0.3,
             "#f1b6da"
            ],
            [
             0.4,
             "#fde0ef"
            ],
            [
             0.5,
             "#f7f7f7"
            ],
            [
             0.6,
             "#e6f5d0"
            ],
            [
             0.7,
             "#b8e186"
            ],
            [
             0.8,
             "#7fbc41"
            ],
            [
             0.9,
             "#4d9221"
            ],
            [
             1,
             "#276419"
            ]
           ],
           "sequential": [
            [
             0,
             "#0d0887"
            ],
            [
             0.1111111111111111,
             "#46039f"
            ],
            [
             0.2222222222222222,
             "#7201a8"
            ],
            [
             0.3333333333333333,
             "#9c179e"
            ],
            [
             0.4444444444444444,
             "#bd3786"
            ],
            [
             0.5555555555555556,
             "#d8576b"
            ],
            [
             0.6666666666666666,
             "#ed7953"
            ],
            [
             0.7777777777777778,
             "#fb9f3a"
            ],
            [
             0.8888888888888888,
             "#fdca26"
            ],
            [
             1,
             "#f0f921"
            ]
           ],
           "sequentialminus": [
            [
             0,
             "#0d0887"
            ],
            [
             0.1111111111111111,
             "#46039f"
            ],
            [
             0.2222222222222222,
             "#7201a8"
            ],
            [
             0.3333333333333333,
             "#9c179e"
            ],
            [
             0.4444444444444444,
             "#bd3786"
            ],
            [
             0.5555555555555556,
             "#d8576b"
            ],
            [
             0.6666666666666666,
             "#ed7953"
            ],
            [
             0.7777777777777778,
             "#fb9f3a"
            ],
            [
             0.8888888888888888,
             "#fdca26"
            ],
            [
             1,
             "#f0f921"
            ]
           ]
          },
          "colorway": [
           "#636efa",
           "#EF553B",
           "#00cc96",
           "#ab63fa",
           "#FFA15A",
           "#19d3f3",
           "#FF6692",
           "#B6E880",
           "#FF97FF",
           "#FECB52"
          ],
          "font": {
           "color": "#2a3f5f"
          },
          "geo": {
           "bgcolor": "white",
           "lakecolor": "white",
           "landcolor": "#E5ECF6",
           "showlakes": true,
           "showland": true,
           "subunitcolor": "white"
          },
          "hoverlabel": {
           "align": "left"
          },
          "hovermode": "closest",
          "mapbox": {
           "style": "light"
          },
          "paper_bgcolor": "white",
          "plot_bgcolor": "#E5ECF6",
          "polar": {
           "angularaxis": {
            "gridcolor": "white",
            "linecolor": "white",
            "ticks": ""
           },
           "bgcolor": "#E5ECF6",
           "radialaxis": {
            "gridcolor": "white",
            "linecolor": "white",
            "ticks": ""
           }
          },
          "scene": {
           "xaxis": {
            "backgroundcolor": "#E5ECF6",
            "gridcolor": "white",
            "gridwidth": 2,
            "linecolor": "white",
            "showbackground": true,
            "ticks": "",
            "zerolinecolor": "white"
           },
           "yaxis": {
            "backgroundcolor": "#E5ECF6",
            "gridcolor": "white",
            "gridwidth": 2,
            "linecolor": "white",
            "showbackground": true,
            "ticks": "",
            "zerolinecolor": "white"
           },
           "zaxis": {
            "backgroundcolor": "#E5ECF6",
            "gridcolor": "white",
            "gridwidth": 2,
            "linecolor": "white",
            "showbackground": true,
            "ticks": "",
            "zerolinecolor": "white"
           }
          },
          "shapedefaults": {
           "line": {
            "color": "#2a3f5f"
           }
          },
          "ternary": {
           "aaxis": {
            "gridcolor": "white",
            "linecolor": "white",
            "ticks": ""
           },
           "baxis": {
            "gridcolor": "white",
            "linecolor": "white",
            "ticks": ""
           },
           "bgcolor": "#E5ECF6",
           "caxis": {
            "gridcolor": "white",
            "linecolor": "white",
            "ticks": ""
           }
          },
          "title": {
           "x": 0.05
          },
          "xaxis": {
           "automargin": true,
           "gridcolor": "white",
           "linecolor": "white",
           "ticks": "",
           "title": {
            "standoff": 15
           },
           "zerolinecolor": "white",
           "zerolinewidth": 2
          },
          "yaxis": {
           "automargin": true,
           "gridcolor": "white",
           "linecolor": "white",
           "ticks": "",
           "title": {
            "standoff": 15
           },
           "zerolinecolor": "white",
           "zerolinewidth": 2
          }
         }
        },
        "title": {
         "text": "Feature single_detached_house"
        },
        "width": 700,
        "xaxis": {
         "tickangle": 45,
         "title": {
          "text": "Year"
         }
        },
        "yaxis": {
         "title": {
          "text": "Value"
         }
        }
       }
      }
     },
     "metadata": {},
     "output_type": "display_data"
    },
    {
     "data": {
      "application/vnd.plotly.v1+json": {
       "config": {
        "plotlyServerURL": "https://plot.ly"
       },
       "data": [
        {
         "line": {
          "color": "black",
          "dash": "dot"
         },
         "mode": "lines+markers",
         "showlegend": false,
         "type": "scatter",
         "x": [
          "2006",
          "2011",
          "2016",
          "2021"
         ],
         "y": {
          "bdata": "AAAAAADglUAAAAAAAMi0QAAAAAAAe7FAAAAAAACcs0A=",
          "dtype": "f8"
         }
        },
        {
         "marker": {
          "color": "#636EFA",
          "size": 6
         },
         "mode": "markers",
         "name": "Path 8",
         "showlegend": false,
         "type": "scatter",
         "x": [
          "2006",
          "2011",
          "2016",
          "2021"
         ],
         "y": {
          "bdata": "AAAAAADglUAAAAAAAMi0QAAAAAAAe7FAAAAAAACcs0A=",
          "dtype": "f8"
         }
        },
        {
         "line": {
          "color": "black",
          "dash": "dot"
         },
         "mode": "lines+markers",
         "showlegend": false,
         "type": "scatter",
         "x": [
          "2006",
          "2011",
          "2016",
          "2021"
         ],
         "y": {
          "bdata": "AAAAAADglUAAAAAAAMi0QAAAAAAAJbdAAAAAAADbukA=",
          "dtype": "f8"
         }
        },
        {
         "marker": {
          "color": "#636EFA",
          "size": 6
         },
         "mode": "markers",
         "name": "Path 9",
         "showlegend": false,
         "type": "scatter",
         "x": [
          "2006",
          "2011",
          "2016",
          "2021"
         ],
         "y": {
          "bdata": "AAAAAADglUAAAAAAAMi0QAAAAAAAJbdAAAAAAADbukA=",
          "dtype": "f8"
         }
        },
        {
         "line": {
          "color": "black",
          "dash": "dot"
         },
         "mode": "lines+markers",
         "showlegend": false,
         "type": "scatter",
         "x": [
          "2006",
          "2011",
          "2016",
          "2021"
         ],
         "y": {
          "bdata": "AAAAAAA4k0AAAAAAAEiXQAAAAAAAkJ9AAAAAAACcs0A=",
          "dtype": "f8"
         }
        },
        {
         "marker": {
          "color": "#636EFA",
          "size": 6
         },
         "mode": "markers",
         "name": "Path 11",
         "showlegend": false,
         "type": "scatter",
         "x": [
          "2006",
          "2011",
          "2016",
          "2021"
         ],
         "y": {
          "bdata": "AAAAAAA4k0AAAAAAAEiXQAAAAAAAkJ9AAAAAAACcs0A=",
          "dtype": "f8"
         }
        },
        {
         "line": {
          "color": "black",
          "dash": "dot"
         },
         "mode": "lines+markers",
         "showlegend": false,
         "type": "scatter",
         "x": [
          "2006",
          "2011",
          "2016",
          "2021"
         ],
         "y": {
          "bdata": "AAAAAADkoUAAAAAAAI2zQAAAAAAAdsZAAAAAAABDt0A=",
          "dtype": "f8"
         }
        },
        {
         "marker": {
          "color": "#EF553B",
          "size": 6
         },
         "mode": "markers",
         "name": "Path 14",
         "showlegend": false,
         "type": "scatter",
         "x": [
          "2006",
          "2011",
          "2016",
          "2021"
         ],
         "y": {
          "bdata": "AAAAAADkoUAAAAAAAI2zQAAAAAAAdsZAAAAAAABDt0A=",
          "dtype": "f8"
         }
        },
        {
         "line": {
          "color": "black",
          "dash": "dot"
         },
         "mode": "lines+markers",
         "showlegend": false,
         "type": "scatter",
         "x": [
          "2006",
          "2011",
          "2016",
          "2021"
         ],
         "y": {
          "bdata": "AAAAAADkoUAAAAAAAI2zQAAAAAAAdsZAAAAAAAB4uUA=",
          "dtype": "f8"
         }
        },
        {
         "marker": {
          "color": "#EF553B",
          "size": 6
         },
         "mode": "markers",
         "name": "Path 15",
         "showlegend": false,
         "type": "scatter",
         "x": [
          "2006",
          "2011",
          "2016",
          "2021"
         ],
         "y": {
          "bdata": "AAAAAADkoUAAAAAAAI2zQAAAAAAAdsZAAAAAAAB4uUA=",
          "dtype": "f8"
         }
        },
        {
         "line": {
          "color": "black",
          "dash": "dot"
         },
         "mode": "lines+markers",
         "showlegend": false,
         "type": "scatter",
         "x": [
          "2006",
          "2011",
          "2016",
          "2021"
         ],
         "y": {
          "bdata": "AAAAAADkoUAAAAAAAI2zQAAAAAAAdsZAAAAAAAD0r0A=",
          "dtype": "f8"
         }
        },
        {
         "marker": {
          "color": "#EF553B",
          "size": 6
         },
         "mode": "markers",
         "name": "Path 16",
         "showlegend": false,
         "type": "scatter",
         "x": [
          "2006",
          "2011",
          "2016",
          "2021"
         ],
         "y": {
          "bdata": "AAAAAADkoUAAAAAAAI2zQAAAAAAAdsZAAAAAAAD0r0A=",
          "dtype": "f8"
         }
        },
        {
         "line": {
          "color": "black",
          "dash": "dot"
         },
         "mode": "lines+markers",
         "showlegend": false,
         "type": "scatter",
         "x": [
          "2006",
          "2011",
          "2016",
          "2021"
         ],
         "y": {
          "bdata": "AAAAAACDs0AAAAAAAKC5QAAAAAAAFqdAAAAAAAAwq0A=",
          "dtype": "f8"
         }
        },
        {
         "marker": {
          "color": "#AB63FA",
          "size": 6
         },
         "mode": "markers",
         "name": "Path 19",
         "showlegend": false,
         "type": "scatter",
         "x": [
          "2006",
          "2011",
          "2016",
          "2021"
         ],
         "y": {
          "bdata": "AAAAAACDs0AAAAAAAKC5QAAAAAAAFqdAAAAAAAAwq0A=",
          "dtype": "f8"
         }
        },
        {
         "line": {
          "color": "black",
          "dash": "dot"
         },
         "mode": "lines+markers",
         "showlegend": false,
         "type": "scatter",
         "x": [
          "2006",
          "2011",
          "2016",
          "2021"
         ],
         "y": {
          "bdata": "AAAAAACwrUAAAAAAADK5QAAAAAAAXq9AAAAAAABesEA=",
          "dtype": "f8"
         }
        },
        {
         "marker": {
          "color": "#AB63FA",
          "size": 6
         },
         "mode": "markers",
         "name": "Path 20",
         "showlegend": false,
         "type": "scatter",
         "x": [
          "2006",
          "2011",
          "2016",
          "2021"
         ],
         "y": {
          "bdata": "AAAAAACwrUAAAAAAADK5QAAAAAAAXq9AAAAAAABesEA=",
          "dtype": "f8"
         }
        },
        {
         "line": {
          "color": "black",
          "dash": "dot"
         },
         "mode": "lines+markers",
         "showlegend": false,
         "type": "scatter",
         "x": [
          "2006",
          "2011",
          "2016",
          "2021"
         ],
         "y": {
          "bdata": "AAAAAABgnUAAAAAAANKkQAAAAAAAprNAAAAAAACetkA=",
          "dtype": "f8"
         }
        },
        {
         "marker": {
          "color": "#EF553B",
          "size": 6
         },
         "mode": "markers",
         "name": "Path 24",
         "showlegend": false,
         "type": "scatter",
         "x": [
          "2006",
          "2011",
          "2016",
          "2021"
         ],
         "y": {
          "bdata": "AAAAAABgnUAAAAAAANKkQAAAAAAAprNAAAAAAACetkA=",
          "dtype": "f8"
         }
        },
        {
         "line": {
          "color": "black",
          "dash": "dot"
         },
         "mode": "lines+markers",
         "showlegend": false,
         "type": "scatter",
         "x": [
          "2006",
          "2011",
          "2016",
          "2021"
         ],
         "y": {
          "bdata": "AAAAAAAMp0AAAAAAADaqQAAAAAAA8K5AAAAAAAD4pkA=",
          "dtype": "f8"
         }
        },
        {
         "marker": {
          "color": "#EF553B",
          "size": 6
         },
         "mode": "markers",
         "name": "Path 25",
         "showlegend": false,
         "type": "scatter",
         "x": [
          "2006",
          "2011",
          "2016",
          "2021"
         ],
         "y": {
          "bdata": "AAAAAAAMp0AAAAAAADaqQAAAAAAA8K5AAAAAAAD4pkA=",
          "dtype": "f8"
         }
        },
        {
         "line": {
          "color": "black",
          "dash": "dot"
         },
         "mode": "lines+markers",
         "showlegend": false,
         "type": "scatter",
         "x": [
          "2006",
          "2011",
          "2016",
          "2021"
         ],
         "y": {
          "bdata": "AAAAAAAMp0AAAAAAADaqQAAAAAAA8K5AAAAAAABYsUA=",
          "dtype": "f8"
         }
        },
        {
         "marker": {
          "color": "#EF553B",
          "size": 6
         },
         "mode": "markers",
         "name": "Path 26",
         "showlegend": false,
         "type": "scatter",
         "x": [
          "2006",
          "2011",
          "2016",
          "2021"
         ],
         "y": {
          "bdata": "AAAAAAAMp0AAAAAAADaqQAAAAAAA8K5AAAAAAABYsUA=",
          "dtype": "f8"
         }
        },
        {
         "line": {
          "color": "black",
          "dash": "dot"
         },
         "mode": "lines+markers",
         "showlegend": false,
         "type": "scatter",
         "x": [
          "2006",
          "2011",
          "2016",
          "2021"
         ],
         "y": {
          "bdata": "AAAAAACusEAAAAAAACCiQAAAAAAAuJ9AAAAAAADkpkA=",
          "dtype": "f8"
         }
        },
        {
         "marker": {
          "color": "#AB63FA",
          "size": 6
         },
         "mode": "markers",
         "name": "Path 44",
         "showlegend": false,
         "type": "scatter",
         "x": [
          "2006",
          "2011",
          "2016",
          "2021"
         ],
         "y": {
          "bdata": "AAAAAACusEAAAAAAACCiQAAAAAAAuJ9AAAAAAADkpkA=",
          "dtype": "f8"
         }
        },
        {
         "line": {
          "color": "black",
          "dash": "dot"
         },
         "mode": "lines+markers",
         "showlegend": false,
         "type": "scatter",
         "x": [
          "2006",
          "2011",
          "2016",
          "2021"
         ],
         "y": {
          "bdata": "AAAAAACusEAAAAAAAFimQAAAAAAAYqZAAAAAAABcskA=",
          "dtype": "f8"
         }
        },
        {
         "marker": {
          "color": "#AB63FA",
          "size": 6
         },
         "mode": "markers",
         "name": "Path 45",
         "showlegend": false,
         "type": "scatter",
         "x": [
          "2006",
          "2011",
          "2016",
          "2021"
         ],
         "y": {
          "bdata": "AAAAAACusEAAAAAAAFimQAAAAAAAYqZAAAAAAABcskA=",
          "dtype": "f8"
         }
        },
        {
         "line": {
          "color": "black",
          "dash": "dot"
         },
         "mode": "lines+markers",
         "showlegend": false,
         "type": "scatter",
         "x": [
          "2006",
          "2011",
          "2016",
          "2021"
         ],
         "y": {
          "bdata": "AAAAAAAQo0AAAAAAAF6wQAAAAAAAJrZAAAAAAADjt0A=",
          "dtype": "f8"
         }
        },
        {
         "marker": {
          "color": "#EF553B",
          "size": 6
         },
         "mode": "markers",
         "name": "Path 46",
         "showlegend": false,
         "type": "scatter",
         "x": [
          "2006",
          "2011",
          "2016",
          "2021"
         ],
         "y": {
          "bdata": "AAAAAAAQo0AAAAAAAF6wQAAAAAAAJrZAAAAAAADjt0A=",
          "dtype": "f8"
         }
        },
        {
         "line": {
          "color": "black",
          "dash": "dot"
         },
         "mode": "lines+markers",
         "showlegend": false,
         "type": "scatter",
         "x": [
          "2006",
          "2011",
          "2016",
          "2021"
         ],
         "y": {
          "bdata": "AAAAAAC2p0AAAAAAAPKsQAAAAAAAqrRAAAAAAADEo0A=",
          "dtype": "f8"
         }
        },
        {
         "marker": {
          "color": "#EF553B",
          "size": 6
         },
         "mode": "markers",
         "name": "Path 79",
         "showlegend": false,
         "type": "scatter",
         "x": [
          "2006",
          "2011",
          "2016",
          "2021"
         ],
         "y": {
          "bdata": "AAAAAAC2p0AAAAAAAPKsQAAAAAAAqrRAAAAAAADEo0A=",
          "dtype": "f8"
         }
        },
        {
         "line": {
          "color": "black",
          "dash": "dot"
         },
         "mode": "lines+markers",
         "showlegend": false,
         "type": "scatter",
         "x": [
          "2006",
          "2011",
          "2016",
          "2021"
         ],
         "y": {
          "bdata": "AAAAAAC2p0AAAAAAAPKsQAAAAAAAqrRAAAAAAADwtEA=",
          "dtype": "f8"
         }
        },
        {
         "marker": {
          "color": "#EF553B",
          "size": 6
         },
         "mode": "markers",
         "name": "Path 80",
         "showlegend": false,
         "type": "scatter",
         "x": [
          "2006",
          "2011",
          "2016",
          "2021"
         ],
         "y": {
          "bdata": "AAAAAAC2p0AAAAAAAPKsQAAAAAAAqrRAAAAAAADwtEA=",
          "dtype": "f8"
         }
        },
        {
         "line": {
          "color": "black",
          "dash": "dot"
         },
         "mode": "lines+markers",
         "showlegend": false,
         "type": "scatter",
         "x": [
          "2006",
          "2011",
          "2016",
          "2021"
         ],
         "y": {
          "bdata": "AAAAAABJsUAAAAAAAPGzQAAAAAAAVKVAAAAAAAAJsEA=",
          "dtype": "f8"
         }
        },
        {
         "marker": {
          "color": "#AB63FA",
          "size": 6
         },
         "mode": "markers",
         "name": "Path 81",
         "showlegend": false,
         "type": "scatter",
         "x": [
          "2006",
          "2011",
          "2016",
          "2021"
         ],
         "y": {
          "bdata": "AAAAAABJsUAAAAAAAPGzQAAAAAAAVKVAAAAAAAAJsEA=",
          "dtype": "f8"
         }
        },
        {
         "line": {
          "color": "black",
          "dash": "dot"
         },
         "mode": "lines+markers",
         "showlegend": false,
         "type": "scatter",
         "x": [
          "2006",
          "2011",
          "2016",
          "2021"
         ],
         "y": {
          "bdata": "AAAAAABJsUAAAAAAAPGzQAAAAAAAfqhAAAAAAADKrEA=",
          "dtype": "f8"
         }
        },
        {
         "marker": {
          "color": "#AB63FA",
          "size": 6
         },
         "mode": "markers",
         "name": "Path 82",
         "showlegend": false,
         "type": "scatter",
         "x": [
          "2006",
          "2011",
          "2016",
          "2021"
         ],
         "y": {
          "bdata": "AAAAAABJsUAAAAAAAPGzQAAAAAAAfqhAAAAAAADKrEA=",
          "dtype": "f8"
         }
        },
        {
         "line": {
          "color": "black",
          "dash": "dot"
         },
         "mode": "lines+markers",
         "showlegend": false,
         "type": "scatter",
         "x": [
          "2006",
          "2011",
          "2016",
          "2021"
         ],
         "y": {
          "bdata": "AAAAAABwrEAAAAAAAFSwQAAAAAAARqlAAAAAAADAp0A=",
          "dtype": "f8"
         }
        },
        {
         "marker": {
          "color": "#AB63FA",
          "size": 6
         },
         "mode": "markers",
         "name": "Path 83",
         "showlegend": false,
         "type": "scatter",
         "x": [
          "2006",
          "2011",
          "2016",
          "2021"
         ],
         "y": {
          "bdata": "AAAAAABwrEAAAAAAAFSwQAAAAAAARqlAAAAAAADAp0A=",
          "dtype": "f8"
         }
        },
        {
         "line": {
          "color": "black",
          "dash": "dot"
         },
         "mode": "lines+markers",
         "showlegend": false,
         "type": "scatter",
         "x": [
          "2006",
          "2011",
          "2016",
          "2021"
         ],
         "y": {
          "bdata": "AAAAAABwrEAAAAAAAFSwQAAAAAAAxJ1AAAAAAABypUA=",
          "dtype": "f8"
         }
        },
        {
         "marker": {
          "color": "#AB63FA",
          "size": 6
         },
         "mode": "markers",
         "name": "Path 84",
         "showlegend": false,
         "type": "scatter",
         "x": [
          "2006",
          "2011",
          "2016",
          "2021"
         ],
         "y": {
          "bdata": "AAAAAABwrEAAAAAAAFSwQAAAAAAAxJ1AAAAAAABypUA=",
          "dtype": "f8"
         }
        },
        {
         "line": {
          "color": "black",
          "dash": "dot"
         },
         "mode": "lines+markers",
         "showlegend": false,
         "type": "scatter",
         "x": [
          "2006",
          "2011",
          "2016",
          "2021"
         ],
         "y": {
          "bdata": "AAAAAAA2ukAAAAAAANK5QAAAAAAAoJRAAAAAAAC4lUA=",
          "dtype": "f8"
         }
        },
        {
         "marker": {
          "color": "#AB63FA",
          "size": 6
         },
         "mode": "markers",
         "name": "Path 86",
         "showlegend": false,
         "type": "scatter",
         "x": [
          "2006",
          "2011",
          "2016",
          "2021"
         ],
         "y": {
          "bdata": "AAAAAAA2ukAAAAAAANK5QAAAAAAAoJRAAAAAAAC4lUA=",
          "dtype": "f8"
         }
        },
        {
         "line": {
          "color": "black",
          "dash": "dot"
         },
         "mode": "lines+markers",
         "showlegend": false,
         "type": "scatter",
         "x": [
          "2006",
          "2011",
          "2016",
          "2021"
         ],
         "y": {
          "bdata": "AAAAAAD8p0AAAAAAAGKrQAAAAAAAyKlAAAAAAAB+qEA=",
          "dtype": "f8"
         }
        },
        {
         "marker": {
          "color": "#EF553B",
          "size": 6
         },
         "mode": "markers",
         "name": "Path 88",
         "showlegend": false,
         "type": "scatter",
         "x": [
          "2006",
          "2011",
          "2016",
          "2021"
         ],
         "y": {
          "bdata": "AAAAAAD8p0AAAAAAAGKrQAAAAAAAyKlAAAAAAAB+qEA=",
          "dtype": "f8"
         }
        },
        {
         "line": {
          "color": "black",
          "dash": "dot"
         },
         "mode": "lines+markers",
         "showlegend": false,
         "type": "scatter",
         "x": [
          "2006",
          "2011",
          "2016",
          "2021"
         ],
         "y": {
          "bdata": "AAAAAAACokAAAAAAAEisQAAAAAAAcKxAAAAAAADMtUA=",
          "dtype": "f8"
         }
        },
        {
         "marker": {
          "color": "#EF553B",
          "size": 6
         },
         "mode": "markers",
         "name": "Path 159",
         "showlegend": false,
         "type": "scatter",
         "x": [
          "2006",
          "2011",
          "2016",
          "2021"
         ],
         "y": {
          "bdata": "AAAAAAACokAAAAAAAEisQAAAAAAAcKxAAAAAAADMtUA=",
          "dtype": "f8"
         }
        },
        {
         "line": {
          "color": "black",
          "dash": "dot"
         },
         "mode": "lines+markers",
         "showlegend": false,
         "type": "scatter",
         "x": [
          "2006",
          "2011",
          "2016",
          "2021"
         ],
         "y": {
          "bdata": "AAAAAACQoEAAAAAAANKkQAAAAAAAhqVAAAAAAADoskA=",
          "dtype": "f8"
         }
        },
        {
         "marker": {
          "color": "#EF553B",
          "size": 6
         },
         "mode": "markers",
         "name": "Path 171",
         "showlegend": false,
         "type": "scatter",
         "x": [
          "2006",
          "2011",
          "2016",
          "2021"
         ],
         "y": {
          "bdata": "AAAAAACQoEAAAAAAANKkQAAAAAAAhqVAAAAAAADoskA=",
          "dtype": "f8"
         }
        },
        {
         "line": {
          "color": "black",
          "dash": "dot"
         },
         "mode": "lines+markers",
         "showlegend": false,
         "type": "scatter",
         "x": [
          "2006",
          "2011",
          "2016",
          "2021"
         ],
         "y": {
          "bdata": "AAAAAAD6pEAAAAAAAJKoQAAAAAAAAAAAAAAAAAAAAAA=",
          "dtype": "f8"
         }
        },
        {
         "marker": {
          "color": "#EF553B",
          "size": 6
         },
         "mode": "markers",
         "name": "Path 252",
         "showlegend": false,
         "type": "scatter",
         "x": [
          "2006",
          "2011",
          "2016",
          "2021"
         ],
         "y": {
          "bdata": "AAAAAAD6pEAAAAAAAJKoQAAAAAAAAAAAAAAAAAAAAAA=",
          "dtype": "f8"
         }
        },
        {
         "line": {
          "color": "black",
          "dash": "dot"
         },
         "mode": "lines+markers",
         "showlegend": false,
         "type": "scatter",
         "x": [
          "2006",
          "2011",
          "2016",
          "2021"
         ],
         "y": {
          "bdata": "AAAAAAD6pEAAAAAAAJKoQAAAAAAAK7tAAAAAAAAYsEA=",
          "dtype": "f8"
         }
        },
        {
         "marker": {
          "color": "#EF553B",
          "size": 6
         },
         "mode": "markers",
         "name": "Path 253",
         "showlegend": false,
         "type": "scatter",
         "x": [
          "2006",
          "2011",
          "2016",
          "2021"
         ],
         "y": {
          "bdata": "AAAAAAD6pEAAAAAAAJKoQAAAAAAAK7tAAAAAAAAYsEA=",
          "dtype": "f8"
         }
        },
        {
         "line": {
          "color": "black",
          "dash": "dot"
         },
         "mode": "lines+markers",
         "showlegend": false,
         "type": "scatter",
         "x": [
          "2006",
          "2011",
          "2016",
          "2021"
         ],
         "y": {
          "bdata": "AAAAAAD6pEAAAAAAAJKoQAAAAAAAK7tAAAAAAAABuEA=",
          "dtype": "f8"
         }
        },
        {
         "marker": {
          "color": "#EF553B",
          "size": 6
         },
         "mode": "markers",
         "name": "Path 254",
         "showlegend": false,
         "type": "scatter",
         "x": [
          "2006",
          "2011",
          "2016",
          "2021"
         ],
         "y": {
          "bdata": "AAAAAAD6pEAAAAAAAJKoQAAAAAAAK7tAAAAAAAABuEA=",
          "dtype": "f8"
         }
        },
        {
         "line": {
          "color": "black",
          "dash": "dot"
         },
         "mode": "lines+markers",
         "showlegend": false,
         "type": "scatter",
         "x": [
          "2006",
          "2011",
          "2016",
          "2021"
         ],
         "y": {
          "bdata": "AAAAAAA6pkAAAAAAAMCsQAAAAAAAp7JAAAAAAADctEA=",
          "dtype": "f8"
         }
        },
        {
         "marker": {
          "color": "#EF553B",
          "size": 6
         },
         "mode": "markers",
         "name": "Path 274",
         "showlegend": false,
         "type": "scatter",
         "x": [
          "2006",
          "2011",
          "2016",
          "2021"
         ],
         "y": {
          "bdata": "AAAAAAA6pkAAAAAAAMCsQAAAAAAAp7JAAAAAAADctEA=",
          "dtype": "f8"
         }
        },
        {
         "line": {
          "color": "black",
          "dash": "dot"
         },
         "mode": "lines+markers",
         "showlegend": false,
         "type": "scatter",
         "x": [
          "2006",
          "2011",
          "2016",
          "2021"
         ],
         "y": {
          "bdata": "AAAAAACIqEAAAAAAAAysQAAAAAAANrVAAAAAAAAYoEA=",
          "dtype": "f8"
         }
        },
        {
         "marker": {
          "color": "#AB63FA",
          "size": 6
         },
         "mode": "markers",
         "name": "Path 384",
         "showlegend": false,
         "type": "scatter",
         "x": [
          "2006",
          "2011",
          "2016",
          "2021"
         ],
         "y": {
          "bdata": "AAAAAACIqEAAAAAAAAysQAAAAAAANrVAAAAAAAAYoEA=",
          "dtype": "f8"
         }
        },
        {
         "line": {
          "color": "black",
          "dash": "dot"
         },
         "mode": "lines+markers",
         "showlegend": false,
         "type": "scatter",
         "x": [
          "2006",
          "2011",
          "2016",
          "2021"
         ],
         "y": {
          "bdata": "AAAAAACIqEAAAAAAAAysQAAAAAAANrVAAAAAAACmqEA=",
          "dtype": "f8"
         }
        },
        {
         "marker": {
          "color": "#AB63FA",
          "size": 6
         },
         "mode": "markers",
         "name": "Path 385",
         "showlegend": false,
         "type": "scatter",
         "x": [
          "2006",
          "2011",
          "2016",
          "2021"
         ],
         "y": {
          "bdata": "AAAAAACIqEAAAAAAAAysQAAAAAAANrVAAAAAAACmqEA=",
          "dtype": "f8"
         }
        },
        {
         "line": {
          "color": "black",
          "dash": "dot"
         },
         "mode": "lines+markers",
         "showlegend": false,
         "type": "scatter",
         "x": [
          "2006",
          "2011",
          "2016",
          "2021"
         ],
         "y": {
          "bdata": "AAAAAACIqEAAAAAAAAysQAAAAAAANrVAAAAAAABgbUA=",
          "dtype": "f8"
         }
        },
        {
         "marker": {
          "color": "#AB63FA",
          "size": 6
         },
         "mode": "markers",
         "name": "Path 386",
         "showlegend": false,
         "type": "scatter",
         "x": [
          "2006",
          "2011",
          "2016",
          "2021"
         ],
         "y": {
          "bdata": "AAAAAACIqEAAAAAAAAysQAAAAAAANrVAAAAAAABgbUA=",
          "dtype": "f8"
         }
        },
        {
         "line": {
          "color": "black",
          "dash": "dot"
         },
         "mode": "lines+markers",
         "showlegend": false,
         "type": "scatter",
         "x": [
          "2006",
          "2011",
          "2016",
          "2021"
         ],
         "y": {
          "bdata": "AAAAAAAypEAAAAAAAAihQAAAAAAAhrBAAAAAAACApkA=",
          "dtype": "f8"
         }
        },
        {
         "marker": {
          "color": "#EF553B",
          "size": 6
         },
         "mode": "markers",
         "name": "Path 402",
         "showlegend": false,
         "type": "scatter",
         "x": [
          "2006",
          "2011",
          "2016",
          "2021"
         ],
         "y": {
          "bdata": "AAAAAAAypEAAAAAAAAihQAAAAAAAhrBAAAAAAACApkA=",
          "dtype": "f8"
         }
        },
        {
         "line": {
          "color": "black",
          "dash": "dot"
         },
         "mode": "lines+markers",
         "showlegend": false,
         "type": "scatter",
         "x": [
          "2006",
          "2011",
          "2016",
          "2021"
         ],
         "y": {
          "bdata": "AAAAAAAypEAAAAAAAAihQAAAAAAAhrBAAAAAAACYokA=",
          "dtype": "f8"
         }
        },
        {
         "marker": {
          "color": "#EF553B",
          "size": 6
         },
         "mode": "markers",
         "name": "Path 403",
         "showlegend": false,
         "type": "scatter",
         "x": [
          "2006",
          "2011",
          "2016",
          "2021"
         ],
         "y": {
          "bdata": "AAAAAAAypEAAAAAAAAihQAAAAAAAhrBAAAAAAACYokA=",
          "dtype": "f8"
         }
        },
        {
         "line": {
          "color": "black",
          "dash": "dot"
         },
         "mode": "lines+markers",
         "showlegend": false,
         "type": "scatter",
         "x": [
          "2006",
          "2011",
          "2016",
          "2021"
         ],
         "y": {
          "bdata": "AAAAAACnskAAAAAAAFihQAAAAAAAbKFAAAAAAAD+oEA=",
          "dtype": "f8"
         }
        },
        {
         "marker": {
          "color": "#AB63FA",
          "size": 6
         },
         "mode": "markers",
         "name": "Path 406",
         "showlegend": false,
         "type": "scatter",
         "x": [
          "2006",
          "2011",
          "2016",
          "2021"
         ],
         "y": {
          "bdata": "AAAAAACnskAAAAAAAFihQAAAAAAAbKFAAAAAAAD+oEA=",
          "dtype": "f8"
         }
        },
        {
         "line": {
          "color": "black",
          "dash": "dot"
         },
         "mode": "lines+markers",
         "showlegend": false,
         "type": "scatter",
         "x": [
          "2006",
          "2011",
          "2016",
          "2021"
         ],
         "y": {
          "bdata": "AAAAAACnskAAAAAAAAKnQAAAAAAA0qlAAAAAAAD6qUA=",
          "dtype": "f8"
         }
        },
        {
         "marker": {
          "color": "#AB63FA",
          "size": 6
         },
         "mode": "markers",
         "name": "Path 407",
         "showlegend": false,
         "type": "scatter",
         "x": [
          "2006",
          "2011",
          "2016",
          "2021"
         ],
         "y": {
          "bdata": "AAAAAACnskAAAAAAAAKnQAAAAAAA0qlAAAAAAAD6qUA=",
          "dtype": "f8"
         }
        },
        {
         "line": {
          "color": "black",
          "dash": "dot"
         },
         "mode": "lines+markers",
         "showlegend": false,
         "type": "scatter",
         "x": [
          "2006",
          "2011",
          "2016",
          "2021"
         ],
         "y": {
          "bdata": "AAAAAAA4rUAAAAAAADCbQAAAAAAAbJtAAAAAAAC4mkA=",
          "dtype": "f8"
         }
        },
        {
         "marker": {
          "color": "#AB63FA",
          "size": 6
         },
         "mode": "markers",
         "name": "Path 408",
         "showlegend": false,
         "type": "scatter",
         "x": [
          "2006",
          "2011",
          "2016",
          "2021"
         ],
         "y": {
          "bdata": "AAAAAAA4rUAAAAAAADCbQAAAAAAAbJtAAAAAAAC4mkA=",
          "dtype": "f8"
         }
        },
        {
         "line": {
          "color": "black",
          "dash": "dot"
         },
         "mode": "lines+markers",
         "showlegend": false,
         "type": "scatter",
         "x": [
          "2006",
          "2011",
          "2016",
          "2021"
         ],
         "y": {
          "bdata": "AAAAAAA4rUAAAAAAAKCeQAAAAAAAnJ1AAAAAAAB0nUA=",
          "dtype": "f8"
         }
        },
        {
         "marker": {
          "color": "#AB63FA",
          "size": 6
         },
         "mode": "markers",
         "name": "Path 409",
         "showlegend": false,
         "type": "scatter",
         "x": [
          "2006",
          "2011",
          "2016",
          "2021"
         ],
         "y": {
          "bdata": "AAAAAAA4rUAAAAAAAKCeQAAAAAAAnJ1AAAAAAAB0nUA=",
          "dtype": "f8"
         }
        },
        {
         "line": {
          "color": "black",
          "dash": "dot"
         },
         "mode": "lines+markers",
         "showlegend": false,
         "type": "scatter",
         "x": [
          "2006",
          "2011",
          "2016",
          "2021"
         ],
         "y": {
          "bdata": "AAAAAAA4rUAAAAAAAHCCQAAAAAAAwIxAAAAAAABgjUA=",
          "dtype": "f8"
         }
        },
        {
         "marker": {
          "color": "#AB63FA",
          "size": 6
         },
         "mode": "markers",
         "name": "Path 410",
         "showlegend": false,
         "type": "scatter",
         "x": [
          "2006",
          "2011",
          "2016",
          "2021"
         ],
         "y": {
          "bdata": "AAAAAAA4rUAAAAAAAHCCQAAAAAAAwIxAAAAAAABgjUA=",
          "dtype": "f8"
         }
        },
        {
         "line": {
          "color": "black",
          "dash": "dot"
         },
         "mode": "lines+markers",
         "showlegend": false,
         "type": "scatter",
         "x": [
          "2006",
          "2011",
          "2016",
          "2021"
         ],
         "y": {
          "bdata": "AAAAAADio0AAAAAAACStQAAAAAAAAAAAAAAAAAAAAAA=",
          "dtype": "f8"
         }
        },
        {
         "marker": {
          "color": "#EF553B",
          "size": 6
         },
         "mode": "markers",
         "name": "Path 411",
         "showlegend": false,
         "type": "scatter",
         "x": [
          "2006",
          "2011",
          "2016",
          "2021"
         ],
         "y": {
          "bdata": "AAAAAADio0AAAAAAACStQAAAAAAAAAAAAAAAAAAAAAA=",
          "dtype": "f8"
         }
        },
        {
         "line": {
          "color": "black",
          "dash": "dot"
         },
         "mode": "lines+markers",
         "showlegend": false,
         "type": "scatter",
         "x": [
          "2006",
          "2011",
          "2016",
          "2021"
         ],
         "y": {
          "bdata": "AAAAAADio0AAAAAAACStQAAAAAAAFrJAAAAAAAAAAAA=",
          "dtype": "f8"
         }
        },
        {
         "marker": {
          "color": "#EF553B",
          "size": 6
         },
         "mode": "markers",
         "name": "Path 412",
         "showlegend": false,
         "type": "scatter",
         "x": [
          "2006",
          "2011",
          "2016",
          "2021"
         ],
         "y": {
          "bdata": "AAAAAADio0AAAAAAACStQAAAAAAAFrJAAAAAAAAAAAA=",
          "dtype": "f8"
         }
        },
        {
         "line": {
          "color": "black",
          "dash": "dot"
         },
         "mode": "lines+markers",
         "showlegend": false,
         "type": "scatter",
         "x": [
          "2006",
          "2011",
          "2016",
          "2021"
         ],
         "y": {
          "bdata": "AAAAAADio0AAAAAAACStQAAAAAAAFrJAAAAAAACupUA=",
          "dtype": "f8"
         }
        },
        {
         "marker": {
          "color": "#EF553B",
          "size": 6
         },
         "mode": "markers",
         "name": "Path 413",
         "showlegend": false,
         "type": "scatter",
         "x": [
          "2006",
          "2011",
          "2016",
          "2021"
         ],
         "y": {
          "bdata": "AAAAAADio0AAAAAAACStQAAAAAAAFrJAAAAAAACupUA=",
          "dtype": "f8"
         }
        },
        {
         "line": {
          "color": "black",
          "dash": "dot"
         },
         "mode": "lines+markers",
         "showlegend": false,
         "type": "scatter",
         "x": [
          "2006",
          "2011",
          "2016",
          "2021"
         ],
         "y": {
          "bdata": "AAAAAADio0AAAAAAACStQAAAAAAAFrJAAAAAAADWoEA=",
          "dtype": "f8"
         }
        },
        {
         "marker": {
          "color": "#EF553B",
          "size": 6
         },
         "mode": "markers",
         "name": "Path 414",
         "showlegend": false,
         "type": "scatter",
         "x": [
          "2006",
          "2011",
          "2016",
          "2021"
         ],
         "y": {
          "bdata": "AAAAAADio0AAAAAAACStQAAAAAAAFrJAAAAAAADWoEA=",
          "dtype": "f8"
         }
        },
        {
         "line": {
          "color": "#636EFA"
         },
         "mode": "lines+markers",
         "name": "Cluster 0",
         "type": "scatter",
         "x": [
          "2006",
          "2011",
          "2016",
          "2021"
         ],
         "y": {
          "bdata": "LWQhC1mMiEDFrIUCOraFQKAsgU37hYhA1sPqYfVgiUA=",
          "dtype": "f8"
         }
        },
        {
         "line": {
          "color": "#EF553B"
         },
         "mode": "lines+markers",
         "name": "Cluster 1",
         "type": "scatter",
         "x": [
          "2006",
          "2011",
          "2016",
          "2021"
         ],
         "y": {
          "bdata": "6Hme5/lWoEB5DeU1lEOfQC+66KKLVqJA+85GfWcOo0A=",
          "dtype": "f8"
         }
        },
        {
         "line": {
          "color": "#AB63FA"
         },
         "mode": "lines+markers",
         "name": "Cluster 3",
         "type": "scatter",
         "x": [
          "2006",
          "2011",
          "2016",
          "2021"
         ],
         "y": {
          "bdata": "nud5nufmsEBLS0tLS2exQFVVVVX1ubdAchzHcZwftkA=",
          "dtype": "f8"
         }
        }
       ],
       "layout": {
        "height": 500,
        "legend": {
         "title": {
          "text": "Legend"
         }
        },
        "template": {
         "data": {
          "bar": [
           {
            "error_x": {
             "color": "#2a3f5f"
            },
            "error_y": {
             "color": "#2a3f5f"
            },
            "marker": {
             "line": {
              "color": "#E5ECF6",
              "width": 0.5
             },
             "pattern": {
              "fillmode": "overlay",
              "size": 10,
              "solidity": 0.2
             }
            },
            "type": "bar"
           }
          ],
          "barpolar": [
           {
            "marker": {
             "line": {
              "color": "#E5ECF6",
              "width": 0.5
             },
             "pattern": {
              "fillmode": "overlay",
              "size": 10,
              "solidity": 0.2
             }
            },
            "type": "barpolar"
           }
          ],
          "carpet": [
           {
            "aaxis": {
             "endlinecolor": "#2a3f5f",
             "gridcolor": "white",
             "linecolor": "white",
             "minorgridcolor": "white",
             "startlinecolor": "#2a3f5f"
            },
            "baxis": {
             "endlinecolor": "#2a3f5f",
             "gridcolor": "white",
             "linecolor": "white",
             "minorgridcolor": "white",
             "startlinecolor": "#2a3f5f"
            },
            "type": "carpet"
           }
          ],
          "choropleth": [
           {
            "colorbar": {
             "outlinewidth": 0,
             "ticks": ""
            },
            "type": "choropleth"
           }
          ],
          "contour": [
           {
            "colorbar": {
             "outlinewidth": 0,
             "ticks": ""
            },
            "colorscale": [
             [
              0,
              "#0d0887"
             ],
             [
              0.1111111111111111,
              "#46039f"
             ],
             [
              0.2222222222222222,
              "#7201a8"
             ],
             [
              0.3333333333333333,
              "#9c179e"
             ],
             [
              0.4444444444444444,
              "#bd3786"
             ],
             [
              0.5555555555555556,
              "#d8576b"
             ],
             [
              0.6666666666666666,
              "#ed7953"
             ],
             [
              0.7777777777777778,
              "#fb9f3a"
             ],
             [
              0.8888888888888888,
              "#fdca26"
             ],
             [
              1,
              "#f0f921"
             ]
            ],
            "type": "contour"
           }
          ],
          "contourcarpet": [
           {
            "colorbar": {
             "outlinewidth": 0,
             "ticks": ""
            },
            "type": "contourcarpet"
           }
          ],
          "heatmap": [
           {
            "colorbar": {
             "outlinewidth": 0,
             "ticks": ""
            },
            "colorscale": [
             [
              0,
              "#0d0887"
             ],
             [
              0.1111111111111111,
              "#46039f"
             ],
             [
              0.2222222222222222,
              "#7201a8"
             ],
             [
              0.3333333333333333,
              "#9c179e"
             ],
             [
              0.4444444444444444,
              "#bd3786"
             ],
             [
              0.5555555555555556,
              "#d8576b"
             ],
             [
              0.6666666666666666,
              "#ed7953"
             ],
             [
              0.7777777777777778,
              "#fb9f3a"
             ],
             [
              0.8888888888888888,
              "#fdca26"
             ],
             [
              1,
              "#f0f921"
             ]
            ],
            "type": "heatmap"
           }
          ],
          "histogram": [
           {
            "marker": {
             "pattern": {
              "fillmode": "overlay",
              "size": 10,
              "solidity": 0.2
             }
            },
            "type": "histogram"
           }
          ],
          "histogram2d": [
           {
            "colorbar": {
             "outlinewidth": 0,
             "ticks": ""
            },
            "colorscale": [
             [
              0,
              "#0d0887"
             ],
             [
              0.1111111111111111,
              "#46039f"
             ],
             [
              0.2222222222222222,
              "#7201a8"
             ],
             [
              0.3333333333333333,
              "#9c179e"
             ],
             [
              0.4444444444444444,
              "#bd3786"
             ],
             [
              0.5555555555555556,
              "#d8576b"
             ],
             [
              0.6666666666666666,
              "#ed7953"
             ],
             [
              0.7777777777777778,
              "#fb9f3a"
             ],
             [
              0.8888888888888888,
              "#fdca26"
             ],
             [
              1,
              "#f0f921"
             ]
            ],
            "type": "histogram2d"
           }
          ],
          "histogram2dcontour": [
           {
            "colorbar": {
             "outlinewidth": 0,
             "ticks": ""
            },
            "colorscale": [
             [
              0,
              "#0d0887"
             ],
             [
              0.1111111111111111,
              "#46039f"
             ],
             [
              0.2222222222222222,
              "#7201a8"
             ],
             [
              0.3333333333333333,
              "#9c179e"
             ],
             [
              0.4444444444444444,
              "#bd3786"
             ],
             [
              0.5555555555555556,
              "#d8576b"
             ],
             [
              0.6666666666666666,
              "#ed7953"
             ],
             [
              0.7777777777777778,
              "#fb9f3a"
             ],
             [
              0.8888888888888888,
              "#fdca26"
             ],
             [
              1,
              "#f0f921"
             ]
            ],
            "type": "histogram2dcontour"
           }
          ],
          "mesh3d": [
           {
            "colorbar": {
             "outlinewidth": 0,
             "ticks": ""
            },
            "type": "mesh3d"
           }
          ],
          "parcoords": [
           {
            "line": {
             "colorbar": {
              "outlinewidth": 0,
              "ticks": ""
             }
            },
            "type": "parcoords"
           }
          ],
          "pie": [
           {
            "automargin": true,
            "type": "pie"
           }
          ],
          "scatter": [
           {
            "fillpattern": {
             "fillmode": "overlay",
             "size": 10,
             "solidity": 0.2
            },
            "type": "scatter"
           }
          ],
          "scatter3d": [
           {
            "line": {
             "colorbar": {
              "outlinewidth": 0,
              "ticks": ""
             }
            },
            "marker": {
             "colorbar": {
              "outlinewidth": 0,
              "ticks": ""
             }
            },
            "type": "scatter3d"
           }
          ],
          "scattercarpet": [
           {
            "marker": {
             "colorbar": {
              "outlinewidth": 0,
              "ticks": ""
             }
            },
            "type": "scattercarpet"
           }
          ],
          "scattergeo": [
           {
            "marker": {
             "colorbar": {
              "outlinewidth": 0,
              "ticks": ""
             }
            },
            "type": "scattergeo"
           }
          ],
          "scattergl": [
           {
            "marker": {
             "colorbar": {
              "outlinewidth": 0,
              "ticks": ""
             }
            },
            "type": "scattergl"
           }
          ],
          "scattermap": [
           {
            "marker": {
             "colorbar": {
              "outlinewidth": 0,
              "ticks": ""
             }
            },
            "type": "scattermap"
           }
          ],
          "scattermapbox": [
           {
            "marker": {
             "colorbar": {
              "outlinewidth": 0,
              "ticks": ""
             }
            },
            "type": "scattermapbox"
           }
          ],
          "scatterpolar": [
           {
            "marker": {
             "colorbar": {
              "outlinewidth": 0,
              "ticks": ""
             }
            },
            "type": "scatterpolar"
           }
          ],
          "scatterpolargl": [
           {
            "marker": {
             "colorbar": {
              "outlinewidth": 0,
              "ticks": ""
             }
            },
            "type": "scatterpolargl"
           }
          ],
          "scatterternary": [
           {
            "marker": {
             "colorbar": {
              "outlinewidth": 0,
              "ticks": ""
             }
            },
            "type": "scatterternary"
           }
          ],
          "surface": [
           {
            "colorbar": {
             "outlinewidth": 0,
             "ticks": ""
            },
            "colorscale": [
             [
              0,
              "#0d0887"
             ],
             [
              0.1111111111111111,
              "#46039f"
             ],
             [
              0.2222222222222222,
              "#7201a8"
             ],
             [
              0.3333333333333333,
              "#9c179e"
             ],
             [
              0.4444444444444444,
              "#bd3786"
             ],
             [
              0.5555555555555556,
              "#d8576b"
             ],
             [
              0.6666666666666666,
              "#ed7953"
             ],
             [
              0.7777777777777778,
              "#fb9f3a"
             ],
             [
              0.8888888888888888,
              "#fdca26"
             ],
             [
              1,
              "#f0f921"
             ]
            ],
            "type": "surface"
           }
          ],
          "table": [
           {
            "cells": {
             "fill": {
              "color": "#EBF0F8"
             },
             "line": {
              "color": "white"
             }
            },
            "header": {
             "fill": {
              "color": "#C8D4E3"
             },
             "line": {
              "color": "white"
             }
            },
            "type": "table"
           }
          ]
         },
         "layout": {
          "annotationdefaults": {
           "arrowcolor": "#2a3f5f",
           "arrowhead": 0,
           "arrowwidth": 1
          },
          "autotypenumbers": "strict",
          "coloraxis": {
           "colorbar": {
            "outlinewidth": 0,
            "ticks": ""
           }
          },
          "colorscale": {
           "diverging": [
            [
             0,
             "#8e0152"
            ],
            [
             0.1,
             "#c51b7d"
            ],
            [
             0.2,
             "#de77ae"
            ],
            [
             0.3,
             "#f1b6da"
            ],
            [
             0.4,
             "#fde0ef"
            ],
            [
             0.5,
             "#f7f7f7"
            ],
            [
             0.6,
             "#e6f5d0"
            ],
            [
             0.7,
             "#b8e186"
            ],
            [
             0.8,
             "#7fbc41"
            ],
            [
             0.9,
             "#4d9221"
            ],
            [
             1,
             "#276419"
            ]
           ],
           "sequential": [
            [
             0,
             "#0d0887"
            ],
            [
             0.1111111111111111,
             "#46039f"
            ],
            [
             0.2222222222222222,
             "#7201a8"
            ],
            [
             0.3333333333333333,
             "#9c179e"
            ],
            [
             0.4444444444444444,
             "#bd3786"
            ],
            [
             0.5555555555555556,
             "#d8576b"
            ],
            [
             0.6666666666666666,
             "#ed7953"
            ],
            [
             0.7777777777777778,
             "#fb9f3a"
            ],
            [
             0.8888888888888888,
             "#fdca26"
            ],
            [
             1,
             "#f0f921"
            ]
           ],
           "sequentialminus": [
            [
             0,
             "#0d0887"
            ],
            [
             0.1111111111111111,
             "#46039f"
            ],
            [
             0.2222222222222222,
             "#7201a8"
            ],
            [
             0.3333333333333333,
             "#9c179e"
            ],
            [
             0.4444444444444444,
             "#bd3786"
            ],
            [
             0.5555555555555556,
             "#d8576b"
            ],
            [
             0.6666666666666666,
             "#ed7953"
            ],
            [
             0.7777777777777778,
             "#fb9f3a"
            ],
            [
             0.8888888888888888,
             "#fdca26"
            ],
            [
             1,
             "#f0f921"
            ]
           ]
          },
          "colorway": [
           "#636efa",
           "#EF553B",
           "#00cc96",
           "#ab63fa",
           "#FFA15A",
           "#19d3f3",
           "#FF6692",
           "#B6E880",
           "#FF97FF",
           "#FECB52"
          ],
          "font": {
           "color": "#2a3f5f"
          },
          "geo": {
           "bgcolor": "white",
           "lakecolor": "white",
           "landcolor": "#E5ECF6",
           "showlakes": true,
           "showland": true,
           "subunitcolor": "white"
          },
          "hoverlabel": {
           "align": "left"
          },
          "hovermode": "closest",
          "mapbox": {
           "style": "light"
          },
          "paper_bgcolor": "white",
          "plot_bgcolor": "#E5ECF6",
          "polar": {
           "angularaxis": {
            "gridcolor": "white",
            "linecolor": "white",
            "ticks": ""
           },
           "bgcolor": "#E5ECF6",
           "radialaxis": {
            "gridcolor": "white",
            "linecolor": "white",
            "ticks": ""
           }
          },
          "scene": {
           "xaxis": {
            "backgroundcolor": "#E5ECF6",
            "gridcolor": "white",
            "gridwidth": 2,
            "linecolor": "white",
            "showbackground": true,
            "ticks": "",
            "zerolinecolor": "white"
           },
           "yaxis": {
            "backgroundcolor": "#E5ECF6",
            "gridcolor": "white",
            "gridwidth": 2,
            "linecolor": "white",
            "showbackground": true,
            "ticks": "",
            "zerolinecolor": "white"
           },
           "zaxis": {
            "backgroundcolor": "#E5ECF6",
            "gridcolor": "white",
            "gridwidth": 2,
            "linecolor": "white",
            "showbackground": true,
            "ticks": "",
            "zerolinecolor": "white"
           }
          },
          "shapedefaults": {
           "line": {
            "color": "#2a3f5f"
           }
          },
          "ternary": {
           "aaxis": {
            "gridcolor": "white",
            "linecolor": "white",
            "ticks": ""
           },
           "baxis": {
            "gridcolor": "white",
            "linecolor": "white",
            "ticks": ""
           },
           "bgcolor": "#E5ECF6",
           "caxis": {
            "gridcolor": "white",
            "linecolor": "white",
            "ticks": ""
           }
          },
          "title": {
           "x": 0.05
          },
          "xaxis": {
           "automargin": true,
           "gridcolor": "white",
           "linecolor": "white",
           "ticks": "",
           "title": {
            "standoff": 15
           },
           "zerolinecolor": "white",
           "zerolinewidth": 2
          },
          "yaxis": {
           "automargin": true,
           "gridcolor": "white",
           "linecolor": "white",
           "ticks": "",
           "title": {
            "standoff": 15
           },
           "zerolinecolor": "white",
           "zerolinewidth": 2
          }
         }
        },
        "title": {
         "text": "Feature apt_five_or_more"
        },
        "width": 700,
        "xaxis": {
         "tickangle": 45,
         "title": {
          "text": "Year"
         }
        },
        "yaxis": {
         "title": {
          "text": "Value"
         }
        }
       }
      }
     },
     "metadata": {},
     "output_type": "display_data"
    }
   ],
   "source": [
    "# %pip install nbformat needed if working in ipynb\n",
    "# next steps:\n",
    "# change testing notebook\n",
    "# pass in colours to all plots so they are the same & work with colourblindness\n",
    "# make other plots more customizable-- titles, x axis rotation, cluster labels, figsize\n",
    "figs = pc2.plot_clusters(\n",
    "    tsc=tsc,\n",
    "    network_table=network_table,\n",
    "    arr=arr,\n",
    "    label_dict=label_dict,\n",
    "    clusters_to_show=[3],\n",
    "    clusters_to_exclude=[],\n",
    "    hover_labels=True,\n",
    ")\n",
    "for fig in figs:\n",
    "    fig.show()"
   ]
  }
 ],
 "metadata": {
  "kernelspec": {
   "display_name": "Python 3",
   "language": "python",
   "name": "python3"
  },
  "language_info": {
   "codemirror_mode": {
    "name": "ipython",
    "version": 3
   },
   "file_extension": ".py",
   "mimetype": "text/x-python",
   "name": "python",
   "nbconvert_exporter": "python",
   "pygments_lexer": "ipython3",
   "version": "3.12.10"
  }
 },
 "nbformat": 4,
 "nbformat_minor": 5
}
