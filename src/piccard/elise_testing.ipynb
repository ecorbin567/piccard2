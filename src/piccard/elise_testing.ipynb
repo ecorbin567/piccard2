{
 "cells": [
  {
   "cell_type": "code",
   "execution_count": 1,
   "id": "59622d46",
   "metadata": {},
   "outputs": [],
   "source": [
    "import piccard as pc\n",
    "import piccard2 as pc2\n",
    "\n",
    "# install other dependencies, pip install first if needed\n",
    "from tscluster.tsplot import tsplot\n",
    "import geopandas as gpd\n",
    "import numpy as np\n",
    "import matplotlib.pyplot as plt\n",
    "\n",
    "import warnings\n",
    "warnings.filterwarnings('ignore')"
   ]
  },
  {
   "cell_type": "code",
   "execution_count": 2,
   "id": "934d1afc",
   "metadata": {},
   "outputs": [],
   "source": [
    "households_data_2021 = gpd.read_file(\"https://raw.githubusercontent.com/ecorbin567/piccard2/refs/heads/main/docs/piccard2_testing_data/households_data_2021.geojson\")\n",
    "households_data_2016 = gpd.read_file(\"https://raw.githubusercontent.com/ecorbin567/piccard2/refs/heads/main/docs/piccard2_testing_data/households_data_2016.geojson\")\n",
    "households_data_2011 = gpd.read_file(\"https://raw.githubusercontent.com/ecorbin567/piccard2/refs/heads/main/docs/piccard2_testing_data/households_data_2011.geojson\")\n",
    "households_data_2006 = gpd.read_file(\"https://raw.githubusercontent.com/ecorbin567/piccard2/refs/heads/main/docs/piccard2_testing_data/households_data_2006.geojson\")\n",
    "\n",
    "households_data_2021.rename(columns={'v_CA21_434: Occupied private dwellings by structural type of dwelling data': 'occupied_private_dwellings',\n",
    "                                     'v_CA21_435: Single-detached house': 'single_detached_house',\n",
    "                                     'v_CA21_440: Apartment in a building that has five or more storeys': 'apt_five_or_more'}, inplace=True)\n",
    "households_data_2016.rename(columns={'v_CA16_408: Occupied private dwellings by structural type of dwelling data': 'occupied_private_dwellings',\n",
    "                                     'v_CA16_409: Single-detached house': 'single_detached_house',\n",
    "                                     'v_CA16_410: Apartment in a building that has five or more storeys': 'apt_five_or_more'}, inplace=True)\n",
    "households_data_2011.rename(columns={'v_CA11F_199: Total number of occupied private dwellings by structural type of dwelling': 'occupied_private_dwellings',\n",
    "                                     'v_CA11F_200: Single-detached house': 'single_detached_house',\n",
    "                                     'v_CA11F_201: Apartment, building that has five or more storeys': 'apt_five_or_more',}, inplace=True)\n",
    "households_data_2006.rename(columns={'v_CA06_119: Total number of occupied private dwellings by structural type of dwelling - data': 'occupied_private_dwellings',\n",
    "                                     'v_CA06_120: Single-detached house': 'single_detached_house',\n",
    "                                     'v_CA06_124: Apartment, building that has five or more storeys': 'apt_five_or_more',}, inplace=True)"
   ]
  },
  {
   "cell_type": "code",
   "execution_count": 3,
   "id": "085fdf35",
   "metadata": {},
   "outputs": [],
   "source": [
    "census_dfs = [households_data_2006, households_data_2011, households_data_2016, households_data_2021]\n",
    "years = ['2006', '2011', '2016', '2021']\n",
    "\n",
    "network_table = pc.create_network_table(census_dfs, years, 'GeoUID')\n",
    "G = pc.create_network(census_dfs, years, 'GeoUID', 0.05)"
   ]
  },
  {
   "cell_type": "code",
   "execution_count": 4,
   "id": "65a6ff6c",
   "metadata": {},
   "outputs": [],
   "source": [
    "arr, label_dict = pc2.clustering_prep(network_table, 'name', [\n",
    "    'occupied_private_dwellings_2006', 'single_detached_house_2006', 'apt_five_or_more_2006',\n",
    "    'occupied_private_dwellings_2011', 'single_detached_house_2011', 'apt_five_or_more_2011',\n",
    "    'occupied_private_dwellings_2016', 'single_detached_house_2016', 'apt_five_or_more_2016',\n",
    "    'occupied_private_dwellings_2021', 'single_detached_house_2021', 'apt_five_or_more_2021'])"
   ]
  },
  {
   "cell_type": "code",
   "execution_count": 5,
   "id": "ff85bf80",
   "metadata": {},
   "outputs": [
    {
     "name": "stdout",
     "output_type": "stream",
     "text": [
      "Initialization with kmeans++, Sum of Distance: 2378037516.6667, Max Distance: 6859.2583\n",
      "Iteration 0, Sum of distance: 1783766278.9400, Max distance: 7594.8886, Number of change: 149\n",
      "Iteration 5, Sum of distance: 1562560998.9736, Max distance: 7594.8886, Number of change: 46\n",
      "Iteration 10, Sum of distance: 1553885796.4576, Max distance: 7594.8886, Number of change: 0\n",
      "Converged at iteration 15, Sum of distance: 1553885796.4576, Max distance: 7594.8886\n"
     ]
    }
   ],
   "source": [
    "tsc = pc2.cluster(network_table, G, 'GeoUID', 4, arr=arr, label_dict=label_dict)"
   ]
  },
  {
   "cell_type": "code",
   "execution_count": null,
   "id": "4e3da3b2",
   "metadata": {},
   "outputs": [],
   "source": [
    "import numpy as np\n",
    "import plotly.graph_objects as go\n",
    "import plotly\n",
    "from typing import Union, List, Tuple\n",
    "from tscluster.opttscluster import OptTSCluster\n",
    "from tscluster.greedytscluster import GreedyTSCluster\n",
    "from itertools import cycle, islice\n",
    "import pandas as pd\n",
    "\n",
    "def plot_plotly(\n",
    "    tsc: Union[OptTSCluster, GreedyTSCluster],\n",
    "    network_table: pd.DataFrame,\n",
    "    arr: np.ndarray[np.float64],\n",
    "    label_dict: dict,\n",
    "    dynamic_entities_only: bool = True,\n",
    "    entities_to_show: List[int] | None = None,\n",
    "    clusters_to_show: List[int] | None = None, \n",
    "    clusters_to_exclude: List[int] = [],\n",
    "    cluster_centres_to_show: List[int] | None = None,\n",
    "    figsize: Tuple[float, float] | None = None,\n",
    "    shape_of_subplot: Tuple[int, int] | None = None,\n",
    "    cluster_labels: List[str] | None = None,\n",
    "    title_list: List[str] | None = None,\n",
    "    x_rotation: float | int = 45,\n",
    "    hover_labels: bool = False,\n",
    "    ) -> go.Figure:\n",
    "\n",
    "    # define cluster centres and labels from tsc\n",
    "    cluster_centres= tsc.cluster_centers_\n",
    "    labels = tsc.labels_\n",
    "\n",
    "    # define arrays of shapes of timesteps, entities, features, and cluster centres\n",
    "    T = arr.shape[0] if arr is not None else cluster_centres.shape[0]\n",
    "    N = arr.shape[1] if arr is not None else 0\n",
    "    F = arr.shape[2] if arr is not None else cluster_centres.shape[2]\n",
    "    K = cluster_centres.shape[1] if cluster_centres is not None else (np.unique(labels).size if labels is not None else 1)\n",
    "\n",
    "    # set default values\n",
    "    if entities_to_show is None:\n",
    "        entities_to_show = label_dict['N'] # show all entities\n",
    "    \n",
    "    if clusters_to_show is None:\n",
    "        clusters_to_show = [i for i in range(K)] # show all clusters\n",
    "    \n",
    "    if cluster_centres_to_show is None:\n",
    "        cluster_centres_to_show = [i for i in range(K)] # show all cluster centres\n",
    "\n",
    "    if shape_of_subplot is None:\n",
    "        shape_of_subplot = (F, 1)\n",
    "\n",
    "    if cluster_labels is None:\n",
    "        cluster_labels = [i for i in range(K)]\n",
    "\n",
    "    if title_list is None:\n",
    "        title_list = [f\"Feature {f}\" for f in label_dict['F']]\n",
    "\n",
    "    # set colours\n",
    "    colors = plotly.colors.qualitative.Plotly\n",
    "    if K > len(colors):\n",
    "        colors = list(islice(cycle(colors), K))\n",
    "\n",
    "    # define subplots for each feature\n",
    "    fig = plotly.subplots.make_subplots(rows=shape_of_subplot[0], cols=shape_of_subplot[1], subplot_titles=title_list, shared_xaxes=False, vertical_spacing=0.06)\n",
    "    \n",
    "    # figure out which entities to show\n",
    "    entities_to_show = [item for item in entities_to_show if any([cluster in [int(i) for i in list(network_table.iloc[item][-4:])] for cluster in clusters_to_show])]\n",
    "    entities_to_show = [item for item in entities_to_show if all([cluster not in [int(i) for i in list(network_table.iloc[item][-4:])] for cluster in clusters_to_exclude])]\n",
    "    if dynamic_entities_only:\n",
    "        dynamic_entities = [label_dict['N'].index(i) for i in tsc.get_dynamic_entities()[0]]\n",
    "        entities_to_show = [item for item in entities_to_show if item in dynamic_entities]\n",
    "\n",
    "    # iterate through features\n",
    "    for f in range(F):\n",
    "        row = f + 1\n",
    "        col = 1\n",
    "        if arr is not None:\n",
    "            # iterate through each path\n",
    "            for i in entities_to_show:\n",
    "                mode = 'lines+markers' if hover_labels else 'lines'\n",
    "                # plot lines indicating values\n",
    "                fig.add_trace(\n",
    "                    go.Scatter(\n",
    "                        x=label_dict['T'],\n",
    "                        y=arr[:, i, f],\n",
    "                        mode=mode,\n",
    "                        line=dict(color='black', dash='dot'),\n",
    "                        showlegend=False\n",
    "                    ),\n",
    "                    row=row, col=col\n",
    "                )\n",
    "                # plot coloured dots indicating cluster\n",
    "                if labels is not None:\n",
    "                    label_i = labels[i] if labels.ndim == 1 else labels[i, 0]\n",
    "                    fig.add_trace(\n",
    "                        go.Scatter(\n",
    "                            x=label_dict['T'],\n",
    "                            y=arr[:, i, f],\n",
    "                            mode='markers',\n",
    "                            marker=dict(color=colors[int(label_i)], size=6),\n",
    "                            name=f\"Path {i}\",\n",
    "                            showlegend=False\n",
    "                        ),\n",
    "                        row=row, col=col\n",
    "                    )\n",
    "        # plot cluster centres\n",
    "        if cluster_centres is not None:\n",
    "            for j in range(K):\n",
    "                if j in cluster_centres_to_show:\n",
    "                    mode = 'lines+markers' if hover_labels else 'lines'\n",
    "                    fig.add_trace(\n",
    "                        go.Scatter(\n",
    "                            x=label_dict['T'],\n",
    "                            y=cluster_centres[:, j, f],\n",
    "                            mode=mode,\n",
    "                            line=dict(color=colors[j]),\n",
    "                            name=f\"Cluster {cluster_labels[j]}\" if f == 0 else None,\n",
    "                            showlegend=(f == 0)\n",
    "                        ),\n",
    "                        row=row, col=col\n",
    "                    )\n",
    "        # add axis labels\n",
    "        fig.update_xaxes(title_text='Year' if f == F - 1 else \"\", tickangle=x_rotation, row=row, col=col)\n",
    "        fig.update_yaxes(title_text='Value', row=row, col=col)\n",
    "    \n",
    "    # set default figsize\n",
    "    if figsize is None:\n",
    "        figsize = (700, 500 * len(range(F)))\n",
    "    \n",
    "    # add title and legend\n",
    "    fig.update_layout(\n",
    "        width= figsize[0],\n",
    "        height= figsize[1],\n",
    "        title=\"Clustering Results\",\n",
    "        legend_title=\"Legend\",\n",
    "        showlegend=True,\n",
    "    )\n",
    "    return fig\n"
   ]
  },
  {
   "cell_type": "code",
   "execution_count": null,
   "id": "b98a385e",
   "metadata": {},
   "outputs": [
    {
     "data": {
      "application/vnd.plotly.v1+json": {
       "config": {
        "plotlyServerURL": "https://plot.ly"
       },
       "data": [
        {
         "line": {
          "color": "black",
          "dash": "dot"
         },
         "mode": "lines+markers",
         "showlegend": false,
         "type": "scatter",
         "x": [
          "2006",
          "2011",
          "2016",
          "2021"
         ],
         "xaxis": "x",
         "y": {
          "bdata": "AAAAAAByoEAAAAAAAAy3QAAAAAAAW7NAAAAAAABetUA=",
          "dtype": "f8"
         },
         "yaxis": "y"
        },
        {
         "marker": {
          "color": "#636EFA",
          "size": 6
         },
         "mode": "markers",
         "name": "Path 8",
         "showlegend": false,
         "type": "scatter",
         "x": [
          "2006",
          "2011",
          "2016",
          "2021"
         ],
         "xaxis": "x",
         "y": {
          "bdata": "AAAAAAByoEAAAAAAAAy3QAAAAAAAW7NAAAAAAABetUA=",
          "dtype": "f8"
         },
         "yaxis": "y"
        },
        {
         "line": {
          "color": "black",
          "dash": "dot"
         },
         "mode": "lines+markers",
         "showlegend": false,
         "type": "scatter",
         "x": [
          "2006",
          "2011",
          "2016",
          "2021"
         ],
         "xaxis": "x",
         "y": {
          "bdata": "AAAAAAByoEAAAAAAAAy3QAAAAAAArLdAAAAAAABsu0A=",
          "dtype": "f8"
         },
         "yaxis": "y"
        },
        {
         "marker": {
          "color": "#636EFA",
          "size": 6
         },
         "mode": "markers",
         "name": "Path 9",
         "showlegend": false,
         "type": "scatter",
         "x": [
          "2006",
          "2011",
          "2016",
          "2021"
         ],
         "xaxis": "x",
         "y": {
          "bdata": "AAAAAAByoEAAAAAAAAy3QAAAAAAArLdAAAAAAABsu0A=",
          "dtype": "f8"
         },
         "yaxis": "y"
        },
        {
         "line": {
          "color": "black",
          "dash": "dot"
         },
         "mode": "lines+markers",
         "showlegend": false,
         "type": "scatter",
         "x": [
          "2006",
          "2011",
          "2016",
          "2021"
         ],
         "xaxis": "x",
         "y": {
          "bdata": "AAAAAABcokAAAAAAAKCkQAAAAAAAkqhAAAAAAABetUA=",
          "dtype": "f8"
         },
         "yaxis": "y"
        },
        {
         "marker": {
          "color": "#636EFA",
          "size": 6
         },
         "mode": "markers",
         "name": "Path 11",
         "showlegend": false,
         "type": "scatter",
         "x": [
          "2006",
          "2011",
          "2016",
          "2021"
         ],
         "xaxis": "x",
         "y": {
          "bdata": "AAAAAABcokAAAAAAAKCkQAAAAAAAkqhAAAAAAABetUA=",
          "dtype": "f8"
         },
         "yaxis": "y"
        },
        {
         "line": {
          "color": "black",
          "dash": "dot"
         },
         "mode": "lines+markers",
         "showlegend": false,
         "type": "scatter",
         "x": [
          "2006",
          "2011",
          "2016",
          "2021"
         ],
         "xaxis": "x",
         "y": {
          "bdata": "AAAAAADapkAAAAAAALK2QAAAAAAAOcdAAAAAAADsuEA=",
          "dtype": "f8"
         },
         "yaxis": "y"
        },
        {
         "marker": {
          "color": "#EF553B",
          "size": 6
         },
         "mode": "markers",
         "name": "Path 14",
         "showlegend": false,
         "type": "scatter",
         "x": [
          "2006",
          "2011",
          "2016",
          "2021"
         ],
         "xaxis": "x",
         "y": {
          "bdata": "AAAAAADapkAAAAAAALK2QAAAAAAAOcdAAAAAAADsuEA=",
          "dtype": "f8"
         },
         "yaxis": "y"
        },
        {
         "line": {
          "color": "black",
          "dash": "dot"
         },
         "mode": "lines+markers",
         "showlegend": false,
         "type": "scatter",
         "x": [
          "2006",
          "2011",
          "2016",
          "2021"
         ],
         "xaxis": "x",
         "y": {
          "bdata": "AAAAAADapkAAAAAAALK2QAAAAAAAOcdAAAAAAACquUA=",
          "dtype": "f8"
         },
         "yaxis": "y"
        },
        {
         "marker": {
          "color": "#EF553B",
          "size": 6
         },
         "mode": "markers",
         "name": "Path 15",
         "showlegend": false,
         "type": "scatter",
         "x": [
          "2006",
          "2011",
          "2016",
          "2021"
         ],
         "xaxis": "x",
         "y": {
          "bdata": "AAAAAADapkAAAAAAALK2QAAAAAAAOcdAAAAAAACquUA=",
          "dtype": "f8"
         },
         "yaxis": "y"
        },
        {
         "line": {
          "color": "black",
          "dash": "dot"
         },
         "mode": "lines+markers",
         "showlegend": false,
         "type": "scatter",
         "x": [
          "2006",
          "2011",
          "2016",
          "2021"
         ],
         "xaxis": "x",
         "y": {
          "bdata": "AAAAAADapkAAAAAAALK2QAAAAAAAOcdAAAAAAAAYsEA=",
          "dtype": "f8"
         },
         "yaxis": "y"
        },
        {
         "marker": {
          "color": "#EF553B",
          "size": 6
         },
         "mode": "markers",
         "name": "Path 16",
         "showlegend": false,
         "type": "scatter",
         "x": [
          "2006",
          "2011",
          "2016",
          "2021"
         ],
         "xaxis": "x",
         "y": {
          "bdata": "AAAAAADapkAAAAAAALK2QAAAAAAAOcdAAAAAAAAYsEA=",
          "dtype": "f8"
         },
         "yaxis": "y"
        },
        {
         "line": {
          "color": "black",
          "dash": "dot"
         },
         "mode": "lines+markers",
         "showlegend": false,
         "type": "scatter",
         "x": [
          "2006",
          "2011",
          "2016",
          "2021"
         ],
         "xaxis": "x",
         "y": {
          "bdata": "AAAAAACcs0AAAAAAAKW5QAAAAAAAIKdAAAAAAAAwq0A=",
          "dtype": "f8"
         },
         "yaxis": "y"
        },
        {
         "marker": {
          "color": "#AB63FA",
          "size": 6
         },
         "mode": "markers",
         "name": "Path 19",
         "showlegend": false,
         "type": "scatter",
         "x": [
          "2006",
          "2011",
          "2016",
          "2021"
         ],
         "xaxis": "x",
         "y": {
          "bdata": "AAAAAACcs0AAAAAAAKW5QAAAAAAAIKdAAAAAAAAwq0A=",
          "dtype": "f8"
         },
         "yaxis": "y"
        },
        {
         "line": {
          "color": "black",
          "dash": "dot"
         },
         "mode": "lines+markers",
         "showlegend": false,
         "type": "scatter",
         "x": [
          "2006",
          "2011",
          "2016",
          "2021"
         ],
         "xaxis": "x",
         "y": {
          "bdata": "AAAAAAAUrkAAAAAAAGm5QAAAAAAAuK9AAAAAAACQsEA=",
          "dtype": "f8"
         },
         "yaxis": "y"
        },
        {
         "marker": {
          "color": "#AB63FA",
          "size": 6
         },
         "mode": "markers",
         "name": "Path 20",
         "showlegend": false,
         "type": "scatter",
         "x": [
          "2006",
          "2011",
          "2016",
          "2021"
         ],
         "xaxis": "x",
         "y": {
          "bdata": "AAAAAAAUrkAAAAAAAGm5QAAAAAAAuK9AAAAAAACQsEA=",
          "dtype": "f8"
         },
         "yaxis": "y"
        },
        {
         "line": {
          "color": "black",
          "dash": "dot"
         },
         "mode": "lines+markers",
         "showlegend": false,
         "type": "scatter",
         "x": [
          "2006",
          "2011",
          "2016",
          "2021"
         ],
         "xaxis": "x",
         "y": {
          "bdata": "AAAAAABGpEAAAAAAAD6sQAAAAAAAJLhAAAAAAAC9ukA=",
          "dtype": "f8"
         },
         "yaxis": "y"
        },
        {
         "marker": {
          "color": "#EF553B",
          "size": 6
         },
         "mode": "markers",
         "name": "Path 24",
         "showlegend": false,
         "type": "scatter",
         "x": [
          "2006",
          "2011",
          "2016",
          "2021"
         ],
         "xaxis": "x",
         "y": {
          "bdata": "AAAAAABGpEAAAAAAAD6sQAAAAAAAJLhAAAAAAAC9ukA=",
          "dtype": "f8"
         },
         "yaxis": "y"
        },
        {
         "line": {
          "color": "black",
          "dash": "dot"
         },
         "mode": "lines+markers",
         "showlegend": false,
         "type": "scatter",
         "x": [
          "2006",
          "2011",
          "2016",
          "2021"
         ],
         "xaxis": "x",
         "y": {
          "bdata": "AAAAAACOrEAAAAAAAMKvQAAAAAAAObJAAAAAAAAMp0A=",
          "dtype": "f8"
         },
         "yaxis": "y"
        },
        {
         "marker": {
          "color": "#EF553B",
          "size": 6
         },
         "mode": "markers",
         "name": "Path 25",
         "showlegend": false,
         "type": "scatter",
         "x": [
          "2006",
          "2011",
          "2016",
          "2021"
         ],
         "xaxis": "x",
         "y": {
          "bdata": "AAAAAACOrEAAAAAAAMKvQAAAAAAAObJAAAAAAAAMp0A=",
          "dtype": "f8"
         },
         "yaxis": "y"
        },
        {
         "line": {
          "color": "black",
          "dash": "dot"
         },
         "mode": "lines+markers",
         "showlegend": false,
         "type": "scatter",
         "x": [
          "2006",
          "2011",
          "2016",
          "2021"
         ],
         "xaxis": "x",
         "y": {
          "bdata": "AAAAAACOrEAAAAAAAMKvQAAAAAAAObJAAAAAAAAUtEA=",
          "dtype": "f8"
         },
         "yaxis": "y"
        },
        {
         "marker": {
          "color": "#EF553B",
          "size": 6
         },
         "mode": "markers",
         "name": "Path 26",
         "showlegend": false,
         "type": "scatter",
         "x": [
          "2006",
          "2011",
          "2016",
          "2021"
         ],
         "xaxis": "x",
         "y": {
          "bdata": "AAAAAACOrEAAAAAAAMKvQAAAAAAAObJAAAAAAAAUtEA=",
          "dtype": "f8"
         },
         "yaxis": "y"
        },
        {
         "line": {
          "color": "black",
          "dash": "dot"
         },
         "mode": "lines+markers",
         "showlegend": false,
         "type": "scatter",
         "x": [
          "2006",
          "2011",
          "2016",
          "2021"
         ],
         "xaxis": "x",
         "y": {
          "bdata": "AAAAAACEskAAAAAAAAqkQAAAAAAAvKFAAAAAAACwqEA=",
          "dtype": "f8"
         },
         "yaxis": "y"
        },
        {
         "marker": {
          "color": "#AB63FA",
          "size": 6
         },
         "mode": "markers",
         "name": "Path 44",
         "showlegend": false,
         "type": "scatter",
         "x": [
          "2006",
          "2011",
          "2016",
          "2021"
         ],
         "xaxis": "x",
         "y": {
          "bdata": "AAAAAACEskAAAAAAAAqkQAAAAAAAvKFAAAAAAACwqEA=",
          "dtype": "f8"
         },
         "yaxis": "y"
        },
        {
         "line": {
          "color": "black",
          "dash": "dot"
         },
         "mode": "lines+markers",
         "showlegend": false,
         "type": "scatter",
         "x": [
          "2006",
          "2011",
          "2016",
          "2021"
         ],
         "xaxis": "x",
         "y": {
          "bdata": "AAAAAACEskAAAAAAAOinQAAAAAAA3qdAAAAAAAAks0A=",
          "dtype": "f8"
         },
         "yaxis": "y"
        },
        {
         "marker": {
          "color": "#AB63FA",
          "size": 6
         },
         "mode": "markers",
         "name": "Path 45",
         "showlegend": false,
         "type": "scatter",
         "x": [
          "2006",
          "2011",
          "2016",
          "2021"
         ],
         "xaxis": "x",
         "y": {
          "bdata": "AAAAAACEskAAAAAAAOinQAAAAAAA3qdAAAAAAAAks0A=",
          "dtype": "f8"
         },
         "yaxis": "y"
        },
        {
         "line": {
          "color": "black",
          "dash": "dot"
         },
         "mode": "lines+markers",
         "showlegend": false,
         "type": "scatter",
         "x": [
          "2006",
          "2011",
          "2016",
          "2021"
         ],
         "xaxis": "x",
         "y": {
          "bdata": "AAAAAABgo0AAAAAAAIawQAAAAAAASbZAAAAAAAAGuEA=",
          "dtype": "f8"
         },
         "yaxis": "y"
        },
        {
         "marker": {
          "color": "#EF553B",
          "size": 6
         },
         "mode": "markers",
         "name": "Path 46",
         "showlegend": false,
         "type": "scatter",
         "x": [
          "2006",
          "2011",
          "2016",
          "2021"
         ],
         "xaxis": "x",
         "y": {
          "bdata": "AAAAAABgo0AAAAAAAIawQAAAAAAASbZAAAAAAAAGuEA=",
          "dtype": "f8"
         },
         "yaxis": "y"
        },
        {
         "line": {
          "color": "black",
          "dash": "dot"
         },
         "mode": "lines+markers",
         "showlegend": false,
         "type": "scatter",
         "x": [
          "2006",
          "2011",
          "2016",
          "2021"
         ],
         "xaxis": "x",
         "y": {
          "bdata": "AAAAAADEqEAAAAAAABSuQAAAAAAA/7RAAAAAAAAApEA=",
          "dtype": "f8"
         },
         "yaxis": "y"
        },
        {
         "marker": {
          "color": "#EF553B",
          "size": 6
         },
         "mode": "markers",
         "name": "Path 79",
         "showlegend": false,
         "type": "scatter",
         "x": [
          "2006",
          "2011",
          "2016",
          "2021"
         ],
         "xaxis": "x",
         "y": {
          "bdata": "AAAAAADEqEAAAAAAABSuQAAAAAAA/7RAAAAAAAAApEA=",
          "dtype": "f8"
         },
         "yaxis": "y"
        },
        {
         "line": {
          "color": "black",
          "dash": "dot"
         },
         "mode": "lines+markers",
         "showlegend": false,
         "type": "scatter",
         "x": [
          "2006",
          "2011",
          "2016",
          "2021"
         ],
         "xaxis": "x",
         "y": {
          "bdata": "AAAAAADEqEAAAAAAABSuQAAAAAAA/7RAAAAAAAAitUA=",
          "dtype": "f8"
         },
         "yaxis": "y"
        },
        {
         "marker": {
          "color": "#EF553B",
          "size": 6
         },
         "mode": "markers",
         "name": "Path 80",
         "showlegend": false,
         "type": "scatter",
         "x": [
          "2006",
          "2011",
          "2016",
          "2021"
         ],
         "xaxis": "x",
         "y": {
          "bdata": "AAAAAADEqEAAAAAAABSuQAAAAAAA/7RAAAAAAAAitUA=",
          "dtype": "f8"
         },
         "yaxis": "y"
        },
        {
         "line": {
          "color": "black",
          "dash": "dot"
         },
         "mode": "lines+markers",
         "showlegend": false,
         "type": "scatter",
         "x": [
          "2006",
          "2011",
          "2016",
          "2021"
         ],
         "xaxis": "x",
         "y": {
          "bdata": "AAAAAAC/s0AAAAAAAKi2QAAAAAAA+KZAAAAAAACasEA=",
          "dtype": "f8"
         },
         "yaxis": "y"
        },
        {
         "marker": {
          "color": "#AB63FA",
          "size": 6
         },
         "mode": "markers",
         "name": "Path 81",
         "showlegend": false,
         "type": "scatter",
         "x": [
          "2006",
          "2011",
          "2016",
          "2021"
         ],
         "xaxis": "x",
         "y": {
          "bdata": "AAAAAAC/s0AAAAAAAKi2QAAAAAAA+KZAAAAAAACasEA=",
          "dtype": "f8"
         },
         "yaxis": "y"
        },
        {
         "line": {
          "color": "black",
          "dash": "dot"
         },
         "mode": "lines+markers",
         "showlegend": false,
         "type": "scatter",
         "x": [
          "2006",
          "2011",
          "2016",
          "2021"
         ],
         "xaxis": "x",
         "y": {
          "bdata": "AAAAAAC/s0AAAAAAAKi2QAAAAAAAgKtAAAAAAADgr0A=",
          "dtype": "f8"
         },
         "yaxis": "y"
        },
        {
         "marker": {
          "color": "#AB63FA",
          "size": 6
         },
         "mode": "markers",
         "name": "Path 82",
         "showlegend": false,
         "type": "scatter",
         "x": [
          "2006",
          "2011",
          "2016",
          "2021"
         ],
         "xaxis": "x",
         "y": {
          "bdata": "AAAAAAC/s0AAAAAAAKi2QAAAAAAAgKtAAAAAAADgr0A=",
          "dtype": "f8"
         },
         "yaxis": "y"
        },
        {
         "line": {
          "color": "black",
          "dash": "dot"
         },
         "mode": "lines+markers",
         "showlegend": false,
         "type": "scatter",
         "x": [
          "2006",
          "2011",
          "2016",
          "2021"
         ],
         "xaxis": "x",
         "y": {
          "bdata": "AAAAAABtsEAAAAAAAJiyQAAAAAAAmqpAAAAAAADiqEA=",
          "dtype": "f8"
         },
         "yaxis": "y"
        },
        {
         "marker": {
          "color": "#AB63FA",
          "size": 6
         },
         "mode": "markers",
         "name": "Path 83",
         "showlegend": false,
         "type": "scatter",
         "x": [
          "2006",
          "2011",
          "2016",
          "2021"
         ],
         "xaxis": "x",
         "y": {
          "bdata": "AAAAAABtsEAAAAAAAJiyQAAAAAAAmqpAAAAAAADiqEA=",
          "dtype": "f8"
         },
         "yaxis": "y"
        },
        {
         "line": {
          "color": "black",
          "dash": "dot"
         },
         "mode": "lines+markers",
         "showlegend": false,
         "type": "scatter",
         "x": [
          "2006",
          "2011",
          "2016",
          "2021"
         ],
         "xaxis": "x",
         "y": {
          "bdata": "AAAAAABtsEAAAAAAAJiyQAAAAAAAsqFAAAAAAABMqEA=",
          "dtype": "f8"
         },
         "yaxis": "y"
        },
        {
         "marker": {
          "color": "#AB63FA",
          "size": 6
         },
         "mode": "markers",
         "name": "Path 84",
         "showlegend": false,
         "type": "scatter",
         "x": [
          "2006",
          "2011",
          "2016",
          "2021"
         ],
         "xaxis": "x",
         "y": {
          "bdata": "AAAAAABtsEAAAAAAAJiyQAAAAAAAsqFAAAAAAABMqEA=",
          "dtype": "f8"
         },
         "yaxis": "y"
        },
        {
         "line": {
          "color": "black",
          "dash": "dot"
         },
         "mode": "lines+markers",
         "showlegend": false,
         "type": "scatter",
         "x": [
          "2006",
          "2011",
          "2016",
          "2021"
         ],
         "xaxis": "x",
         "y": {
          "bdata": "AAAAAACuukAAAAAAAE+6QAAAAAAAzJVAAAAAAADklkA=",
          "dtype": "f8"
         },
         "yaxis": "y"
        },
        {
         "marker": {
          "color": "#AB63FA",
          "size": 6
         },
         "mode": "markers",
         "name": "Path 86",
         "showlegend": false,
         "type": "scatter",
         "x": [
          "2006",
          "2011",
          "2016",
          "2021"
         ],
         "xaxis": "x",
         "y": {
          "bdata": "AAAAAACuukAAAAAAAE+6QAAAAAAAzJVAAAAAAADklkA=",
          "dtype": "f8"
         },
         "yaxis": "y"
        },
        {
         "line": {
          "color": "black",
          "dash": "dot"
         },
         "mode": "lines+markers",
         "showlegend": false,
         "type": "scatter",
         "x": [
          "2006",
          "2011",
          "2016",
          "2021"
         ],
         "xaxis": "x",
         "y": {
          "bdata": "AAAAAADWr0AAAAAAAAeyQAAAAAAASbFAAAAAAABesEA=",
          "dtype": "f8"
         },
         "yaxis": "y"
        },
        {
         "marker": {
          "color": "#EF553B",
          "size": 6
         },
         "mode": "markers",
         "name": "Path 88",
         "showlegend": false,
         "type": "scatter",
         "x": [
          "2006",
          "2011",
          "2016",
          "2021"
         ],
         "xaxis": "x",
         "y": {
          "bdata": "AAAAAADWr0AAAAAAAAeyQAAAAAAASbFAAAAAAABesEA=",
          "dtype": "f8"
         },
         "yaxis": "y"
        },
        {
         "line": {
          "color": "black",
          "dash": "dot"
         },
         "mode": "lines+markers",
         "showlegend": false,
         "type": "scatter",
         "x": [
          "2006",
          "2011",
          "2016",
          "2021"
         ],
         "xaxis": "x",
         "y": {
          "bdata": "AAAAAAAIq0AAAAAAAPKyQAAAAAAAnbJAAAAAAAD0ukA=",
          "dtype": "f8"
         },
         "yaxis": "y"
        },
        {
         "marker": {
          "color": "#EF553B",
          "size": 6
         },
         "mode": "markers",
         "name": "Path 159",
         "showlegend": false,
         "type": "scatter",
         "x": [
          "2006",
          "2011",
          "2016",
          "2021"
         ],
         "xaxis": "x",
         "y": {
          "bdata": "AAAAAAAIq0AAAAAAAPKyQAAAAAAAnbJAAAAAAAD0ukA=",
          "dtype": "f8"
         },
         "yaxis": "y"
        },
        {
         "line": {
          "color": "black",
          "dash": "dot"
         },
         "mode": "lines+markers",
         "showlegend": false,
         "type": "scatter",
         "x": [
          "2006",
          "2011",
          "2016",
          "2021"
         ],
         "xaxis": "x",
         "y": {
          "bdata": "AAAAAADmpEAAAAAAAPqpQAAAAAAA9qhAAAAAAAAttEA=",
          "dtype": "f8"
         },
         "yaxis": "y"
        },
        {
         "marker": {
          "color": "#EF553B",
          "size": 6
         },
         "mode": "markers",
         "name": "Path 171",
         "showlegend": false,
         "type": "scatter",
         "x": [
          "2006",
          "2011",
          "2016",
          "2021"
         ],
         "xaxis": "x",
         "y": {
          "bdata": "AAAAAADmpEAAAAAAAPqpQAAAAAAA9qhAAAAAAAAttEA=",
          "dtype": "f8"
         },
         "yaxis": "y"
        },
        {
         "line": {
          "color": "black",
          "dash": "dot"
         },
         "mode": "lines+markers",
         "showlegend": false,
         "type": "scatter",
         "x": [
          "2006",
          "2011",
          "2016",
          "2021"
         ],
         "xaxis": "x",
         "y": {
          "bdata": "AAAAAABiq0AAAAAAAFmwQAAAAAAAUI5AAAAAAADIjkA=",
          "dtype": "f8"
         },
         "yaxis": "y"
        },
        {
         "marker": {
          "color": "#EF553B",
          "size": 6
         },
         "mode": "markers",
         "name": "Path 252",
         "showlegend": false,
         "type": "scatter",
         "x": [
          "2006",
          "2011",
          "2016",
          "2021"
         ],
         "xaxis": "x",
         "y": {
          "bdata": "AAAAAABiq0AAAAAAAFmwQAAAAAAAUI5AAAAAAADIjkA=",
          "dtype": "f8"
         },
         "yaxis": "y"
        },
        {
         "line": {
          "color": "black",
          "dash": "dot"
         },
         "mode": "lines+markers",
         "showlegend": false,
         "type": "scatter",
         "x": [
          "2006",
          "2011",
          "2016",
          "2021"
         ],
         "xaxis": "x",
         "y": {
          "bdata": "AAAAAABiq0AAAAAAAFmwQAAAAAAAZ7tAAAAAAABAsEA=",
          "dtype": "f8"
         },
         "yaxis": "y"
        },
        {
         "marker": {
          "color": "#EF553B",
          "size": 6
         },
         "mode": "markers",
         "name": "Path 253",
         "showlegend": false,
         "type": "scatter",
         "x": [
          "2006",
          "2011",
          "2016",
          "2021"
         ],
         "xaxis": "x",
         "y": {
          "bdata": "AAAAAABiq0AAAAAAAFmwQAAAAAAAZ7tAAAAAAABAsEA=",
          "dtype": "f8"
         },
         "yaxis": "y"
        },
        {
         "line": {
          "color": "black",
          "dash": "dot"
         },
         "mode": "lines+markers",
         "showlegend": false,
         "type": "scatter",
         "x": [
          "2006",
          "2011",
          "2016",
          "2021"
         ],
         "xaxis": "x",
         "y": {
          "bdata": "AAAAAABiq0AAAAAAAFmwQAAAAAAAZ7tAAAAAAAAauEA=",
          "dtype": "f8"
         },
         "yaxis": "y"
        },
        {
         "marker": {
          "color": "#EF553B",
          "size": 6
         },
         "mode": "markers",
         "name": "Path 254",
         "showlegend": false,
         "type": "scatter",
         "x": [
          "2006",
          "2011",
          "2016",
          "2021"
         ],
         "xaxis": "x",
         "y": {
          "bdata": "AAAAAABiq0AAAAAAAFmwQAAAAAAAZ7tAAAAAAAAauEA=",
          "dtype": "f8"
         },
         "yaxis": "y"
        },
        {
         "line": {
          "color": "black",
          "dash": "dot"
         },
         "mode": "lines+markers",
         "showlegend": false,
         "type": "scatter",
         "x": [
          "2006",
          "2011",
          "2016",
          "2021"
         ],
         "xaxis": "x",
         "y": {
          "bdata": "AAAAAACopkAAAAAAAFatQAAAAAAA/LJAAAAAAAA2tUA=",
          "dtype": "f8"
         },
         "yaxis": "y"
        },
        {
         "marker": {
          "color": "#EF553B",
          "size": 6
         },
         "mode": "markers",
         "name": "Path 274",
         "showlegend": false,
         "type": "scatter",
         "x": [
          "2006",
          "2011",
          "2016",
          "2021"
         ],
         "xaxis": "x",
         "y": {
          "bdata": "AAAAAACopkAAAAAAAFatQAAAAAAA/LJAAAAAAAA2tUA=",
          "dtype": "f8"
         },
         "yaxis": "y"
        },
        {
         "line": {
          "color": "black",
          "dash": "dot"
         },
         "mode": "lines+markers",
         "showlegend": false,
         "type": "scatter",
         "x": [
          "2006",
          "2011",
          "2016",
          "2021"
         ],
         "xaxis": "x",
         "y": {
          "bdata": "AAAAAAASsUAAAAAAAG60QAAAAAAAMLtAAAAAAAC4oEA=",
          "dtype": "f8"
         },
         "yaxis": "y"
        },
        {
         "marker": {
          "color": "#AB63FA",
          "size": 6
         },
         "mode": "markers",
         "name": "Path 384",
         "showlegend": false,
         "type": "scatter",
         "x": [
          "2006",
          "2011",
          "2016",
          "2021"
         ],
         "xaxis": "x",
         "y": {
          "bdata": "AAAAAAASsUAAAAAAAG60QAAAAAAAMLtAAAAAAAC4oEA=",
          "dtype": "f8"
         },
         "yaxis": "y"
        },
        {
         "line": {
          "color": "black",
          "dash": "dot"
         },
         "mode": "lines+markers",
         "showlegend": false,
         "type": "scatter",
         "x": [
          "2006",
          "2011",
          "2016",
          "2021"
         ],
         "xaxis": "x",
         "y": {
          "bdata": "AAAAAAASsUAAAAAAAG60QAAAAAAAMLtAAAAAAABkrkA=",
          "dtype": "f8"
         },
         "yaxis": "y"
        },
        {
         "marker": {
          "color": "#AB63FA",
          "size": 6
         },
         "mode": "markers",
         "name": "Path 385",
         "showlegend": false,
         "type": "scatter",
         "x": [
          "2006",
          "2011",
          "2016",
          "2021"
         ],
         "xaxis": "x",
         "y": {
          "bdata": "AAAAAAASsUAAAAAAAG60QAAAAAAAMLtAAAAAAABkrkA=",
          "dtype": "f8"
         },
         "yaxis": "y"
        },
        {
         "line": {
          "color": "black",
          "dash": "dot"
         },
         "mode": "lines+markers",
         "showlegend": false,
         "type": "scatter",
         "x": [
          "2006",
          "2011",
          "2016",
          "2021"
         ],
         "xaxis": "x",
         "y": {
          "bdata": "AAAAAAASsUAAAAAAAG60QAAAAAAAMLtAAAAAAABQjkA=",
          "dtype": "f8"
         },
         "yaxis": "y"
        },
        {
         "marker": {
          "color": "#AB63FA",
          "size": 6
         },
         "mode": "markers",
         "name": "Path 386",
         "showlegend": false,
         "type": "scatter",
         "x": [
          "2006",
          "2011",
          "2016",
          "2021"
         ],
         "xaxis": "x",
         "y": {
          "bdata": "AAAAAAASsUAAAAAAAG60QAAAAAAAMLtAAAAAAABQjkA=",
          "dtype": "f8"
         },
         "yaxis": "y"
        },
        {
         "line": {
          "color": "black",
          "dash": "dot"
         },
         "mode": "lines+markers",
         "showlegend": false,
         "type": "scatter",
         "x": [
          "2006",
          "2011",
          "2016",
          "2021"
         ],
         "xaxis": "x",
         "y": {
          "bdata": "AAAAAADQq0AAAAAAAJqlQAAAAAAA1LJAAAAAAADMqkA=",
          "dtype": "f8"
         },
         "yaxis": "y"
        },
        {
         "marker": {
          "color": "#EF553B",
          "size": 6
         },
         "mode": "markers",
         "name": "Path 402",
         "showlegend": false,
         "type": "scatter",
         "x": [
          "2006",
          "2011",
          "2016",
          "2021"
         ],
         "xaxis": "x",
         "y": {
          "bdata": "AAAAAADQq0AAAAAAAJqlQAAAAAAA1LJAAAAAAADMqkA=",
          "dtype": "f8"
         },
         "yaxis": "y"
        },
        {
         "line": {
          "color": "black",
          "dash": "dot"
         },
         "mode": "lines+markers",
         "showlegend": false,
         "type": "scatter",
         "x": [
          "2006",
          "2011",
          "2016",
          "2021"
         ],
         "xaxis": "x",
         "y": {
          "bdata": "AAAAAADQq0AAAAAAAJqlQAAAAAAA1LJAAAAAAAAuo0A=",
          "dtype": "f8"
         },
         "yaxis": "y"
        },
        {
         "marker": {
          "color": "#EF553B",
          "size": 6
         },
         "mode": "markers",
         "name": "Path 403",
         "showlegend": false,
         "type": "scatter",
         "x": [
          "2006",
          "2011",
          "2016",
          "2021"
         ],
         "xaxis": "x",
         "y": {
          "bdata": "AAAAAADQq0AAAAAAAJqlQAAAAAAA1LJAAAAAAAAuo0A=",
          "dtype": "f8"
         },
         "yaxis": "y"
        },
        {
         "line": {
          "color": "black",
          "dash": "dot"
         },
         "mode": "lines+markers",
         "showlegend": false,
         "type": "scatter",
         "x": [
          "2006",
          "2011",
          "2016",
          "2021"
         ],
         "xaxis": "x",
         "y": {
          "bdata": "AAAAAADoskAAAAAAAFihQAAAAAAAdqFAAAAAAAA+okA=",
          "dtype": "f8"
         },
         "yaxis": "y"
        },
        {
         "marker": {
          "color": "#AB63FA",
          "size": 6
         },
         "mode": "markers",
         "name": "Path 406",
         "showlegend": false,
         "type": "scatter",
         "x": [
          "2006",
          "2011",
          "2016",
          "2021"
         ],
         "xaxis": "x",
         "y": {
          "bdata": "AAAAAADoskAAAAAAAFihQAAAAAAAdqFAAAAAAAA+okA=",
          "dtype": "f8"
         },
         "yaxis": "y"
        },
        {
         "line": {
          "color": "black",
          "dash": "dot"
         },
         "mode": "lines+markers",
         "showlegend": false,
         "type": "scatter",
         "x": [
          "2006",
          "2011",
          "2016",
          "2021"
         ],
         "xaxis": "x",
         "y": {
          "bdata": "AAAAAADoskAAAAAAAHCnQAAAAAAAQKpAAAAAAAByqkA=",
          "dtype": "f8"
         },
         "yaxis": "y"
        },
        {
         "marker": {
          "color": "#AB63FA",
          "size": 6
         },
         "mode": "markers",
         "name": "Path 407",
         "showlegend": false,
         "type": "scatter",
         "x": [
          "2006",
          "2011",
          "2016",
          "2021"
         ],
         "xaxis": "x",
         "y": {
          "bdata": "AAAAAADoskAAAAAAAHCnQAAAAAAAQKpAAAAAAAByqkA=",
          "dtype": "f8"
         },
         "yaxis": "y"
        },
        {
         "line": {
          "color": "black",
          "dash": "dot"
         },
         "mode": "lines+markers",
         "showlegend": false,
         "type": "scatter",
         "x": [
          "2006",
          "2011",
          "2016",
          "2021"
         ],
         "xaxis": "x",
         "y": {
          "bdata": "AAAAAADltUAAAAAAAACeQAAAAAAAKJ5AAAAAAAA4nUA=",
          "dtype": "f8"
         },
         "yaxis": "y"
        },
        {
         "marker": {
          "color": "#AB63FA",
          "size": 6
         },
         "mode": "markers",
         "name": "Path 408",
         "showlegend": false,
         "type": "scatter",
         "x": [
          "2006",
          "2011",
          "2016",
          "2021"
         ],
         "xaxis": "x",
         "y": {
          "bdata": "AAAAAADltUAAAAAAAACeQAAAAAAAKJ5AAAAAAAA4nUA=",
          "dtype": "f8"
         },
         "yaxis": "y"
        },
        {
         "line": {
          "color": "black",
          "dash": "dot"
         },
         "mode": "lines+markers",
         "showlegend": false,
         "type": "scatter",
         "x": [
          "2006",
          "2011",
          "2016",
          "2021"
         ],
         "xaxis": "x",
         "y": {
          "bdata": "AAAAAADltUAAAAAAADSiQAAAAAAAsqFAAAAAAACUoUA=",
          "dtype": "f8"
         },
         "yaxis": "y"
        },
        {
         "marker": {
          "color": "#AB63FA",
          "size": 6
         },
         "mode": "markers",
         "name": "Path 409",
         "showlegend": false,
         "type": "scatter",
         "x": [
          "2006",
          "2011",
          "2016",
          "2021"
         ],
         "xaxis": "x",
         "y": {
          "bdata": "AAAAAADltUAAAAAAADSiQAAAAAAAsqFAAAAAAACUoUA=",
          "dtype": "f8"
         },
         "yaxis": "y"
        },
        {
         "line": {
          "color": "black",
          "dash": "dot"
         },
         "mode": "lines+markers",
         "showlegend": false,
         "type": "scatter",
         "x": [
          "2006",
          "2011",
          "2016",
          "2021"
         ],
         "xaxis": "x",
         "y": {
          "bdata": "AAAAAADltUAAAAAAAASfQAAAAAAAeqJAAAAAAACYokA=",
          "dtype": "f8"
         },
         "yaxis": "y"
        },
        {
         "marker": {
          "color": "#AB63FA",
          "size": 6
         },
         "mode": "markers",
         "name": "Path 410",
         "showlegend": false,
         "type": "scatter",
         "x": [
          "2006",
          "2011",
          "2016",
          "2021"
         ],
         "xaxis": "x",
         "y": {
          "bdata": "AAAAAADltUAAAAAAAASfQAAAAAAAeqJAAAAAAACYokA=",
          "dtype": "f8"
         },
         "yaxis": "y"
        },
        {
         "line": {
          "color": "black",
          "dash": "dot"
         },
         "mode": "lines+markers",
         "showlegend": false,
         "type": "scatter",
         "x": [
          "2006",
          "2011",
          "2016",
          "2021"
         ],
         "xaxis": "x",
         "y": {
          "bdata": "AAAAAABGrkAAAAAAAL+zQAAAAAAAEHhAAAAAAAAQeEA=",
          "dtype": "f8"
         },
         "yaxis": "y"
        },
        {
         "marker": {
          "color": "#EF553B",
          "size": 6
         },
         "mode": "markers",
         "name": "Path 411",
         "showlegend": false,
         "type": "scatter",
         "x": [
          "2006",
          "2011",
          "2016",
          "2021"
         ],
         "xaxis": "x",
         "y": {
          "bdata": "AAAAAABGrkAAAAAAAL+zQAAAAAAAEHhAAAAAAAAQeEA=",
          "dtype": "f8"
         },
         "yaxis": "y"
        },
        {
         "line": {
          "color": "black",
          "dash": "dot"
         },
         "mode": "lines+markers",
         "showlegend": false,
         "type": "scatter",
         "x": [
          "2006",
          "2011",
          "2016",
          "2021"
         ],
         "xaxis": "x",
         "y": {
          "bdata": "AAAAAABGrkAAAAAAAL+zQAAAAAAAx7VAAAAAAAC4ikA=",
          "dtype": "f8"
         },
         "yaxis": "y"
        },
        {
         "marker": {
          "color": "#EF553B",
          "size": 6
         },
         "mode": "markers",
         "name": "Path 412",
         "showlegend": false,
         "type": "scatter",
         "x": [
          "2006",
          "2011",
          "2016",
          "2021"
         ],
         "xaxis": "x",
         "y": {
          "bdata": "AAAAAABGrkAAAAAAAL+zQAAAAAAAx7VAAAAAAAC4ikA=",
          "dtype": "f8"
         },
         "yaxis": "y"
        },
        {
         "line": {
          "color": "black",
          "dash": "dot"
         },
         "mode": "lines+markers",
         "showlegend": false,
         "type": "scatter",
         "x": [
          "2006",
          "2011",
          "2016",
          "2021"
         ],
         "xaxis": "x",
         "y": {
          "bdata": "AAAAAABGrkAAAAAAAL+zQAAAAAAAx7VAAAAAAABEpkA=",
          "dtype": "f8"
         },
         "yaxis": "y"
        },
        {
         "marker": {
          "color": "#EF553B",
          "size": 6
         },
         "mode": "markers",
         "name": "Path 413",
         "showlegend": false,
         "type": "scatter",
         "x": [
          "2006",
          "2011",
          "2016",
          "2021"
         ],
         "xaxis": "x",
         "y": {
          "bdata": "AAAAAABGrkAAAAAAAL+zQAAAAAAAx7VAAAAAAABEpkA=",
          "dtype": "f8"
         },
         "yaxis": "y"
        },
        {
         "line": {
          "color": "black",
          "dash": "dot"
         },
         "mode": "lines+markers",
         "showlegend": false,
         "type": "scatter",
         "x": [
          "2006",
          "2011",
          "2016",
          "2021"
         ],
         "xaxis": "x",
         "y": {
          "bdata": "AAAAAABGrkAAAAAAAL+zQAAAAAAAx7VAAAAAAAD0oEA=",
          "dtype": "f8"
         },
         "yaxis": "y"
        },
        {
         "marker": {
          "color": "#EF553B",
          "size": 6
         },
         "mode": "markers",
         "name": "Path 414",
         "showlegend": false,
         "type": "scatter",
         "x": [
          "2006",
          "2011",
          "2016",
          "2021"
         ],
         "xaxis": "x",
         "y": {
          "bdata": "AAAAAABGrkAAAAAAAL+zQAAAAAAAx7VAAAAAAAD0oEA=",
          "dtype": "f8"
         },
         "yaxis": "y"
        },
        {
         "line": {
          "color": "#00CC96"
         },
         "mode": "lines+markers",
         "name": "Cluster 2",
         "showlegend": true,
         "type": "scatter",
         "x": [
          "2006",
          "2011",
          "2016",
          "2021"
         ],
         "xaxis": "x",
         "y": {
          "bdata": "OY7jOI6Dk0B0yh91yhuUQFb/Vf9V35JAwB/wB/wXk0A=",
          "dtype": "f8"
         },
         "yaxis": "y"
        },
        {
         "line": {
          "color": "#AB63FA"
         },
         "mode": "lines+markers",
         "name": "Cluster 3",
         "showlegend": true,
         "type": "scatter",
         "x": [
          "2006",
          "2011",
          "2016",
          "2021"
         ],
         "xaxis": "x",
         "y": {
          "bdata": "SZIkSZJZs0DT0tLSUim0QFVVVVUVsblAq6qqqqpOt0A=",
          "dtype": "f8"
         },
         "yaxis": "y"
        },
        {
         "line": {
          "color": "black",
          "dash": "dot"
         },
         "mode": "lines+markers",
         "showlegend": false,
         "type": "scatter",
         "x": [
          "2006",
          "2011",
          "2016",
          "2021"
         ],
         "xaxis": "x2",
         "y": {
          "bdata": "AAAAAAAAFEAAAAAAAAAAAAAAAAAAAAAAAAAAAAAAAAA=",
          "dtype": "f8"
         },
         "yaxis": "y2"
        },
        {
         "marker": {
          "color": "#636EFA",
          "size": 6
         },
         "mode": "markers",
         "name": "Path 8",
         "showlegend": false,
         "type": "scatter",
         "x": [
          "2006",
          "2011",
          "2016",
          "2021"
         ],
         "xaxis": "x2",
         "y": {
          "bdata": "AAAAAAAAFEAAAAAAAAAAAAAAAAAAAAAAAAAAAAAAAAA=",
          "dtype": "f8"
         },
         "yaxis": "y2"
        },
        {
         "line": {
          "color": "black",
          "dash": "dot"
         },
         "mode": "lines+markers",
         "showlegend": false,
         "type": "scatter",
         "x": [
          "2006",
          "2011",
          "2016",
          "2021"
         ],
         "xaxis": "x2",
         "y": {
          "bdata": "AAAAAAAAFEAAAAAAAAAAAAAAAAAAAAAAAAAAAAAAFEA=",
          "dtype": "f8"
         },
         "yaxis": "y2"
        },
        {
         "marker": {
          "color": "#636EFA",
          "size": 6
         },
         "mode": "markers",
         "name": "Path 9",
         "showlegend": false,
         "type": "scatter",
         "x": [
          "2006",
          "2011",
          "2016",
          "2021"
         ],
         "xaxis": "x2",
         "y": {
          "bdata": "AAAAAAAAFEAAAAAAAAAAAAAAAAAAAAAAAAAAAAAAFEA=",
          "dtype": "f8"
         },
         "yaxis": "y2"
        },
        {
         "line": {
          "color": "black",
          "dash": "dot"
         },
         "mode": "lines+markers",
         "showlegend": false,
         "type": "scatter",
         "x": [
          "2006",
          "2011",
          "2016",
          "2021"
         ],
         "xaxis": "x2",
         "y": {
          "bdata": "AAAAAAAAJEAAAAAAAAAkQAAAAAAAACRAAAAAAAAAAAA=",
          "dtype": "f8"
         },
         "yaxis": "y2"
        },
        {
         "marker": {
          "color": "#636EFA",
          "size": 6
         },
         "mode": "markers",
         "name": "Path 11",
         "showlegend": false,
         "type": "scatter",
         "x": [
          "2006",
          "2011",
          "2016",
          "2021"
         ],
         "xaxis": "x2",
         "y": {
          "bdata": "AAAAAAAAJEAAAAAAAAAkQAAAAAAAACRAAAAAAAAAAAA=",
          "dtype": "f8"
         },
         "yaxis": "y2"
        },
        {
         "line": {
          "color": "black",
          "dash": "dot"
         },
         "mode": "lines+markers",
         "showlegend": false,
         "type": "scatter",
         "x": [
          "2006",
          "2011",
          "2016",
          "2021"
         ],
         "xaxis": "x2",
         "y": {
          "bdata": "AAAAAAAAFEAAAAAAAAAUQAAAAAAAACRAAAAAAAAAAAA=",
          "dtype": "f8"
         },
         "yaxis": "y2"
        },
        {
         "marker": {
          "color": "#EF553B",
          "size": 6
         },
         "mode": "markers",
         "name": "Path 14",
         "showlegend": false,
         "type": "scatter",
         "x": [
          "2006",
          "2011",
          "2016",
          "2021"
         ],
         "xaxis": "x2",
         "y": {
          "bdata": "AAAAAAAAFEAAAAAAAAAUQAAAAAAAACRAAAAAAAAAAAA=",
          "dtype": "f8"
         },
         "yaxis": "y2"
        },
        {
         "line": {
          "color": "black",
          "dash": "dot"
         },
         "mode": "lines+markers",
         "showlegend": false,
         "type": "scatter",
         "x": [
          "2006",
          "2011",
          "2016",
          "2021"
         ],
         "xaxis": "x2",
         "y": {
          "bdata": "AAAAAAAAFEAAAAAAAAAUQAAAAAAAACRAAAAAAAAAFEA=",
          "dtype": "f8"
         },
         "yaxis": "y2"
        },
        {
         "marker": {
          "color": "#EF553B",
          "size": 6
         },
         "mode": "markers",
         "name": "Path 15",
         "showlegend": false,
         "type": "scatter",
         "x": [
          "2006",
          "2011",
          "2016",
          "2021"
         ],
         "xaxis": "x2",
         "y": {
          "bdata": "AAAAAAAAFEAAAAAAAAAUQAAAAAAAACRAAAAAAAAAFEA=",
          "dtype": "f8"
         },
         "yaxis": "y2"
        },
        {
         "line": {
          "color": "black",
          "dash": "dot"
         },
         "mode": "lines+markers",
         "showlegend": false,
         "type": "scatter",
         "x": [
          "2006",
          "2011",
          "2016",
          "2021"
         ],
         "xaxis": "x2",
         "y": {
          "bdata": "AAAAAAAAFEAAAAAAAAAUQAAAAAAAACRAAAAAAAAAAAA=",
          "dtype": "f8"
         },
         "yaxis": "y2"
        },
        {
         "marker": {
          "color": "#EF553B",
          "size": 6
         },
         "mode": "markers",
         "name": "Path 16",
         "showlegend": false,
         "type": "scatter",
         "x": [
          "2006",
          "2011",
          "2016",
          "2021"
         ],
         "xaxis": "x2",
         "y": {
          "bdata": "AAAAAAAAFEAAAAAAAAAUQAAAAAAAACRAAAAAAAAAAAA=",
          "dtype": "f8"
         },
         "yaxis": "y2"
        },
        {
         "line": {
          "color": "black",
          "dash": "dot"
         },
         "mode": "lines+markers",
         "showlegend": false,
         "type": "scatter",
         "x": [
          "2006",
          "2011",
          "2016",
          "2021"
         ],
         "xaxis": "x2",
         "y": {
          "bdata": "AAAAAAAAFEAAAAAAAAAAAAAAAAAAAAAAAAAAAAAAAAA=",
          "dtype": "f8"
         },
         "yaxis": "y2"
        },
        {
         "marker": {
          "color": "#AB63FA",
          "size": 6
         },
         "mode": "markers",
         "name": "Path 19",
         "showlegend": false,
         "type": "scatter",
         "x": [
          "2006",
          "2011",
          "2016",
          "2021"
         ],
         "xaxis": "x2",
         "y": {
          "bdata": "AAAAAAAAFEAAAAAAAAAAAAAAAAAAAAAAAAAAAAAAAAA=",
          "dtype": "f8"
         },
         "yaxis": "y2"
        },
        {
         "line": {
          "color": "black",
          "dash": "dot"
         },
         "mode": "lines+markers",
         "showlegend": false,
         "type": "scatter",
         "x": [
          "2006",
          "2011",
          "2016",
          "2021"
         ],
         "xaxis": "x2",
         "y": {
          "bdata": "AAAAAAAAAAAAAAAAAAAAAAAAAAAAAAAAAAAAAAAAAAA=",
          "dtype": "f8"
         },
         "yaxis": "y2"
        },
        {
         "marker": {
          "color": "#AB63FA",
          "size": 6
         },
         "mode": "markers",
         "name": "Path 20",
         "showlegend": false,
         "type": "scatter",
         "x": [
          "2006",
          "2011",
          "2016",
          "2021"
         ],
         "xaxis": "x2",
         "y": {
          "bdata": "AAAAAAAAAAAAAAAAAAAAAAAAAAAAAAAAAAAAAAAAAAA=",
          "dtype": "f8"
         },
         "yaxis": "y2"
        },
        {
         "line": {
          "color": "black",
          "dash": "dot"
         },
         "mode": "lines+markers",
         "showlegend": false,
         "type": "scatter",
         "x": [
          "2006",
          "2011",
          "2016",
          "2021"
         ],
         "xaxis": "x2",
         "y": {
          "bdata": "AAAAAAAAJEAAAAAAAAAUQAAAAAAAABRAAAAAAAAAFEA=",
          "dtype": "f8"
         },
         "yaxis": "y2"
        },
        {
         "marker": {
          "color": "#EF553B",
          "size": 6
         },
         "mode": "markers",
         "name": "Path 24",
         "showlegend": false,
         "type": "scatter",
         "x": [
          "2006",
          "2011",
          "2016",
          "2021"
         ],
         "xaxis": "x2",
         "y": {
          "bdata": "AAAAAAAAJEAAAAAAAAAUQAAAAAAAABRAAAAAAAAAFEA=",
          "dtype": "f8"
         },
         "yaxis": "y2"
        },
        {
         "line": {
          "color": "black",
          "dash": "dot"
         },
         "mode": "lines+markers",
         "showlegend": false,
         "type": "scatter",
         "x": [
          "2006",
          "2011",
          "2016",
          "2021"
         ],
         "xaxis": "x2",
         "y": {
          "bdata": "AAAAAAAAAAAAAAAAAAAAAAAAAAAAAAAAAAAAAAAAAAA=",
          "dtype": "f8"
         },
         "yaxis": "y2"
        },
        {
         "marker": {
          "color": "#EF553B",
          "size": 6
         },
         "mode": "markers",
         "name": "Path 25",
         "showlegend": false,
         "type": "scatter",
         "x": [
          "2006",
          "2011",
          "2016",
          "2021"
         ],
         "xaxis": "x2",
         "y": {
          "bdata": "AAAAAAAAAAAAAAAAAAAAAAAAAAAAAAAAAAAAAAAAAAA=",
          "dtype": "f8"
         },
         "yaxis": "y2"
        },
        {
         "line": {
          "color": "black",
          "dash": "dot"
         },
         "mode": "lines+markers",
         "showlegend": false,
         "type": "scatter",
         "x": [
          "2006",
          "2011",
          "2016",
          "2021"
         ],
         "xaxis": "x2",
         "y": {
          "bdata": "AAAAAAAAAAAAAAAAAAAAAAAAAAAAAAAAAAAAAAAAAAA=",
          "dtype": "f8"
         },
         "yaxis": "y2"
        },
        {
         "marker": {
          "color": "#EF553B",
          "size": 6
         },
         "mode": "markers",
         "name": "Path 26",
         "showlegend": false,
         "type": "scatter",
         "x": [
          "2006",
          "2011",
          "2016",
          "2021"
         ],
         "xaxis": "x2",
         "y": {
          "bdata": "AAAAAAAAAAAAAAAAAAAAAAAAAAAAAAAAAAAAAAAAAAA=",
          "dtype": "f8"
         },
         "yaxis": "y2"
        },
        {
         "line": {
          "color": "black",
          "dash": "dot"
         },
         "mode": "lines+markers",
         "showlegend": false,
         "type": "scatter",
         "x": [
          "2006",
          "2011",
          "2016",
          "2021"
         ],
         "xaxis": "x2",
         "y": {
          "bdata": "AAAAAAAAFEAAAAAAAAAUQAAAAAAAABRAAAAAAAAAFEA=",
          "dtype": "f8"
         },
         "yaxis": "y2"
        },
        {
         "marker": {
          "color": "#AB63FA",
          "size": 6
         },
         "mode": "markers",
         "name": "Path 44",
         "showlegend": false,
         "type": "scatter",
         "x": [
          "2006",
          "2011",
          "2016",
          "2021"
         ],
         "xaxis": "x2",
         "y": {
          "bdata": "AAAAAAAAFEAAAAAAAAAUQAAAAAAAABRAAAAAAAAAFEA=",
          "dtype": "f8"
         },
         "yaxis": "y2"
        },
        {
         "line": {
          "color": "black",
          "dash": "dot"
         },
         "mode": "lines+markers",
         "showlegend": false,
         "type": "scatter",
         "x": [
          "2006",
          "2011",
          "2016",
          "2021"
         ],
         "xaxis": "x2",
         "y": {
          "bdata": "AAAAAAAAFEAAAAAAAAAkQAAAAAAAAAAAAAAAAAAAJEA=",
          "dtype": "f8"
         },
         "yaxis": "y2"
        },
        {
         "marker": {
          "color": "#AB63FA",
          "size": 6
         },
         "mode": "markers",
         "name": "Path 45",
         "showlegend": false,
         "type": "scatter",
         "x": [
          "2006",
          "2011",
          "2016",
          "2021"
         ],
         "xaxis": "x2",
         "y": {
          "bdata": "AAAAAAAAFEAAAAAAAAAkQAAAAAAAAAAAAAAAAAAAJEA=",
          "dtype": "f8"
         },
         "yaxis": "y2"
        },
        {
         "line": {
          "color": "black",
          "dash": "dot"
         },
         "mode": "lines+markers",
         "showlegend": false,
         "type": "scatter",
         "x": [
          "2006",
          "2011",
          "2016",
          "2021"
         ],
         "xaxis": "x2",
         "y": {
          "bdata": "AAAAAAAAAAAAAAAAAAAAAAAAAAAAABRAAAAAAAAAAAA=",
          "dtype": "f8"
         },
         "yaxis": "y2"
        },
        {
         "marker": {
          "color": "#EF553B",
          "size": 6
         },
         "mode": "markers",
         "name": "Path 46",
         "showlegend": false,
         "type": "scatter",
         "x": [
          "2006",
          "2011",
          "2016",
          "2021"
         ],
         "xaxis": "x2",
         "y": {
          "bdata": "AAAAAAAAAAAAAAAAAAAAAAAAAAAAABRAAAAAAAAAAAA=",
          "dtype": "f8"
         },
         "yaxis": "y2"
        },
        {
         "line": {
          "color": "black",
          "dash": "dot"
         },
         "mode": "lines+markers",
         "showlegend": false,
         "type": "scatter",
         "x": [
          "2006",
          "2011",
          "2016",
          "2021"
         ],
         "xaxis": "x2",
         "y": {
          "bdata": "AAAAAAAAAAAAAAAAAAAAAAAAAAAAAAAAAAAAAAAAAAA=",
          "dtype": "f8"
         },
         "yaxis": "y2"
        },
        {
         "marker": {
          "color": "#EF553B",
          "size": 6
         },
         "mode": "markers",
         "name": "Path 79",
         "showlegend": false,
         "type": "scatter",
         "x": [
          "2006",
          "2011",
          "2016",
          "2021"
         ],
         "xaxis": "x2",
         "y": {
          "bdata": "AAAAAAAAAAAAAAAAAAAAAAAAAAAAAAAAAAAAAAAAAAA=",
          "dtype": "f8"
         },
         "yaxis": "y2"
        },
        {
         "line": {
          "color": "black",
          "dash": "dot"
         },
         "mode": "lines+markers",
         "showlegend": false,
         "type": "scatter",
         "x": [
          "2006",
          "2011",
          "2016",
          "2021"
         ],
         "xaxis": "x2",
         "y": {
          "bdata": "AAAAAAAAAAAAAAAAAAAAAAAAAAAAAAAAAAAAAAAAAAA=",
          "dtype": "f8"
         },
         "yaxis": "y2"
        },
        {
         "marker": {
          "color": "#EF553B",
          "size": 6
         },
         "mode": "markers",
         "name": "Path 80",
         "showlegend": false,
         "type": "scatter",
         "x": [
          "2006",
          "2011",
          "2016",
          "2021"
         ],
         "xaxis": "x2",
         "y": {
          "bdata": "AAAAAAAAAAAAAAAAAAAAAAAAAAAAAAAAAAAAAAAAAAA=",
          "dtype": "f8"
         },
         "yaxis": "y2"
        },
        {
         "line": {
          "color": "black",
          "dash": "dot"
         },
         "mode": "lines+markers",
         "showlegend": false,
         "type": "scatter",
         "x": [
          "2006",
          "2011",
          "2016",
          "2021"
         ],
         "xaxis": "x2",
         "y": {
          "bdata": "AAAAAAAAJEAAAAAAAAAkQAAAAAAAAAAAAAAAAAAAAAA=",
          "dtype": "f8"
         },
         "yaxis": "y2"
        },
        {
         "marker": {
          "color": "#AB63FA",
          "size": 6
         },
         "mode": "markers",
         "name": "Path 81",
         "showlegend": false,
         "type": "scatter",
         "x": [
          "2006",
          "2011",
          "2016",
          "2021"
         ],
         "xaxis": "x2",
         "y": {
          "bdata": "AAAAAAAAJEAAAAAAAAAkQAAAAAAAAAAAAAAAAAAAAAA=",
          "dtype": "f8"
         },
         "yaxis": "y2"
        },
        {
         "line": {
          "color": "black",
          "dash": "dot"
         },
         "mode": "lines+markers",
         "showlegend": false,
         "type": "scatter",
         "x": [
          "2006",
          "2011",
          "2016",
          "2021"
         ],
         "xaxis": "x2",
         "y": {
          "bdata": "AAAAAAAAJEAAAAAAAAAkQAAAAAAAABRAAAAAAAAAFEA=",
          "dtype": "f8"
         },
         "yaxis": "y2"
        },
        {
         "marker": {
          "color": "#AB63FA",
          "size": 6
         },
         "mode": "markers",
         "name": "Path 82",
         "showlegend": false,
         "type": "scatter",
         "x": [
          "2006",
          "2011",
          "2016",
          "2021"
         ],
         "xaxis": "x2",
         "y": {
          "bdata": "AAAAAAAAJEAAAAAAAAAkQAAAAAAAABRAAAAAAAAAFEA=",
          "dtype": "f8"
         },
         "yaxis": "y2"
        },
        {
         "line": {
          "color": "black",
          "dash": "dot"
         },
         "mode": "lines+markers",
         "showlegend": false,
         "type": "scatter",
         "x": [
          "2006",
          "2011",
          "2016",
          "2021"
         ],
         "xaxis": "x2",
         "y": {
          "bdata": "AAAAAAAAAAAAAAAAAAAAAAAAAAAAAAAAAAAAAAAAAAA=",
          "dtype": "f8"
         },
         "yaxis": "y2"
        },
        {
         "marker": {
          "color": "#AB63FA",
          "size": 6
         },
         "mode": "markers",
         "name": "Path 83",
         "showlegend": false,
         "type": "scatter",
         "x": [
          "2006",
          "2011",
          "2016",
          "2021"
         ],
         "xaxis": "x2",
         "y": {
          "bdata": "AAAAAAAAAAAAAAAAAAAAAAAAAAAAAAAAAAAAAAAAAAA=",
          "dtype": "f8"
         },
         "yaxis": "y2"
        },
        {
         "line": {
          "color": "black",
          "dash": "dot"
         },
         "mode": "lines+markers",
         "showlegend": false,
         "type": "scatter",
         "x": [
          "2006",
          "2011",
          "2016",
          "2021"
         ],
         "xaxis": "x2",
         "y": {
          "bdata": "AAAAAAAAAAAAAAAAAAAAAAAAAAAAAAAAAAAAAAAAAAA=",
          "dtype": "f8"
         },
         "yaxis": "y2"
        },
        {
         "marker": {
          "color": "#AB63FA",
          "size": 6
         },
         "mode": "markers",
         "name": "Path 84",
         "showlegend": false,
         "type": "scatter",
         "x": [
          "2006",
          "2011",
          "2016",
          "2021"
         ],
         "xaxis": "x2",
         "y": {
          "bdata": "AAAAAAAAAAAAAAAAAAAAAAAAAAAAAAAAAAAAAAAAAAA=",
          "dtype": "f8"
         },
         "yaxis": "y2"
        },
        {
         "line": {
          "color": "black",
          "dash": "dot"
         },
         "mode": "lines+markers",
         "showlegend": false,
         "type": "scatter",
         "x": [
          "2006",
          "2011",
          "2016",
          "2021"
         ],
         "xaxis": "x2",
         "y": {
          "bdata": "AAAAAAAAAAAAAAAAAAAUQAAAAAAAAAAAAAAAAAAAAAA=",
          "dtype": "f8"
         },
         "yaxis": "y2"
        },
        {
         "marker": {
          "color": "#AB63FA",
          "size": 6
         },
         "mode": "markers",
         "name": "Path 86",
         "showlegend": false,
         "type": "scatter",
         "x": [
          "2006",
          "2011",
          "2016",
          "2021"
         ],
         "xaxis": "x2",
         "y": {
          "bdata": "AAAAAAAAAAAAAAAAAAAUQAAAAAAAAAAAAAAAAAAAAAA=",
          "dtype": "f8"
         },
         "yaxis": "y2"
        },
        {
         "line": {
          "color": "black",
          "dash": "dot"
         },
         "mode": "lines+markers",
         "showlegend": false,
         "type": "scatter",
         "x": [
          "2006",
          "2011",
          "2016",
          "2021"
         ],
         "xaxis": "x2",
         "y": {
          "bdata": "AAAAAAAAJEAAAAAAAAA5QAAAAAAAADRAAAAAAAAANEA=",
          "dtype": "f8"
         },
         "yaxis": "y2"
        },
        {
         "marker": {
          "color": "#EF553B",
          "size": 6
         },
         "mode": "markers",
         "name": "Path 88",
         "showlegend": false,
         "type": "scatter",
         "x": [
          "2006",
          "2011",
          "2016",
          "2021"
         ],
         "xaxis": "x2",
         "y": {
          "bdata": "AAAAAAAAJEAAAAAAAAA5QAAAAAAAADRAAAAAAAAANEA=",
          "dtype": "f8"
         },
         "yaxis": "y2"
        },
        {
         "line": {
          "color": "black",
          "dash": "dot"
         },
         "mode": "lines+markers",
         "showlegend": false,
         "type": "scatter",
         "x": [
          "2006",
          "2011",
          "2016",
          "2021"
         ],
         "xaxis": "x2",
         "y": {
          "bdata": "AAAAAADAd0AAAAAAAGB4QAAAAAAAEHhAAAAAAAAQeEA=",
          "dtype": "f8"
         },
         "yaxis": "y2"
        },
        {
         "marker": {
          "color": "#EF553B",
          "size": 6
         },
         "mode": "markers",
         "name": "Path 159",
         "showlegend": false,
         "type": "scatter",
         "x": [
          "2006",
          "2011",
          "2016",
          "2021"
         ],
         "xaxis": "x2",
         "y": {
          "bdata": "AAAAAADAd0AAAAAAAGB4QAAAAAAAEHhAAAAAAAAQeEA=",
          "dtype": "f8"
         },
         "yaxis": "y2"
        },
        {
         "line": {
          "color": "black",
          "dash": "dot"
         },
         "mode": "lines+markers",
         "showlegend": false,
         "type": "scatter",
         "x": [
          "2006",
          "2011",
          "2016",
          "2021"
         ],
         "xaxis": "x2",
         "y": {
          "bdata": "AAAAAAAAFEAAAAAAAAAUQAAAAAAAAAAAAAAAAAAAAAA=",
          "dtype": "f8"
         },
         "yaxis": "y2"
        },
        {
         "marker": {
          "color": "#EF553B",
          "size": 6
         },
         "mode": "markers",
         "name": "Path 171",
         "showlegend": false,
         "type": "scatter",
         "x": [
          "2006",
          "2011",
          "2016",
          "2021"
         ],
         "xaxis": "x2",
         "y": {
          "bdata": "AAAAAAAAFEAAAAAAAAAUQAAAAAAAAAAAAAAAAAAAAAA=",
          "dtype": "f8"
         },
         "yaxis": "y2"
        },
        {
         "line": {
          "color": "black",
          "dash": "dot"
         },
         "mode": "lines+markers",
         "showlegend": false,
         "type": "scatter",
         "x": [
          "2006",
          "2011",
          "2016",
          "2021"
         ],
         "xaxis": "x2",
         "y": {
          "bdata": "AAAAAACweEAAAAAAAFB5QAAAAAAAcHdAAAAAAACweEA=",
          "dtype": "f8"
         },
         "yaxis": "y2"
        },
        {
         "marker": {
          "color": "#EF553B",
          "size": 6
         },
         "mode": "markers",
         "name": "Path 252",
         "showlegend": false,
         "type": "scatter",
         "x": [
          "2006",
          "2011",
          "2016",
          "2021"
         ],
         "xaxis": "x2",
         "y": {
          "bdata": "AAAAAACweEAAAAAAAFB5QAAAAAAAcHdAAAAAAACweEA=",
          "dtype": "f8"
         },
         "yaxis": "y2"
        },
        {
         "line": {
          "color": "black",
          "dash": "dot"
         },
         "mode": "lines+markers",
         "showlegend": false,
         "type": "scatter",
         "x": [
          "2006",
          "2011",
          "2016",
          "2021"
         ],
         "xaxis": "x2",
         "y": {
          "bdata": "AAAAAACweEAAAAAAAFB5QAAAAAAAAAAAAAAAAAAAAAA=",
          "dtype": "f8"
         },
         "yaxis": "y2"
        },
        {
         "marker": {
          "color": "#EF553B",
          "size": 6
         },
         "mode": "markers",
         "name": "Path 253",
         "showlegend": false,
         "type": "scatter",
         "x": [
          "2006",
          "2011",
          "2016",
          "2021"
         ],
         "xaxis": "x2",
         "y": {
          "bdata": "AAAAAACweEAAAAAAAFB5QAAAAAAAAAAAAAAAAAAAAAA=",
          "dtype": "f8"
         },
         "yaxis": "y2"
        },
        {
         "line": {
          "color": "black",
          "dash": "dot"
         },
         "mode": "lines+markers",
         "showlegend": false,
         "type": "scatter",
         "x": [
          "2006",
          "2011",
          "2016",
          "2021"
         ],
         "xaxis": "x2",
         "y": {
          "bdata": "AAAAAACweEAAAAAAAFB5QAAAAAAAAAAAAAAAAAAAAAA=",
          "dtype": "f8"
         },
         "yaxis": "y2"
        },
        {
         "marker": {
          "color": "#EF553B",
          "size": 6
         },
         "mode": "markers",
         "name": "Path 254",
         "showlegend": false,
         "type": "scatter",
         "x": [
          "2006",
          "2011",
          "2016",
          "2021"
         ],
         "xaxis": "x2",
         "y": {
          "bdata": "AAAAAACweEAAAAAAAFB5QAAAAAAAAAAAAAAAAAAAAAA=",
          "dtype": "f8"
         },
         "yaxis": "y2"
        },
        {
         "line": {
          "color": "black",
          "dash": "dot"
         },
         "mode": "lines+markers",
         "showlegend": false,
         "type": "scatter",
         "x": [
          "2006",
          "2011",
          "2016",
          "2021"
         ],
         "xaxis": "x2",
         "y": {
          "bdata": "AAAAAAAAFEAAAAAAAAAAAAAAAAAAAAAAAAAAAAAAFEA=",
          "dtype": "f8"
         },
         "yaxis": "y2"
        },
        {
         "marker": {
          "color": "#EF553B",
          "size": 6
         },
         "mode": "markers",
         "name": "Path 274",
         "showlegend": false,
         "type": "scatter",
         "x": [
          "2006",
          "2011",
          "2016",
          "2021"
         ],
         "xaxis": "x2",
         "y": {
          "bdata": "AAAAAAAAFEAAAAAAAAAAAAAAAAAAAAAAAAAAAAAAFEA=",
          "dtype": "f8"
         },
         "yaxis": "y2"
        },
        {
         "line": {
          "color": "black",
          "dash": "dot"
         },
         "mode": "lines+markers",
         "showlegend": false,
         "type": "scatter",
         "x": [
          "2006",
          "2011",
          "2016",
          "2021"
         ],
         "xaxis": "x2",
         "y": {
          "bdata": "AAAAAACwfUAAAAAAAJB/QAAAAAAAUH5AAAAAAACAQUA=",
          "dtype": "f8"
         },
         "yaxis": "y2"
        },
        {
         "marker": {
          "color": "#AB63FA",
          "size": 6
         },
         "mode": "markers",
         "name": "Path 384",
         "showlegend": false,
         "type": "scatter",
         "x": [
          "2006",
          "2011",
          "2016",
          "2021"
         ],
         "xaxis": "x2",
         "y": {
          "bdata": "AAAAAACwfUAAAAAAAJB/QAAAAAAAUH5AAAAAAACAQUA=",
          "dtype": "f8"
         },
         "yaxis": "y2"
        },
        {
         "line": {
          "color": "black",
          "dash": "dot"
         },
         "mode": "lines+markers",
         "showlegend": false,
         "type": "scatter",
         "x": [
          "2006",
          "2011",
          "2016",
          "2021"
         ],
         "xaxis": "x2",
         "y": {
          "bdata": "AAAAAACwfUAAAAAAAJB/QAAAAAAAUH5AAAAAAAAAAAA=",
          "dtype": "f8"
         },
         "yaxis": "y2"
        },
        {
         "marker": {
          "color": "#AB63FA",
          "size": 6
         },
         "mode": "markers",
         "name": "Path 385",
         "showlegend": false,
         "type": "scatter",
         "x": [
          "2006",
          "2011",
          "2016",
          "2021"
         ],
         "xaxis": "x2",
         "y": {
          "bdata": "AAAAAACwfUAAAAAAAJB/QAAAAAAAUH5AAAAAAAAAAAA=",
          "dtype": "f8"
         },
         "yaxis": "y2"
        },
        {
         "line": {
          "color": "black",
          "dash": "dot"
         },
         "mode": "lines+markers",
         "showlegend": false,
         "type": "scatter",
         "x": [
          "2006",
          "2011",
          "2016",
          "2021"
         ],
         "xaxis": "x2",
         "y": {
          "bdata": "AAAAAACwfUAAAAAAAJB/QAAAAAAAUH5AAAAAAAAgfEA=",
          "dtype": "f8"
         },
         "yaxis": "y2"
        },
        {
         "marker": {
          "color": "#AB63FA",
          "size": 6
         },
         "mode": "markers",
         "name": "Path 386",
         "showlegend": false,
         "type": "scatter",
         "x": [
          "2006",
          "2011",
          "2016",
          "2021"
         ],
         "xaxis": "x2",
         "y": {
          "bdata": "AAAAAACwfUAAAAAAAJB/QAAAAAAAUH5AAAAAAAAgfEA=",
          "dtype": "f8"
         },
         "yaxis": "y2"
        },
        {
         "line": {
          "color": "black",
          "dash": "dot"
         },
         "mode": "lines+markers",
         "showlegend": false,
         "type": "scatter",
         "x": [
          "2006",
          "2011",
          "2016",
          "2021"
         ],
         "xaxis": "x2",
         "y": {
          "bdata": "AAAAAACgdEAAAAAAAAA+QAAAAAAAAC5AAAAAAAAAFEA=",
          "dtype": "f8"
         },
         "yaxis": "y2"
        },
        {
         "marker": {
          "color": "#EF553B",
          "size": 6
         },
         "mode": "markers",
         "name": "Path 402",
         "showlegend": false,
         "type": "scatter",
         "x": [
          "2006",
          "2011",
          "2016",
          "2021"
         ],
         "xaxis": "x2",
         "y": {
          "bdata": "AAAAAACgdEAAAAAAAAA+QAAAAAAAAC5AAAAAAAAAFEA=",
          "dtype": "f8"
         },
         "yaxis": "y2"
        },
        {
         "line": {
          "color": "black",
          "dash": "dot"
         },
         "mode": "lines+markers",
         "showlegend": false,
         "type": "scatter",
         "x": [
          "2006",
          "2011",
          "2016",
          "2021"
         ],
         "xaxis": "x2",
         "y": {
          "bdata": "AAAAAACgdEAAAAAAAAA+QAAAAAAAAC5AAAAAAAAAAAA=",
          "dtype": "f8"
         },
         "yaxis": "y2"
        },
        {
         "marker": {
          "color": "#EF553B",
          "size": 6
         },
         "mode": "markers",
         "name": "Path 403",
         "showlegend": false,
         "type": "scatter",
         "x": [
          "2006",
          "2011",
          "2016",
          "2021"
         ],
         "xaxis": "x2",
         "y": {
          "bdata": "AAAAAACgdEAAAAAAAAA+QAAAAAAAAC5AAAAAAAAAAAA=",
          "dtype": "f8"
         },
         "yaxis": "y2"
        },
        {
         "line": {
          "color": "black",
          "dash": "dot"
         },
         "mode": "lines+markers",
         "showlegend": false,
         "type": "scatter",
         "x": [
          "2006",
          "2011",
          "2016",
          "2021"
         ],
         "xaxis": "x2",
         "y": {
          "bdata": "AAAAAAAAAAAAAAAAAAAAAAAAAAAAAAAAAAAAAAAAFEA=",
          "dtype": "f8"
         },
         "yaxis": "y2"
        },
        {
         "marker": {
          "color": "#AB63FA",
          "size": 6
         },
         "mode": "markers",
         "name": "Path 406",
         "showlegend": false,
         "type": "scatter",
         "x": [
          "2006",
          "2011",
          "2016",
          "2021"
         ],
         "xaxis": "x2",
         "y": {
          "bdata": "AAAAAAAAAAAAAAAAAAAAAAAAAAAAAAAAAAAAAAAAFEA=",
          "dtype": "f8"
         },
         "yaxis": "y2"
        },
        {
         "line": {
          "color": "black",
          "dash": "dot"
         },
         "mode": "lines+markers",
         "showlegend": false,
         "type": "scatter",
         "x": [
          "2006",
          "2011",
          "2016",
          "2021"
         ],
         "xaxis": "x2",
         "y": {
          "bdata": "AAAAAAAAAAAAAAAAAAAAAAAAAAAAAAAAAAAAAAAAFEA=",
          "dtype": "f8"
         },
         "yaxis": "y2"
        },
        {
         "marker": {
          "color": "#AB63FA",
          "size": 6
         },
         "mode": "markers",
         "name": "Path 407",
         "showlegend": false,
         "type": "scatter",
         "x": [
          "2006",
          "2011",
          "2016",
          "2021"
         ],
         "xaxis": "x2",
         "y": {
          "bdata": "AAAAAAAAAAAAAAAAAAAAAAAAAAAAAAAAAAAAAAAAFEA=",
          "dtype": "f8"
         },
         "yaxis": "y2"
        },
        {
         "line": {
          "color": "black",
          "dash": "dot"
         },
         "mode": "lines+markers",
         "showlegend": false,
         "type": "scatter",
         "x": [
          "2006",
          "2011",
          "2016",
          "2021"
         ],
         "xaxis": "x2",
         "y": {
          "bdata": "AAAAAADojEAAAAAAAAAkQAAAAAAAABRAAAAAAAAAJEA=",
          "dtype": "f8"
         },
         "yaxis": "y2"
        },
        {
         "marker": {
          "color": "#AB63FA",
          "size": 6
         },
         "mode": "markers",
         "name": "Path 408",
         "showlegend": false,
         "type": "scatter",
         "x": [
          "2006",
          "2011",
          "2016",
          "2021"
         ],
         "xaxis": "x2",
         "y": {
          "bdata": "AAAAAADojEAAAAAAAAAkQAAAAAAAABRAAAAAAAAAJEA=",
          "dtype": "f8"
         },
         "yaxis": "y2"
        },
        {
         "line": {
          "color": "black",
          "dash": "dot"
         },
         "mode": "lines+markers",
         "showlegend": false,
         "type": "scatter",
         "x": [
          "2006",
          "2011",
          "2016",
          "2021"
         ],
         "xaxis": "x2",
         "y": {
          "bdata": "AAAAAADojEAAAAAAAAAUQAAAAAAAABRAAAAAAAAAFEA=",
          "dtype": "f8"
         },
         "yaxis": "y2"
        },
        {
         "marker": {
          "color": "#AB63FA",
          "size": 6
         },
         "mode": "markers",
         "name": "Path 409",
         "showlegend": false,
         "type": "scatter",
         "x": [
          "2006",
          "2011",
          "2016",
          "2021"
         ],
         "xaxis": "x2",
         "y": {
          "bdata": "AAAAAADojEAAAAAAAAAUQAAAAAAAABRAAAAAAAAAFEA=",
          "dtype": "f8"
         },
         "yaxis": "y2"
        },
        {
         "line": {
          "color": "black",
          "dash": "dot"
         },
         "mode": "lines+markers",
         "showlegend": false,
         "type": "scatter",
         "x": [
          "2006",
          "2011",
          "2016",
          "2021"
         ],
         "xaxis": "x2",
         "y": {
          "bdata": "AAAAAADojEAAAAAAAKiLQAAAAAAAMItAAAAAAACYjEA=",
          "dtype": "f8"
         },
         "yaxis": "y2"
        },
        {
         "marker": {
          "color": "#AB63FA",
          "size": 6
         },
         "mode": "markers",
         "name": "Path 410",
         "showlegend": false,
         "type": "scatter",
         "x": [
          "2006",
          "2011",
          "2016",
          "2021"
         ],
         "xaxis": "x2",
         "y": {
          "bdata": "AAAAAADojEAAAAAAAKiLQAAAAAAAMItAAAAAAACYjEA=",
          "dtype": "f8"
         },
         "yaxis": "y2"
        },
        {
         "line": {
          "color": "black",
          "dash": "dot"
         },
         "mode": "lines+markers",
         "showlegend": false,
         "type": "scatter",
         "x": [
          "2006",
          "2011",
          "2016",
          "2021"
         ],
         "xaxis": "x2",
         "y": {
          "bdata": "AAAAAACAi0AAAAAAALiKQAAAAAAAUHRAAAAAAADwdEA=",
          "dtype": "f8"
         },
         "yaxis": "y2"
        },
        {
         "marker": {
          "color": "#EF553B",
          "size": 6
         },
         "mode": "markers",
         "name": "Path 411",
         "showlegend": false,
         "type": "scatter",
         "x": [
          "2006",
          "2011",
          "2016",
          "2021"
         ],
         "xaxis": "x2",
         "y": {
          "bdata": "AAAAAACAi0AAAAAAALiKQAAAAAAAUHRAAAAAAADwdEA=",
          "dtype": "f8"
         },
         "yaxis": "y2"
        },
        {
         "line": {
          "color": "black",
          "dash": "dot"
         },
         "mode": "lines+markers",
         "showlegend": false,
         "type": "scatter",
         "x": [
          "2006",
          "2011",
          "2016",
          "2021"
         ],
         "xaxis": "x2",
         "y": {
          "bdata": "AAAAAACAi0AAAAAAALiKQAAAAAAA8H5AAAAAAAAAfkA=",
          "dtype": "f8"
         },
         "yaxis": "y2"
        },
        {
         "marker": {
          "color": "#EF553B",
          "size": 6
         },
         "mode": "markers",
         "name": "Path 412",
         "showlegend": false,
         "type": "scatter",
         "x": [
          "2006",
          "2011",
          "2016",
          "2021"
         ],
         "xaxis": "x2",
         "y": {
          "bdata": "AAAAAACAi0AAAAAAALiKQAAAAAAA8H5AAAAAAAAAfkA=",
          "dtype": "f8"
         },
         "yaxis": "y2"
        },
        {
         "line": {
          "color": "black",
          "dash": "dot"
         },
         "mode": "lines+markers",
         "showlegend": false,
         "type": "scatter",
         "x": [
          "2006",
          "2011",
          "2016",
          "2021"
         ],
         "xaxis": "x2",
         "y": {
          "bdata": "AAAAAACAi0AAAAAAALiKQAAAAAAA8H5AAAAAAAAAAAA=",
          "dtype": "f8"
         },
         "yaxis": "y2"
        },
        {
         "marker": {
          "color": "#EF553B",
          "size": 6
         },
         "mode": "markers",
         "name": "Path 413",
         "showlegend": false,
         "type": "scatter",
         "x": [
          "2006",
          "2011",
          "2016",
          "2021"
         ],
         "xaxis": "x2",
         "y": {
          "bdata": "AAAAAACAi0AAAAAAALiKQAAAAAAA8H5AAAAAAAAAAAA=",
          "dtype": "f8"
         },
         "yaxis": "y2"
        },
        {
         "line": {
          "color": "black",
          "dash": "dot"
         },
         "mode": "lines+markers",
         "showlegend": false,
         "type": "scatter",
         "x": [
          "2006",
          "2011",
          "2016",
          "2021"
         ],
         "xaxis": "x2",
         "y": {
          "bdata": "AAAAAACAi0AAAAAAALiKQAAAAAAA8H5AAAAAAAAAAAA=",
          "dtype": "f8"
         },
         "yaxis": "y2"
        },
        {
         "marker": {
          "color": "#EF553B",
          "size": 6
         },
         "mode": "markers",
         "name": "Path 414",
         "showlegend": false,
         "type": "scatter",
         "x": [
          "2006",
          "2011",
          "2016",
          "2021"
         ],
         "xaxis": "x2",
         "y": {
          "bdata": "AAAAAACAi0AAAAAAALiKQAAAAAAA8H5AAAAAAAAAAAA=",
          "dtype": "f8"
         },
         "yaxis": "y2"
        },
        {
         "line": {
          "color": "#00CC96"
         },
         "mode": "lines+markers",
         "showlegend": false,
         "type": "scatter",
         "x": [
          "2006",
          "2011",
          "2016",
          "2021"
         ],
         "xaxis": "x2",
         "y": {
          "bdata": "TdM0TdM8f0Dljzrlj1p/QJgSmBKYYn1AAAAAAAB4fkA=",
          "dtype": "f8"
         },
         "yaxis": "y2"
        },
        {
         "line": {
          "color": "#AB63FA"
         },
         "mode": "lines+markers",
         "showlegend": false,
         "type": "scatter",
         "x": [
          "2006",
          "2011",
          "2016",
          "2021"
         ],
         "xaxis": "x2",
         "y": {
          "bdata": "SZIkSZJEaUAtLS0tLU1oQKuqqqqqWl9AVVVVVVVVN0A=",
          "dtype": "f8"
         },
         "yaxis": "y2"
        },
        {
         "line": {
          "color": "black",
          "dash": "dot"
         },
         "mode": "lines+markers",
         "showlegend": false,
         "type": "scatter",
         "x": [
          "2006",
          "2011",
          "2016",
          "2021"
         ],
         "xaxis": "x3",
         "y": {
          "bdata": "AAAAAADglUAAAAAAAMi0QAAAAAAAe7FAAAAAAACcs0A=",
          "dtype": "f8"
         },
         "yaxis": "y3"
        },
        {
         "marker": {
          "color": "#636EFA",
          "size": 6
         },
         "mode": "markers",
         "name": "Path 8",
         "showlegend": false,
         "type": "scatter",
         "x": [
          "2006",
          "2011",
          "2016",
          "2021"
         ],
         "xaxis": "x3",
         "y": {
          "bdata": "AAAAAADglUAAAAAAAMi0QAAAAAAAe7FAAAAAAACcs0A=",
          "dtype": "f8"
         },
         "yaxis": "y3"
        },
        {
         "line": {
          "color": "black",
          "dash": "dot"
         },
         "mode": "lines+markers",
         "showlegend": false,
         "type": "scatter",
         "x": [
          "2006",
          "2011",
          "2016",
          "2021"
         ],
         "xaxis": "x3",
         "y": {
          "bdata": "AAAAAADglUAAAAAAAMi0QAAAAAAAJbdAAAAAAADbukA=",
          "dtype": "f8"
         },
         "yaxis": "y3"
        },
        {
         "marker": {
          "color": "#636EFA",
          "size": 6
         },
         "mode": "markers",
         "name": "Path 9",
         "showlegend": false,
         "type": "scatter",
         "x": [
          "2006",
          "2011",
          "2016",
          "2021"
         ],
         "xaxis": "x3",
         "y": {
          "bdata": "AAAAAADglUAAAAAAAMi0QAAAAAAAJbdAAAAAAADbukA=",
          "dtype": "f8"
         },
         "yaxis": "y3"
        },
        {
         "line": {
          "color": "black",
          "dash": "dot"
         },
         "mode": "lines+markers",
         "showlegend": false,
         "type": "scatter",
         "x": [
          "2006",
          "2011",
          "2016",
          "2021"
         ],
         "xaxis": "x3",
         "y": {
          "bdata": "AAAAAAA4k0AAAAAAAEiXQAAAAAAAkJ9AAAAAAACcs0A=",
          "dtype": "f8"
         },
         "yaxis": "y3"
        },
        {
         "marker": {
          "color": "#636EFA",
          "size": 6
         },
         "mode": "markers",
         "name": "Path 11",
         "showlegend": false,
         "type": "scatter",
         "x": [
          "2006",
          "2011",
          "2016",
          "2021"
         ],
         "xaxis": "x3",
         "y": {
          "bdata": "AAAAAAA4k0AAAAAAAEiXQAAAAAAAkJ9AAAAAAACcs0A=",
          "dtype": "f8"
         },
         "yaxis": "y3"
        },
        {
         "line": {
          "color": "black",
          "dash": "dot"
         },
         "mode": "lines+markers",
         "showlegend": false,
         "type": "scatter",
         "x": [
          "2006",
          "2011",
          "2016",
          "2021"
         ],
         "xaxis": "x3",
         "y": {
          "bdata": "AAAAAADkoUAAAAAAAI2zQAAAAAAAdsZAAAAAAABDt0A=",
          "dtype": "f8"
         },
         "yaxis": "y3"
        },
        {
         "marker": {
          "color": "#EF553B",
          "size": 6
         },
         "mode": "markers",
         "name": "Path 14",
         "showlegend": false,
         "type": "scatter",
         "x": [
          "2006",
          "2011",
          "2016",
          "2021"
         ],
         "xaxis": "x3",
         "y": {
          "bdata": "AAAAAADkoUAAAAAAAI2zQAAAAAAAdsZAAAAAAABDt0A=",
          "dtype": "f8"
         },
         "yaxis": "y3"
        },
        {
         "line": {
          "color": "black",
          "dash": "dot"
         },
         "mode": "lines+markers",
         "showlegend": false,
         "type": "scatter",
         "x": [
          "2006",
          "2011",
          "2016",
          "2021"
         ],
         "xaxis": "x3",
         "y": {
          "bdata": "AAAAAADkoUAAAAAAAI2zQAAAAAAAdsZAAAAAAAB4uUA=",
          "dtype": "f8"
         },
         "yaxis": "y3"
        },
        {
         "marker": {
          "color": "#EF553B",
          "size": 6
         },
         "mode": "markers",
         "name": "Path 15",
         "showlegend": false,
         "type": "scatter",
         "x": [
          "2006",
          "2011",
          "2016",
          "2021"
         ],
         "xaxis": "x3",
         "y": {
          "bdata": "AAAAAADkoUAAAAAAAI2zQAAAAAAAdsZAAAAAAAB4uUA=",
          "dtype": "f8"
         },
         "yaxis": "y3"
        },
        {
         "line": {
          "color": "black",
          "dash": "dot"
         },
         "mode": "lines+markers",
         "showlegend": false,
         "type": "scatter",
         "x": [
          "2006",
          "2011",
          "2016",
          "2021"
         ],
         "xaxis": "x3",
         "y": {
          "bdata": "AAAAAADkoUAAAAAAAI2zQAAAAAAAdsZAAAAAAAD0r0A=",
          "dtype": "f8"
         },
         "yaxis": "y3"
        },
        {
         "marker": {
          "color": "#EF553B",
          "size": 6
         },
         "mode": "markers",
         "name": "Path 16",
         "showlegend": false,
         "type": "scatter",
         "x": [
          "2006",
          "2011",
          "2016",
          "2021"
         ],
         "xaxis": "x3",
         "y": {
          "bdata": "AAAAAADkoUAAAAAAAI2zQAAAAAAAdsZAAAAAAAD0r0A=",
          "dtype": "f8"
         },
         "yaxis": "y3"
        },
        {
         "line": {
          "color": "black",
          "dash": "dot"
         },
         "mode": "lines+markers",
         "showlegend": false,
         "type": "scatter",
         "x": [
          "2006",
          "2011",
          "2016",
          "2021"
         ],
         "xaxis": "x3",
         "y": {
          "bdata": "AAAAAACDs0AAAAAAAKC5QAAAAAAAFqdAAAAAAAAwq0A=",
          "dtype": "f8"
         },
         "yaxis": "y3"
        },
        {
         "marker": {
          "color": "#AB63FA",
          "size": 6
         },
         "mode": "markers",
         "name": "Path 19",
         "showlegend": false,
         "type": "scatter",
         "x": [
          "2006",
          "2011",
          "2016",
          "2021"
         ],
         "xaxis": "x3",
         "y": {
          "bdata": "AAAAAACDs0AAAAAAAKC5QAAAAAAAFqdAAAAAAAAwq0A=",
          "dtype": "f8"
         },
         "yaxis": "y3"
        },
        {
         "line": {
          "color": "black",
          "dash": "dot"
         },
         "mode": "lines+markers",
         "showlegend": false,
         "type": "scatter",
         "x": [
          "2006",
          "2011",
          "2016",
          "2021"
         ],
         "xaxis": "x3",
         "y": {
          "bdata": "AAAAAACwrUAAAAAAADK5QAAAAAAAXq9AAAAAAABesEA=",
          "dtype": "f8"
         },
         "yaxis": "y3"
        },
        {
         "marker": {
          "color": "#AB63FA",
          "size": 6
         },
         "mode": "markers",
         "name": "Path 20",
         "showlegend": false,
         "type": "scatter",
         "x": [
          "2006",
          "2011",
          "2016",
          "2021"
         ],
         "xaxis": "x3",
         "y": {
          "bdata": "AAAAAACwrUAAAAAAADK5QAAAAAAAXq9AAAAAAABesEA=",
          "dtype": "f8"
         },
         "yaxis": "y3"
        },
        {
         "line": {
          "color": "black",
          "dash": "dot"
         },
         "mode": "lines+markers",
         "showlegend": false,
         "type": "scatter",
         "x": [
          "2006",
          "2011",
          "2016",
          "2021"
         ],
         "xaxis": "x3",
         "y": {
          "bdata": "AAAAAABgnUAAAAAAANKkQAAAAAAAprNAAAAAAACetkA=",
          "dtype": "f8"
         },
         "yaxis": "y3"
        },
        {
         "marker": {
          "color": "#EF553B",
          "size": 6
         },
         "mode": "markers",
         "name": "Path 24",
         "showlegend": false,
         "type": "scatter",
         "x": [
          "2006",
          "2011",
          "2016",
          "2021"
         ],
         "xaxis": "x3",
         "y": {
          "bdata": "AAAAAABgnUAAAAAAANKkQAAAAAAAprNAAAAAAACetkA=",
          "dtype": "f8"
         },
         "yaxis": "y3"
        },
        {
         "line": {
          "color": "black",
          "dash": "dot"
         },
         "mode": "lines+markers",
         "showlegend": false,
         "type": "scatter",
         "x": [
          "2006",
          "2011",
          "2016",
          "2021"
         ],
         "xaxis": "x3",
         "y": {
          "bdata": "AAAAAAAMp0AAAAAAADaqQAAAAAAA8K5AAAAAAAD4pkA=",
          "dtype": "f8"
         },
         "yaxis": "y3"
        },
        {
         "marker": {
          "color": "#EF553B",
          "size": 6
         },
         "mode": "markers",
         "name": "Path 25",
         "showlegend": false,
         "type": "scatter",
         "x": [
          "2006",
          "2011",
          "2016",
          "2021"
         ],
         "xaxis": "x3",
         "y": {
          "bdata": "AAAAAAAMp0AAAAAAADaqQAAAAAAA8K5AAAAAAAD4pkA=",
          "dtype": "f8"
         },
         "yaxis": "y3"
        },
        {
         "line": {
          "color": "black",
          "dash": "dot"
         },
         "mode": "lines+markers",
         "showlegend": false,
         "type": "scatter",
         "x": [
          "2006",
          "2011",
          "2016",
          "2021"
         ],
         "xaxis": "x3",
         "y": {
          "bdata": "AAAAAAAMp0AAAAAAADaqQAAAAAAA8K5AAAAAAABYsUA=",
          "dtype": "f8"
         },
         "yaxis": "y3"
        },
        {
         "marker": {
          "color": "#EF553B",
          "size": 6
         },
         "mode": "markers",
         "name": "Path 26",
         "showlegend": false,
         "type": "scatter",
         "x": [
          "2006",
          "2011",
          "2016",
          "2021"
         ],
         "xaxis": "x3",
         "y": {
          "bdata": "AAAAAAAMp0AAAAAAADaqQAAAAAAA8K5AAAAAAABYsUA=",
          "dtype": "f8"
         },
         "yaxis": "y3"
        },
        {
         "line": {
          "color": "black",
          "dash": "dot"
         },
         "mode": "lines+markers",
         "showlegend": false,
         "type": "scatter",
         "x": [
          "2006",
          "2011",
          "2016",
          "2021"
         ],
         "xaxis": "x3",
         "y": {
          "bdata": "AAAAAACusEAAAAAAACCiQAAAAAAAuJ9AAAAAAADkpkA=",
          "dtype": "f8"
         },
         "yaxis": "y3"
        },
        {
         "marker": {
          "color": "#AB63FA",
          "size": 6
         },
         "mode": "markers",
         "name": "Path 44",
         "showlegend": false,
         "type": "scatter",
         "x": [
          "2006",
          "2011",
          "2016",
          "2021"
         ],
         "xaxis": "x3",
         "y": {
          "bdata": "AAAAAACusEAAAAAAACCiQAAAAAAAuJ9AAAAAAADkpkA=",
          "dtype": "f8"
         },
         "yaxis": "y3"
        },
        {
         "line": {
          "color": "black",
          "dash": "dot"
         },
         "mode": "lines+markers",
         "showlegend": false,
         "type": "scatter",
         "x": [
          "2006",
          "2011",
          "2016",
          "2021"
         ],
         "xaxis": "x3",
         "y": {
          "bdata": "AAAAAACusEAAAAAAAFimQAAAAAAAYqZAAAAAAABcskA=",
          "dtype": "f8"
         },
         "yaxis": "y3"
        },
        {
         "marker": {
          "color": "#AB63FA",
          "size": 6
         },
         "mode": "markers",
         "name": "Path 45",
         "showlegend": false,
         "type": "scatter",
         "x": [
          "2006",
          "2011",
          "2016",
          "2021"
         ],
         "xaxis": "x3",
         "y": {
          "bdata": "AAAAAACusEAAAAAAAFimQAAAAAAAYqZAAAAAAABcskA=",
          "dtype": "f8"
         },
         "yaxis": "y3"
        },
        {
         "line": {
          "color": "black",
          "dash": "dot"
         },
         "mode": "lines+markers",
         "showlegend": false,
         "type": "scatter",
         "x": [
          "2006",
          "2011",
          "2016",
          "2021"
         ],
         "xaxis": "x3",
         "y": {
          "bdata": "AAAAAAAQo0AAAAAAAF6wQAAAAAAAJrZAAAAAAADjt0A=",
          "dtype": "f8"
         },
         "yaxis": "y3"
        },
        {
         "marker": {
          "color": "#EF553B",
          "size": 6
         },
         "mode": "markers",
         "name": "Path 46",
         "showlegend": false,
         "type": "scatter",
         "x": [
          "2006",
          "2011",
          "2016",
          "2021"
         ],
         "xaxis": "x3",
         "y": {
          "bdata": "AAAAAAAQo0AAAAAAAF6wQAAAAAAAJrZAAAAAAADjt0A=",
          "dtype": "f8"
         },
         "yaxis": "y3"
        },
        {
         "line": {
          "color": "black",
          "dash": "dot"
         },
         "mode": "lines+markers",
         "showlegend": false,
         "type": "scatter",
         "x": [
          "2006",
          "2011",
          "2016",
          "2021"
         ],
         "xaxis": "x3",
         "y": {
          "bdata": "AAAAAAC2p0AAAAAAAPKsQAAAAAAAqrRAAAAAAADEo0A=",
          "dtype": "f8"
         },
         "yaxis": "y3"
        },
        {
         "marker": {
          "color": "#EF553B",
          "size": 6
         },
         "mode": "markers",
         "name": "Path 79",
         "showlegend": false,
         "type": "scatter",
         "x": [
          "2006",
          "2011",
          "2016",
          "2021"
         ],
         "xaxis": "x3",
         "y": {
          "bdata": "AAAAAAC2p0AAAAAAAPKsQAAAAAAAqrRAAAAAAADEo0A=",
          "dtype": "f8"
         },
         "yaxis": "y3"
        },
        {
         "line": {
          "color": "black",
          "dash": "dot"
         },
         "mode": "lines+markers",
         "showlegend": false,
         "type": "scatter",
         "x": [
          "2006",
          "2011",
          "2016",
          "2021"
         ],
         "xaxis": "x3",
         "y": {
          "bdata": "AAAAAAC2p0AAAAAAAPKsQAAAAAAAqrRAAAAAAADwtEA=",
          "dtype": "f8"
         },
         "yaxis": "y3"
        },
        {
         "marker": {
          "color": "#EF553B",
          "size": 6
         },
         "mode": "markers",
         "name": "Path 80",
         "showlegend": false,
         "type": "scatter",
         "x": [
          "2006",
          "2011",
          "2016",
          "2021"
         ],
         "xaxis": "x3",
         "y": {
          "bdata": "AAAAAAC2p0AAAAAAAPKsQAAAAAAAqrRAAAAAAADwtEA=",
          "dtype": "f8"
         },
         "yaxis": "y3"
        },
        {
         "line": {
          "color": "black",
          "dash": "dot"
         },
         "mode": "lines+markers",
         "showlegend": false,
         "type": "scatter",
         "x": [
          "2006",
          "2011",
          "2016",
          "2021"
         ],
         "xaxis": "x3",
         "y": {
          "bdata": "AAAAAABJsUAAAAAAAPGzQAAAAAAAVKVAAAAAAAAJsEA=",
          "dtype": "f8"
         },
         "yaxis": "y3"
        },
        {
         "marker": {
          "color": "#AB63FA",
          "size": 6
         },
         "mode": "markers",
         "name": "Path 81",
         "showlegend": false,
         "type": "scatter",
         "x": [
          "2006",
          "2011",
          "2016",
          "2021"
         ],
         "xaxis": "x3",
         "y": {
          "bdata": "AAAAAABJsUAAAAAAAPGzQAAAAAAAVKVAAAAAAAAJsEA=",
          "dtype": "f8"
         },
         "yaxis": "y3"
        },
        {
         "line": {
          "color": "black",
          "dash": "dot"
         },
         "mode": "lines+markers",
         "showlegend": false,
         "type": "scatter",
         "x": [
          "2006",
          "2011",
          "2016",
          "2021"
         ],
         "xaxis": "x3",
         "y": {
          "bdata": "AAAAAABJsUAAAAAAAPGzQAAAAAAAfqhAAAAAAADKrEA=",
          "dtype": "f8"
         },
         "yaxis": "y3"
        },
        {
         "marker": {
          "color": "#AB63FA",
          "size": 6
         },
         "mode": "markers",
         "name": "Path 82",
         "showlegend": false,
         "type": "scatter",
         "x": [
          "2006",
          "2011",
          "2016",
          "2021"
         ],
         "xaxis": "x3",
         "y": {
          "bdata": "AAAAAABJsUAAAAAAAPGzQAAAAAAAfqhAAAAAAADKrEA=",
          "dtype": "f8"
         },
         "yaxis": "y3"
        },
        {
         "line": {
          "color": "black",
          "dash": "dot"
         },
         "mode": "lines+markers",
         "showlegend": false,
         "type": "scatter",
         "x": [
          "2006",
          "2011",
          "2016",
          "2021"
         ],
         "xaxis": "x3",
         "y": {
          "bdata": "AAAAAABwrEAAAAAAAFSwQAAAAAAARqlAAAAAAADAp0A=",
          "dtype": "f8"
         },
         "yaxis": "y3"
        },
        {
         "marker": {
          "color": "#AB63FA",
          "size": 6
         },
         "mode": "markers",
         "name": "Path 83",
         "showlegend": false,
         "type": "scatter",
         "x": [
          "2006",
          "2011",
          "2016",
          "2021"
         ],
         "xaxis": "x3",
         "y": {
          "bdata": "AAAAAABwrEAAAAAAAFSwQAAAAAAARqlAAAAAAADAp0A=",
          "dtype": "f8"
         },
         "yaxis": "y3"
        },
        {
         "line": {
          "color": "black",
          "dash": "dot"
         },
         "mode": "lines+markers",
         "showlegend": false,
         "type": "scatter",
         "x": [
          "2006",
          "2011",
          "2016",
          "2021"
         ],
         "xaxis": "x3",
         "y": {
          "bdata": "AAAAAABwrEAAAAAAAFSwQAAAAAAAxJ1AAAAAAABypUA=",
          "dtype": "f8"
         },
         "yaxis": "y3"
        },
        {
         "marker": {
          "color": "#AB63FA",
          "size": 6
         },
         "mode": "markers",
         "name": "Path 84",
         "showlegend": false,
         "type": "scatter",
         "x": [
          "2006",
          "2011",
          "2016",
          "2021"
         ],
         "xaxis": "x3",
         "y": {
          "bdata": "AAAAAABwrEAAAAAAAFSwQAAAAAAAxJ1AAAAAAABypUA=",
          "dtype": "f8"
         },
         "yaxis": "y3"
        },
        {
         "line": {
          "color": "black",
          "dash": "dot"
         },
         "mode": "lines+markers",
         "showlegend": false,
         "type": "scatter",
         "x": [
          "2006",
          "2011",
          "2016",
          "2021"
         ],
         "xaxis": "x3",
         "y": {
          "bdata": "AAAAAAA2ukAAAAAAANK5QAAAAAAAoJRAAAAAAAC4lUA=",
          "dtype": "f8"
         },
         "yaxis": "y3"
        },
        {
         "marker": {
          "color": "#AB63FA",
          "size": 6
         },
         "mode": "markers",
         "name": "Path 86",
         "showlegend": false,
         "type": "scatter",
         "x": [
          "2006",
          "2011",
          "2016",
          "2021"
         ],
         "xaxis": "x3",
         "y": {
          "bdata": "AAAAAAA2ukAAAAAAANK5QAAAAAAAoJRAAAAAAAC4lUA=",
          "dtype": "f8"
         },
         "yaxis": "y3"
        },
        {
         "line": {
          "color": "black",
          "dash": "dot"
         },
         "mode": "lines+markers",
         "showlegend": false,
         "type": "scatter",
         "x": [
          "2006",
          "2011",
          "2016",
          "2021"
         ],
         "xaxis": "x3",
         "y": {
          "bdata": "AAAAAAD8p0AAAAAAAGKrQAAAAAAAyKlAAAAAAAB+qEA=",
          "dtype": "f8"
         },
         "yaxis": "y3"
        },
        {
         "marker": {
          "color": "#EF553B",
          "size": 6
         },
         "mode": "markers",
         "name": "Path 88",
         "showlegend": false,
         "type": "scatter",
         "x": [
          "2006",
          "2011",
          "2016",
          "2021"
         ],
         "xaxis": "x3",
         "y": {
          "bdata": "AAAAAAD8p0AAAAAAAGKrQAAAAAAAyKlAAAAAAAB+qEA=",
          "dtype": "f8"
         },
         "yaxis": "y3"
        },
        {
         "line": {
          "color": "black",
          "dash": "dot"
         },
         "mode": "lines+markers",
         "showlegend": false,
         "type": "scatter",
         "x": [
          "2006",
          "2011",
          "2016",
          "2021"
         ],
         "xaxis": "x3",
         "y": {
          "bdata": "AAAAAAACokAAAAAAAEisQAAAAAAAcKxAAAAAAADMtUA=",
          "dtype": "f8"
         },
         "yaxis": "y3"
        },
        {
         "marker": {
          "color": "#EF553B",
          "size": 6
         },
         "mode": "markers",
         "name": "Path 159",
         "showlegend": false,
         "type": "scatter",
         "x": [
          "2006",
          "2011",
          "2016",
          "2021"
         ],
         "xaxis": "x3",
         "y": {
          "bdata": "AAAAAAACokAAAAAAAEisQAAAAAAAcKxAAAAAAADMtUA=",
          "dtype": "f8"
         },
         "yaxis": "y3"
        },
        {
         "line": {
          "color": "black",
          "dash": "dot"
         },
         "mode": "lines+markers",
         "showlegend": false,
         "type": "scatter",
         "x": [
          "2006",
          "2011",
          "2016",
          "2021"
         ],
         "xaxis": "x3",
         "y": {
          "bdata": "AAAAAACQoEAAAAAAANKkQAAAAAAAhqVAAAAAAADoskA=",
          "dtype": "f8"
         },
         "yaxis": "y3"
        },
        {
         "marker": {
          "color": "#EF553B",
          "size": 6
         },
         "mode": "markers",
         "name": "Path 171",
         "showlegend": false,
         "type": "scatter",
         "x": [
          "2006",
          "2011",
          "2016",
          "2021"
         ],
         "xaxis": "x3",
         "y": {
          "bdata": "AAAAAACQoEAAAAAAANKkQAAAAAAAhqVAAAAAAADoskA=",
          "dtype": "f8"
         },
         "yaxis": "y3"
        },
        {
         "line": {
          "color": "black",
          "dash": "dot"
         },
         "mode": "lines+markers",
         "showlegend": false,
         "type": "scatter",
         "x": [
          "2006",
          "2011",
          "2016",
          "2021"
         ],
         "xaxis": "x3",
         "y": {
          "bdata": "AAAAAAD6pEAAAAAAAJKoQAAAAAAAAAAAAAAAAAAAAAA=",
          "dtype": "f8"
         },
         "yaxis": "y3"
        },
        {
         "marker": {
          "color": "#EF553B",
          "size": 6
         },
         "mode": "markers",
         "name": "Path 252",
         "showlegend": false,
         "type": "scatter",
         "x": [
          "2006",
          "2011",
          "2016",
          "2021"
         ],
         "xaxis": "x3",
         "y": {
          "bdata": "AAAAAAD6pEAAAAAAAJKoQAAAAAAAAAAAAAAAAAAAAAA=",
          "dtype": "f8"
         },
         "yaxis": "y3"
        },
        {
         "line": {
          "color": "black",
          "dash": "dot"
         },
         "mode": "lines+markers",
         "showlegend": false,
         "type": "scatter",
         "x": [
          "2006",
          "2011",
          "2016",
          "2021"
         ],
         "xaxis": "x3",
         "y": {
          "bdata": "AAAAAAD6pEAAAAAAAJKoQAAAAAAAK7tAAAAAAAAYsEA=",
          "dtype": "f8"
         },
         "yaxis": "y3"
        },
        {
         "marker": {
          "color": "#EF553B",
          "size": 6
         },
         "mode": "markers",
         "name": "Path 253",
         "showlegend": false,
         "type": "scatter",
         "x": [
          "2006",
          "2011",
          "2016",
          "2021"
         ],
         "xaxis": "x3",
         "y": {
          "bdata": "AAAAAAD6pEAAAAAAAJKoQAAAAAAAK7tAAAAAAAAYsEA=",
          "dtype": "f8"
         },
         "yaxis": "y3"
        },
        {
         "line": {
          "color": "black",
          "dash": "dot"
         },
         "mode": "lines+markers",
         "showlegend": false,
         "type": "scatter",
         "x": [
          "2006",
          "2011",
          "2016",
          "2021"
         ],
         "xaxis": "x3",
         "y": {
          "bdata": "AAAAAAD6pEAAAAAAAJKoQAAAAAAAK7tAAAAAAAABuEA=",
          "dtype": "f8"
         },
         "yaxis": "y3"
        },
        {
         "marker": {
          "color": "#EF553B",
          "size": 6
         },
         "mode": "markers",
         "name": "Path 254",
         "showlegend": false,
         "type": "scatter",
         "x": [
          "2006",
          "2011",
          "2016",
          "2021"
         ],
         "xaxis": "x3",
         "y": {
          "bdata": "AAAAAAD6pEAAAAAAAJKoQAAAAAAAK7tAAAAAAAABuEA=",
          "dtype": "f8"
         },
         "yaxis": "y3"
        },
        {
         "line": {
          "color": "black",
          "dash": "dot"
         },
         "mode": "lines+markers",
         "showlegend": false,
         "type": "scatter",
         "x": [
          "2006",
          "2011",
          "2016",
          "2021"
         ],
         "xaxis": "x3",
         "y": {
          "bdata": "AAAAAAA6pkAAAAAAAMCsQAAAAAAAp7JAAAAAAADctEA=",
          "dtype": "f8"
         },
         "yaxis": "y3"
        },
        {
         "marker": {
          "color": "#EF553B",
          "size": 6
         },
         "mode": "markers",
         "name": "Path 274",
         "showlegend": false,
         "type": "scatter",
         "x": [
          "2006",
          "2011",
          "2016",
          "2021"
         ],
         "xaxis": "x3",
         "y": {
          "bdata": "AAAAAAA6pkAAAAAAAMCsQAAAAAAAp7JAAAAAAADctEA=",
          "dtype": "f8"
         },
         "yaxis": "y3"
        },
        {
         "line": {
          "color": "black",
          "dash": "dot"
         },
         "mode": "lines+markers",
         "showlegend": false,
         "type": "scatter",
         "x": [
          "2006",
          "2011",
          "2016",
          "2021"
         ],
         "xaxis": "x3",
         "y": {
          "bdata": "AAAAAACIqEAAAAAAAAysQAAAAAAANrVAAAAAAAAYoEA=",
          "dtype": "f8"
         },
         "yaxis": "y3"
        },
        {
         "marker": {
          "color": "#AB63FA",
          "size": 6
         },
         "mode": "markers",
         "name": "Path 384",
         "showlegend": false,
         "type": "scatter",
         "x": [
          "2006",
          "2011",
          "2016",
          "2021"
         ],
         "xaxis": "x3",
         "y": {
          "bdata": "AAAAAACIqEAAAAAAAAysQAAAAAAANrVAAAAAAAAYoEA=",
          "dtype": "f8"
         },
         "yaxis": "y3"
        },
        {
         "line": {
          "color": "black",
          "dash": "dot"
         },
         "mode": "lines+markers",
         "showlegend": false,
         "type": "scatter",
         "x": [
          "2006",
          "2011",
          "2016",
          "2021"
         ],
         "xaxis": "x3",
         "y": {
          "bdata": "AAAAAACIqEAAAAAAAAysQAAAAAAANrVAAAAAAACmqEA=",
          "dtype": "f8"
         },
         "yaxis": "y3"
        },
        {
         "marker": {
          "color": "#AB63FA",
          "size": 6
         },
         "mode": "markers",
         "name": "Path 385",
         "showlegend": false,
         "type": "scatter",
         "x": [
          "2006",
          "2011",
          "2016",
          "2021"
         ],
         "xaxis": "x3",
         "y": {
          "bdata": "AAAAAACIqEAAAAAAAAysQAAAAAAANrVAAAAAAACmqEA=",
          "dtype": "f8"
         },
         "yaxis": "y3"
        },
        {
         "line": {
          "color": "black",
          "dash": "dot"
         },
         "mode": "lines+markers",
         "showlegend": false,
         "type": "scatter",
         "x": [
          "2006",
          "2011",
          "2016",
          "2021"
         ],
         "xaxis": "x3",
         "y": {
          "bdata": "AAAAAACIqEAAAAAAAAysQAAAAAAANrVAAAAAAABgbUA=",
          "dtype": "f8"
         },
         "yaxis": "y3"
        },
        {
         "marker": {
          "color": "#AB63FA",
          "size": 6
         },
         "mode": "markers",
         "name": "Path 386",
         "showlegend": false,
         "type": "scatter",
         "x": [
          "2006",
          "2011",
          "2016",
          "2021"
         ],
         "xaxis": "x3",
         "y": {
          "bdata": "AAAAAACIqEAAAAAAAAysQAAAAAAANrVAAAAAAABgbUA=",
          "dtype": "f8"
         },
         "yaxis": "y3"
        },
        {
         "line": {
          "color": "black",
          "dash": "dot"
         },
         "mode": "lines+markers",
         "showlegend": false,
         "type": "scatter",
         "x": [
          "2006",
          "2011",
          "2016",
          "2021"
         ],
         "xaxis": "x3",
         "y": {
          "bdata": "AAAAAAAypEAAAAAAAAihQAAAAAAAhrBAAAAAAACApkA=",
          "dtype": "f8"
         },
         "yaxis": "y3"
        },
        {
         "marker": {
          "color": "#EF553B",
          "size": 6
         },
         "mode": "markers",
         "name": "Path 402",
         "showlegend": false,
         "type": "scatter",
         "x": [
          "2006",
          "2011",
          "2016",
          "2021"
         ],
         "xaxis": "x3",
         "y": {
          "bdata": "AAAAAAAypEAAAAAAAAihQAAAAAAAhrBAAAAAAACApkA=",
          "dtype": "f8"
         },
         "yaxis": "y3"
        },
        {
         "line": {
          "color": "black",
          "dash": "dot"
         },
         "mode": "lines+markers",
         "showlegend": false,
         "type": "scatter",
         "x": [
          "2006",
          "2011",
          "2016",
          "2021"
         ],
         "xaxis": "x3",
         "y": {
          "bdata": "AAAAAAAypEAAAAAAAAihQAAAAAAAhrBAAAAAAACYokA=",
          "dtype": "f8"
         },
         "yaxis": "y3"
        },
        {
         "marker": {
          "color": "#EF553B",
          "size": 6
         },
         "mode": "markers",
         "name": "Path 403",
         "showlegend": false,
         "type": "scatter",
         "x": [
          "2006",
          "2011",
          "2016",
          "2021"
         ],
         "xaxis": "x3",
         "y": {
          "bdata": "AAAAAAAypEAAAAAAAAihQAAAAAAAhrBAAAAAAACYokA=",
          "dtype": "f8"
         },
         "yaxis": "y3"
        },
        {
         "line": {
          "color": "black",
          "dash": "dot"
         },
         "mode": "lines+markers",
         "showlegend": false,
         "type": "scatter",
         "x": [
          "2006",
          "2011",
          "2016",
          "2021"
         ],
         "xaxis": "x3",
         "y": {
          "bdata": "AAAAAACnskAAAAAAAFihQAAAAAAAbKFAAAAAAAD+oEA=",
          "dtype": "f8"
         },
         "yaxis": "y3"
        },
        {
         "marker": {
          "color": "#AB63FA",
          "size": 6
         },
         "mode": "markers",
         "name": "Path 406",
         "showlegend": false,
         "type": "scatter",
         "x": [
          "2006",
          "2011",
          "2016",
          "2021"
         ],
         "xaxis": "x3",
         "y": {
          "bdata": "AAAAAACnskAAAAAAAFihQAAAAAAAbKFAAAAAAAD+oEA=",
          "dtype": "f8"
         },
         "yaxis": "y3"
        },
        {
         "line": {
          "color": "black",
          "dash": "dot"
         },
         "mode": "lines+markers",
         "showlegend": false,
         "type": "scatter",
         "x": [
          "2006",
          "2011",
          "2016",
          "2021"
         ],
         "xaxis": "x3",
         "y": {
          "bdata": "AAAAAACnskAAAAAAAAKnQAAAAAAA0qlAAAAAAAD6qUA=",
          "dtype": "f8"
         },
         "yaxis": "y3"
        },
        {
         "marker": {
          "color": "#AB63FA",
          "size": 6
         },
         "mode": "markers",
         "name": "Path 407",
         "showlegend": false,
         "type": "scatter",
         "x": [
          "2006",
          "2011",
          "2016",
          "2021"
         ],
         "xaxis": "x3",
         "y": {
          "bdata": "AAAAAACnskAAAAAAAAKnQAAAAAAA0qlAAAAAAAD6qUA=",
          "dtype": "f8"
         },
         "yaxis": "y3"
        },
        {
         "line": {
          "color": "black",
          "dash": "dot"
         },
         "mode": "lines+markers",
         "showlegend": false,
         "type": "scatter",
         "x": [
          "2006",
          "2011",
          "2016",
          "2021"
         ],
         "xaxis": "x3",
         "y": {
          "bdata": "AAAAAAA4rUAAAAAAADCbQAAAAAAAbJtAAAAAAAC4mkA=",
          "dtype": "f8"
         },
         "yaxis": "y3"
        },
        {
         "marker": {
          "color": "#AB63FA",
          "size": 6
         },
         "mode": "markers",
         "name": "Path 408",
         "showlegend": false,
         "type": "scatter",
         "x": [
          "2006",
          "2011",
          "2016",
          "2021"
         ],
         "xaxis": "x3",
         "y": {
          "bdata": "AAAAAAA4rUAAAAAAADCbQAAAAAAAbJtAAAAAAAC4mkA=",
          "dtype": "f8"
         },
         "yaxis": "y3"
        },
        {
         "line": {
          "color": "black",
          "dash": "dot"
         },
         "mode": "lines+markers",
         "showlegend": false,
         "type": "scatter",
         "x": [
          "2006",
          "2011",
          "2016",
          "2021"
         ],
         "xaxis": "x3",
         "y": {
          "bdata": "AAAAAAA4rUAAAAAAAKCeQAAAAAAAnJ1AAAAAAAB0nUA=",
          "dtype": "f8"
         },
         "yaxis": "y3"
        },
        {
         "marker": {
          "color": "#AB63FA",
          "size": 6
         },
         "mode": "markers",
         "name": "Path 409",
         "showlegend": false,
         "type": "scatter",
         "x": [
          "2006",
          "2011",
          "2016",
          "2021"
         ],
         "xaxis": "x3",
         "y": {
          "bdata": "AAAAAAA4rUAAAAAAAKCeQAAAAAAAnJ1AAAAAAAB0nUA=",
          "dtype": "f8"
         },
         "yaxis": "y3"
        },
        {
         "line": {
          "color": "black",
          "dash": "dot"
         },
         "mode": "lines+markers",
         "showlegend": false,
         "type": "scatter",
         "x": [
          "2006",
          "2011",
          "2016",
          "2021"
         ],
         "xaxis": "x3",
         "y": {
          "bdata": "AAAAAAA4rUAAAAAAAHCCQAAAAAAAwIxAAAAAAABgjUA=",
          "dtype": "f8"
         },
         "yaxis": "y3"
        },
        {
         "marker": {
          "color": "#AB63FA",
          "size": 6
         },
         "mode": "markers",
         "name": "Path 410",
         "showlegend": false,
         "type": "scatter",
         "x": [
          "2006",
          "2011",
          "2016",
          "2021"
         ],
         "xaxis": "x3",
         "y": {
          "bdata": "AAAAAAA4rUAAAAAAAHCCQAAAAAAAwIxAAAAAAABgjUA=",
          "dtype": "f8"
         },
         "yaxis": "y3"
        },
        {
         "line": {
          "color": "black",
          "dash": "dot"
         },
         "mode": "lines+markers",
         "showlegend": false,
         "type": "scatter",
         "x": [
          "2006",
          "2011",
          "2016",
          "2021"
         ],
         "xaxis": "x3",
         "y": {
          "bdata": "AAAAAADio0AAAAAAACStQAAAAAAAAAAAAAAAAAAAAAA=",
          "dtype": "f8"
         },
         "yaxis": "y3"
        },
        {
         "marker": {
          "color": "#EF553B",
          "size": 6
         },
         "mode": "markers",
         "name": "Path 411",
         "showlegend": false,
         "type": "scatter",
         "x": [
          "2006",
          "2011",
          "2016",
          "2021"
         ],
         "xaxis": "x3",
         "y": {
          "bdata": "AAAAAADio0AAAAAAACStQAAAAAAAAAAAAAAAAAAAAAA=",
          "dtype": "f8"
         },
         "yaxis": "y3"
        },
        {
         "line": {
          "color": "black",
          "dash": "dot"
         },
         "mode": "lines+markers",
         "showlegend": false,
         "type": "scatter",
         "x": [
          "2006",
          "2011",
          "2016",
          "2021"
         ],
         "xaxis": "x3",
         "y": {
          "bdata": "AAAAAADio0AAAAAAACStQAAAAAAAFrJAAAAAAAAAAAA=",
          "dtype": "f8"
         },
         "yaxis": "y3"
        },
        {
         "marker": {
          "color": "#EF553B",
          "size": 6
         },
         "mode": "markers",
         "name": "Path 412",
         "showlegend": false,
         "type": "scatter",
         "x": [
          "2006",
          "2011",
          "2016",
          "2021"
         ],
         "xaxis": "x3",
         "y": {
          "bdata": "AAAAAADio0AAAAAAACStQAAAAAAAFrJAAAAAAAAAAAA=",
          "dtype": "f8"
         },
         "yaxis": "y3"
        },
        {
         "line": {
          "color": "black",
          "dash": "dot"
         },
         "mode": "lines+markers",
         "showlegend": false,
         "type": "scatter",
         "x": [
          "2006",
          "2011",
          "2016",
          "2021"
         ],
         "xaxis": "x3",
         "y": {
          "bdata": "AAAAAADio0AAAAAAACStQAAAAAAAFrJAAAAAAACupUA=",
          "dtype": "f8"
         },
         "yaxis": "y3"
        },
        {
         "marker": {
          "color": "#EF553B",
          "size": 6
         },
         "mode": "markers",
         "name": "Path 413",
         "showlegend": false,
         "type": "scatter",
         "x": [
          "2006",
          "2011",
          "2016",
          "2021"
         ],
         "xaxis": "x3",
         "y": {
          "bdata": "AAAAAADio0AAAAAAACStQAAAAAAAFrJAAAAAAACupUA=",
          "dtype": "f8"
         },
         "yaxis": "y3"
        },
        {
         "line": {
          "color": "black",
          "dash": "dot"
         },
         "mode": "lines+markers",
         "showlegend": false,
         "type": "scatter",
         "x": [
          "2006",
          "2011",
          "2016",
          "2021"
         ],
         "xaxis": "x3",
         "y": {
          "bdata": "AAAAAADio0AAAAAAACStQAAAAAAAFrJAAAAAAADWoEA=",
          "dtype": "f8"
         },
         "yaxis": "y3"
        },
        {
         "marker": {
          "color": "#EF553B",
          "size": 6
         },
         "mode": "markers",
         "name": "Path 414",
         "showlegend": false,
         "type": "scatter",
         "x": [
          "2006",
          "2011",
          "2016",
          "2021"
         ],
         "xaxis": "x3",
         "y": {
          "bdata": "AAAAAADio0AAAAAAACStQAAAAAAAFrJAAAAAAADWoEA=",
          "dtype": "f8"
         },
         "yaxis": "y3"
        },
        {
         "line": {
          "color": "#00CC96"
         },
         "mode": "lines+markers",
         "showlegend": false,
         "type": "scatter",
         "x": [
          "2006",
          "2011",
          "2016",
          "2021"
         ],
         "xaxis": "x3",
         "y": {
          "bdata": "6Hme53luZEDrlD/qlL9mQASnA6cDZ2VAWVPWlDV1ZEA=",
          "dtype": "f8"
         },
         "yaxis": "y3"
        },
        {
         "line": {
          "color": "#AB63FA"
         },
         "mode": "lines+markers",
         "showlegend": false,
         "type": "scatter",
         "x": [
          "2006",
          "2011",
          "2016",
          "2021"
         ],
         "xaxis": "x3",
         "y": {
          "bdata": "nud5nufmsEBLS0tLS2exQFVVVVX1ubdAchzHcZwftkA=",
          "dtype": "f8"
         },
         "yaxis": "y3"
        }
       ],
       "layout": {
        "annotations": [
         {
          "font": {
           "size": 16
          },
          "showarrow": false,
          "text": "Feature occupied_private_dwellings",
          "x": 0.5,
          "xanchor": "center",
          "xref": "paper",
          "y": 1,
          "yanchor": "bottom",
          "yref": "paper"
         },
         {
          "font": {
           "size": 16
          },
          "showarrow": false,
          "text": "Feature single_detached_house",
          "x": 0.5,
          "xanchor": "center",
          "xref": "paper",
          "y": 0.6466666666666667,
          "yanchor": "bottom",
          "yref": "paper"
         },
         {
          "font": {
           "size": 16
          },
          "showarrow": false,
          "text": "Feature apt_five_or_more",
          "x": 0.5,
          "xanchor": "center",
          "xref": "paper",
          "y": 0.29333333333333333,
          "yanchor": "bottom",
          "yref": "paper"
         }
        ],
        "height": 1500,
        "legend": {
         "title": {
          "text": "Legend"
         }
        },
        "showlegend": true,
        "template": {
         "data": {
          "bar": [
           {
            "error_x": {
             "color": "#2a3f5f"
            },
            "error_y": {
             "color": "#2a3f5f"
            },
            "marker": {
             "line": {
              "color": "#E5ECF6",
              "width": 0.5
             },
             "pattern": {
              "fillmode": "overlay",
              "size": 10,
              "solidity": 0.2
             }
            },
            "type": "bar"
           }
          ],
          "barpolar": [
           {
            "marker": {
             "line": {
              "color": "#E5ECF6",
              "width": 0.5
             },
             "pattern": {
              "fillmode": "overlay",
              "size": 10,
              "solidity": 0.2
             }
            },
            "type": "barpolar"
           }
          ],
          "carpet": [
           {
            "aaxis": {
             "endlinecolor": "#2a3f5f",
             "gridcolor": "white",
             "linecolor": "white",
             "minorgridcolor": "white",
             "startlinecolor": "#2a3f5f"
            },
            "baxis": {
             "endlinecolor": "#2a3f5f",
             "gridcolor": "white",
             "linecolor": "white",
             "minorgridcolor": "white",
             "startlinecolor": "#2a3f5f"
            },
            "type": "carpet"
           }
          ],
          "choropleth": [
           {
            "colorbar": {
             "outlinewidth": 0,
             "ticks": ""
            },
            "type": "choropleth"
           }
          ],
          "contour": [
           {
            "colorbar": {
             "outlinewidth": 0,
             "ticks": ""
            },
            "colorscale": [
             [
              0,
              "#0d0887"
             ],
             [
              0.1111111111111111,
              "#46039f"
             ],
             [
              0.2222222222222222,
              "#7201a8"
             ],
             [
              0.3333333333333333,
              "#9c179e"
             ],
             [
              0.4444444444444444,
              "#bd3786"
             ],
             [
              0.5555555555555556,
              "#d8576b"
             ],
             [
              0.6666666666666666,
              "#ed7953"
             ],
             [
              0.7777777777777778,
              "#fb9f3a"
             ],
             [
              0.8888888888888888,
              "#fdca26"
             ],
             [
              1,
              "#f0f921"
             ]
            ],
            "type": "contour"
           }
          ],
          "contourcarpet": [
           {
            "colorbar": {
             "outlinewidth": 0,
             "ticks": ""
            },
            "type": "contourcarpet"
           }
          ],
          "heatmap": [
           {
            "colorbar": {
             "outlinewidth": 0,
             "ticks": ""
            },
            "colorscale": [
             [
              0,
              "#0d0887"
             ],
             [
              0.1111111111111111,
              "#46039f"
             ],
             [
              0.2222222222222222,
              "#7201a8"
             ],
             [
              0.3333333333333333,
              "#9c179e"
             ],
             [
              0.4444444444444444,
              "#bd3786"
             ],
             [
              0.5555555555555556,
              "#d8576b"
             ],
             [
              0.6666666666666666,
              "#ed7953"
             ],
             [
              0.7777777777777778,
              "#fb9f3a"
             ],
             [
              0.8888888888888888,
              "#fdca26"
             ],
             [
              1,
              "#f0f921"
             ]
            ],
            "type": "heatmap"
           }
          ],
          "histogram": [
           {
            "marker": {
             "pattern": {
              "fillmode": "overlay",
              "size": 10,
              "solidity": 0.2
             }
            },
            "type": "histogram"
           }
          ],
          "histogram2d": [
           {
            "colorbar": {
             "outlinewidth": 0,
             "ticks": ""
            },
            "colorscale": [
             [
              0,
              "#0d0887"
             ],
             [
              0.1111111111111111,
              "#46039f"
             ],
             [
              0.2222222222222222,
              "#7201a8"
             ],
             [
              0.3333333333333333,
              "#9c179e"
             ],
             [
              0.4444444444444444,
              "#bd3786"
             ],
             [
              0.5555555555555556,
              "#d8576b"
             ],
             [
              0.6666666666666666,
              "#ed7953"
             ],
             [
              0.7777777777777778,
              "#fb9f3a"
             ],
             [
              0.8888888888888888,
              "#fdca26"
             ],
             [
              1,
              "#f0f921"
             ]
            ],
            "type": "histogram2d"
           }
          ],
          "histogram2dcontour": [
           {
            "colorbar": {
             "outlinewidth": 0,
             "ticks": ""
            },
            "colorscale": [
             [
              0,
              "#0d0887"
             ],
             [
              0.1111111111111111,
              "#46039f"
             ],
             [
              0.2222222222222222,
              "#7201a8"
             ],
             [
              0.3333333333333333,
              "#9c179e"
             ],
             [
              0.4444444444444444,
              "#bd3786"
             ],
             [
              0.5555555555555556,
              "#d8576b"
             ],
             [
              0.6666666666666666,
              "#ed7953"
             ],
             [
              0.7777777777777778,
              "#fb9f3a"
             ],
             [
              0.8888888888888888,
              "#fdca26"
             ],
             [
              1,
              "#f0f921"
             ]
            ],
            "type": "histogram2dcontour"
           }
          ],
          "mesh3d": [
           {
            "colorbar": {
             "outlinewidth": 0,
             "ticks": ""
            },
            "type": "mesh3d"
           }
          ],
          "parcoords": [
           {
            "line": {
             "colorbar": {
              "outlinewidth": 0,
              "ticks": ""
             }
            },
            "type": "parcoords"
           }
          ],
          "pie": [
           {
            "automargin": true,
            "type": "pie"
           }
          ],
          "scatter": [
           {
            "fillpattern": {
             "fillmode": "overlay",
             "size": 10,
             "solidity": 0.2
            },
            "type": "scatter"
           }
          ],
          "scatter3d": [
           {
            "line": {
             "colorbar": {
              "outlinewidth": 0,
              "ticks": ""
             }
            },
            "marker": {
             "colorbar": {
              "outlinewidth": 0,
              "ticks": ""
             }
            },
            "type": "scatter3d"
           }
          ],
          "scattercarpet": [
           {
            "marker": {
             "colorbar": {
              "outlinewidth": 0,
              "ticks": ""
             }
            },
            "type": "scattercarpet"
           }
          ],
          "scattergeo": [
           {
            "marker": {
             "colorbar": {
              "outlinewidth": 0,
              "ticks": ""
             }
            },
            "type": "scattergeo"
           }
          ],
          "scattergl": [
           {
            "marker": {
             "colorbar": {
              "outlinewidth": 0,
              "ticks": ""
             }
            },
            "type": "scattergl"
           }
          ],
          "scattermap": [
           {
            "marker": {
             "colorbar": {
              "outlinewidth": 0,
              "ticks": ""
             }
            },
            "type": "scattermap"
           }
          ],
          "scattermapbox": [
           {
            "marker": {
             "colorbar": {
              "outlinewidth": 0,
              "ticks": ""
             }
            },
            "type": "scattermapbox"
           }
          ],
          "scatterpolar": [
           {
            "marker": {
             "colorbar": {
              "outlinewidth": 0,
              "ticks": ""
             }
            },
            "type": "scatterpolar"
           }
          ],
          "scatterpolargl": [
           {
            "marker": {
             "colorbar": {
              "outlinewidth": 0,
              "ticks": ""
             }
            },
            "type": "scatterpolargl"
           }
          ],
          "scatterternary": [
           {
            "marker": {
             "colorbar": {
              "outlinewidth": 0,
              "ticks": ""
             }
            },
            "type": "scatterternary"
           }
          ],
          "surface": [
           {
            "colorbar": {
             "outlinewidth": 0,
             "ticks": ""
            },
            "colorscale": [
             [
              0,
              "#0d0887"
             ],
             [
              0.1111111111111111,
              "#46039f"
             ],
             [
              0.2222222222222222,
              "#7201a8"
             ],
             [
              0.3333333333333333,
              "#9c179e"
             ],
             [
              0.4444444444444444,
              "#bd3786"
             ],
             [
              0.5555555555555556,
              "#d8576b"
             ],
             [
              0.6666666666666666,
              "#ed7953"
             ],
             [
              0.7777777777777778,
              "#fb9f3a"
             ],
             [
              0.8888888888888888,
              "#fdca26"
             ],
             [
              1,
              "#f0f921"
             ]
            ],
            "type": "surface"
           }
          ],
          "table": [
           {
            "cells": {
             "fill": {
              "color": "#EBF0F8"
             },
             "line": {
              "color": "white"
             }
            },
            "header": {
             "fill": {
              "color": "#C8D4E3"
             },
             "line": {
              "color": "white"
             }
            },
            "type": "table"
           }
          ]
         },
         "layout": {
          "annotationdefaults": {
           "arrowcolor": "#2a3f5f",
           "arrowhead": 0,
           "arrowwidth": 1
          },
          "autotypenumbers": "strict",
          "coloraxis": {
           "colorbar": {
            "outlinewidth": 0,
            "ticks": ""
           }
          },
          "colorscale": {
           "diverging": [
            [
             0,
             "#8e0152"
            ],
            [
             0.1,
             "#c51b7d"
            ],
            [
             0.2,
             "#de77ae"
            ],
            [
             0.3,
             "#f1b6da"
            ],
            [
             0.4,
             "#fde0ef"
            ],
            [
             0.5,
             "#f7f7f7"
            ],
            [
             0.6,
             "#e6f5d0"
            ],
            [
             0.7,
             "#b8e186"
            ],
            [
             0.8,
             "#7fbc41"
            ],
            [
             0.9,
             "#4d9221"
            ],
            [
             1,
             "#276419"
            ]
           ],
           "sequential": [
            [
             0,
             "#0d0887"
            ],
            [
             0.1111111111111111,
             "#46039f"
            ],
            [
             0.2222222222222222,
             "#7201a8"
            ],
            [
             0.3333333333333333,
             "#9c179e"
            ],
            [
             0.4444444444444444,
             "#bd3786"
            ],
            [
             0.5555555555555556,
             "#d8576b"
            ],
            [
             0.6666666666666666,
             "#ed7953"
            ],
            [
             0.7777777777777778,
             "#fb9f3a"
            ],
            [
             0.8888888888888888,
             "#fdca26"
            ],
            [
             1,
             "#f0f921"
            ]
           ],
           "sequentialminus": [
            [
             0,
             "#0d0887"
            ],
            [
             0.1111111111111111,
             "#46039f"
            ],
            [
             0.2222222222222222,
             "#7201a8"
            ],
            [
             0.3333333333333333,
             "#9c179e"
            ],
            [
             0.4444444444444444,
             "#bd3786"
            ],
            [
             0.5555555555555556,
             "#d8576b"
            ],
            [
             0.6666666666666666,
             "#ed7953"
            ],
            [
             0.7777777777777778,
             "#fb9f3a"
            ],
            [
             0.8888888888888888,
             "#fdca26"
            ],
            [
             1,
             "#f0f921"
            ]
           ]
          },
          "colorway": [
           "#636efa",
           "#EF553B",
           "#00cc96",
           "#ab63fa",
           "#FFA15A",
           "#19d3f3",
           "#FF6692",
           "#B6E880",
           "#FF97FF",
           "#FECB52"
          ],
          "font": {
           "color": "#2a3f5f"
          },
          "geo": {
           "bgcolor": "white",
           "lakecolor": "white",
           "landcolor": "#E5ECF6",
           "showlakes": true,
           "showland": true,
           "subunitcolor": "white"
          },
          "hoverlabel": {
           "align": "left"
          },
          "hovermode": "closest",
          "mapbox": {
           "style": "light"
          },
          "paper_bgcolor": "white",
          "plot_bgcolor": "#E5ECF6",
          "polar": {
           "angularaxis": {
            "gridcolor": "white",
            "linecolor": "white",
            "ticks": ""
           },
           "bgcolor": "#E5ECF6",
           "radialaxis": {
            "gridcolor": "white",
            "linecolor": "white",
            "ticks": ""
           }
          },
          "scene": {
           "xaxis": {
            "backgroundcolor": "#E5ECF6",
            "gridcolor": "white",
            "gridwidth": 2,
            "linecolor": "white",
            "showbackground": true,
            "ticks": "",
            "zerolinecolor": "white"
           },
           "yaxis": {
            "backgroundcolor": "#E5ECF6",
            "gridcolor": "white",
            "gridwidth": 2,
            "linecolor": "white",
            "showbackground": true,
            "ticks": "",
            "zerolinecolor": "white"
           },
           "zaxis": {
            "backgroundcolor": "#E5ECF6",
            "gridcolor": "white",
            "gridwidth": 2,
            "linecolor": "white",
            "showbackground": true,
            "ticks": "",
            "zerolinecolor": "white"
           }
          },
          "shapedefaults": {
           "line": {
            "color": "#2a3f5f"
           }
          },
          "ternary": {
           "aaxis": {
            "gridcolor": "white",
            "linecolor": "white",
            "ticks": ""
           },
           "baxis": {
            "gridcolor": "white",
            "linecolor": "white",
            "ticks": ""
           },
           "bgcolor": "#E5ECF6",
           "caxis": {
            "gridcolor": "white",
            "linecolor": "white",
            "ticks": ""
           }
          },
          "title": {
           "x": 0.05
          },
          "xaxis": {
           "automargin": true,
           "gridcolor": "white",
           "linecolor": "white",
           "ticks": "",
           "title": {
            "standoff": 15
           },
           "zerolinecolor": "white",
           "zerolinewidth": 2
          },
          "yaxis": {
           "automargin": true,
           "gridcolor": "white",
           "linecolor": "white",
           "ticks": "",
           "title": {
            "standoff": 15
           },
           "zerolinecolor": "white",
           "zerolinewidth": 2
          }
         }
        },
        "title": {
         "text": "Clustering Results"
        },
        "width": 700,
        "xaxis": {
         "anchor": "y",
         "domain": [
          0,
          1
         ],
         "tickangle": 45,
         "title": {
          "text": ""
         }
        },
        "xaxis2": {
         "anchor": "y2",
         "domain": [
          0,
          1
         ],
         "tickangle": 45,
         "title": {
          "text": ""
         }
        },
        "xaxis3": {
         "anchor": "y3",
         "domain": [
          0,
          1
         ],
         "tickangle": 45,
         "title": {
          "text": "Year"
         }
        },
        "yaxis": {
         "anchor": "x",
         "domain": [
          0.7066666666666667,
          1
         ],
         "title": {
          "text": "Value"
         }
        },
        "yaxis2": {
         "anchor": "x2",
         "domain": [
          0.35333333333333333,
          0.6466666666666667
         ],
         "title": {
          "text": "Value"
         }
        },
        "yaxis3": {
         "anchor": "x3",
         "domain": [
          0,
          0.29333333333333333
         ],
         "title": {
          "text": "Value"
         }
        }
       }
      }
     },
     "metadata": {},
     "output_type": "display_data"
    }
   ],
   "source": [
    "# %pip install nbformat needed if working in ipynb\n",
    "# next steps:\n",
    "# reduce dependency on tsc, arr, label dict if possible\n",
    "# documentation for new plot function\n",
    "# change testing notebook\n",
    "# make sure all four colours always show up on the legend\n",
    "# maybe three separate legends? how much more time would three separate plots be?\n",
    "# pass in colours to all plots so they are the same & work with colourblindness\n",
    "# make other plots more customizable-- titles, x axis rotation, cluster labels, figsize\n",
    "fig = plot_plotly(\n",
    "    tsc=tsc,\n",
    "    network_table=network_table,\n",
    "    arr=arr,\n",
    "    label_dict=label_dict,\n",
    "    clusters_to_show=[3],\n",
    "    cluster_centres_to_show=[2, 3],\n",
    "    hover_labels=True,\n",
    ")\n",
    "fig.show()"
   ]
  }
 ],
 "metadata": {
  "kernelspec": {
   "display_name": "Python 3",
   "language": "python",
   "name": "python3"
  },
  "language_info": {
   "codemirror_mode": {
    "name": "ipython",
    "version": 3
   },
   "file_extension": ".py",
   "mimetype": "text/x-python",
   "name": "python",
   "nbconvert_exporter": "python",
   "pygments_lexer": "ipython3",
   "version": "3.12.10"
  }
 },
 "nbformat": 4,
 "nbformat_minor": 5
}
