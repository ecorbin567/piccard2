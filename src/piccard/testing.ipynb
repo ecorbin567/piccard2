{
 "cells": [
  {
   "cell_type": "code",
   "execution_count": null,
   "id": "99b2feeb",
   "metadata": {},
   "outputs": [],
   "source": [
    "import geopandas as gpd\n",
    "import numpy as np\n",
    "import matplotlib.pyplot as plt\n",
    "\n",
    "import warnings\n",
    "warnings.filterwarnings('ignore')\n",
    "\n",
    "import piccard as pc\n",
    "import piccard2 as pc2\n",
    "\n",
    "# needed if methods brought in\n",
    "from tscluster.opttscluster import OptTSCluster\n",
    "from tscluster.greedytscluster import GreedyTSCluster\n",
    "from tscluster.preprocessing.utils import load_data, ntf_to_tnf, tnf_to_ntf\n",
    "import pandas as pd\n",
    "import math\n",
    "import networkx as nx"
   ]
  },
  {
   "cell_type": "code",
   "execution_count": null,
   "id": "cb2e334b",
   "metadata": {},
   "outputs": [],
   "source": [
    "households_data_2021 = gpd.read_file(\"data_testing/households_data_2021.geojson\")\n",
    "households_data_2016 = gpd.read_file(\"data_testing/households_data_2016.geojson\")\n",
    "households_data_2011 = gpd.read_file(\"data_testing/households_data_2011.geojson\")\n",
    "households_data_2006 = gpd.read_file(\"data_testing/households_data_2006.geojson\")\n",
    "\n",
    "households_data_2021.rename(columns={'v_CA21_434: Occupied private dwellings by structural type of dwelling data': 'occupied_private_dwellings',\n",
    "                                     'v_CA21_435: Single-detached house': 'single_detached_house',\n",
    "                                     'v_CA21_440: Apartment in a building that has five or more storeys': 'apt_five_or_more'}, inplace=True)\n",
    "households_data_2016.rename(columns={'v_CA16_408: Occupied private dwellings by structural type of dwelling data': 'occupied_private_dwellings',\n",
    "                                     'v_CA16_409: Single-detached house': 'single_detached_house',\n",
    "                                     'v_CA16_410: Apartment in a building that has five or more storeys': 'apt_five_or_more'}, inplace=True)\n",
    "households_data_2011.rename(columns={'v_CA11F_199: Total number of occupied private dwellings by structural type of dwelling': 'occupied_private_dwellings',\n",
    "                                     'v_CA11F_200: Single-detached house': 'single_detached_house',\n",
    "                                     'v_CA11F_201: Apartment, building that has five or more storeys': 'apt_five_or_more',}, inplace=True)\n",
    "households_data_2006.rename(columns={'v_CA06_119: Total number of occupied private dwellings by structural type of dwelling - data': 'occupied_private_dwellings',\n",
    "                                     'v_CA06_120: Single-detached house': 'single_detached_house',\n",
    "                                     'v_CA06_124: Apartment, building that has five or more storeys': 'apt_five_or_more',}, inplace=True)"
   ]
  },
  {
   "cell_type": "code",
   "execution_count": null,
   "id": "72a4f23d",
   "metadata": {},
   "outputs": [],
   "source": [
    "census_dfs = [households_data_2006, households_data_2011, households_data_2016, households_data_2021]\n",
    "years = ['2006', '2011', '2016', '2021']\n",
    "\n",
    "network_table = pc.create_network_table(census_dfs, years, 'GeoUID')\n",
    "network_table"
   ]
  },
  {
   "cell_type": "code",
   "execution_count": null,
   "id": "3922ee31",
   "metadata": {},
   "outputs": [],
   "source": [
    "from tscluster.tsplot import tsplot\n",
    "\n",
    "arr, label_dict = pc2.clustering_prep(network_table, 'name', [\n",
    "    'occupied_private_dwellings_2006', 'single_detached_house_2006', 'apt_five_or_more_2006',\n",
    "    'occupied_private_dwellings_2011', 'single_detached_house_2011', 'apt_five_or_more_2011',\n",
    "    'occupied_private_dwellings_2016', 'single_detached_house_2016', 'apt_five_or_more_2016', \n",
    "    'occupied_private_dwellings_2021', 'single_detached_house_2021', 'apt_five_or_more_2021'])\n",
    "\n",
    "fig, ax = tsplot.plot(X=arr, label_dict=label_dict)"
   ]
  },
  {
   "cell_type": "code",
   "execution_count": null,
   "id": "bcaf1014",
   "metadata": {},
   "outputs": [],
   "source": [
    "# we will use the elbow method to determine the optimal number of clusters\n",
    "from sympy import false\n",
    "from yellowbrick.cluster import KElbowVisualizer\n",
    "from sklearn.cluster import KMeans\n",
    "\n",
    "reshaped_arr = arr.reshape(587*4,3)\n",
    "reshaped_arr = np.nan_to_num(reshaped_arr, nan=-1000000)\n",
    "\n",
    "model = KMeans(random_state=4,n_init=10)\n",
    "visualizer = KElbowVisualizer(model, k=(2,10),timings=False, ax=plt.gca())\n",
    "visualizer.fit(reshaped_arr)       # Fit data to visualizer\n",
    "plt.title('Elbow Method for Optimal k using Sum of Square Error')\n",
    "plt.xlabel('k')\n",
    "plt.ylabel('Sum of Squared Error')\n",
    "plt.show()"
   ]
  },
  {
   "cell_type": "code",
   "execution_count": null,
   "id": "16141c75",
   "metadata": {},
   "outputs": [],
   "source": [
    "G = pc.create_network(census_dfs, years, 'GeoUID', 0.05)\n",
    "tsc = pc2.cluster(network_table, G, 'GeoUID', 4, arr=arr, label_dict=label_dict)"
   ]
  },
  {
   "cell_type": "code",
   "execution_count": null,
   "id": "cb5742a7",
   "metadata": {},
   "outputs": [],
   "source": [
    "network_table.head(20)"
   ]
  },
  {
   "cell_type": "code",
   "execution_count": null,
   "id": "840491f4",
   "metadata": {},
   "outputs": [],
   "source": [
    "list(G.nodes(data=True))[:3]"
   ]
  },
  {
   "cell_type": "code",
   "execution_count": null,
   "id": "2ba0b6fc",
   "metadata": {},
   "outputs": [],
   "source": [
    "import piccard2 as pc2\n",
    "pc2.plot_clusters(network_table, tsc)"
   ]
  }
 ],
 "metadata": {
  "kernelspec": {
   "display_name": "Python 3",
   "language": "python",
   "name": "python3"
  },
  "language_info": {
   "codemirror_mode": {
    "name": "ipython",
    "version": 3
   },
   "file_extension": ".py",
   "mimetype": "text/x-python",
   "name": "python",
   "nbconvert_exporter": "python",
   "pygments_lexer": "ipython3",
   "version": "3.12.10"
  }
 },
 "nbformat": 4,
 "nbformat_minor": 5
}
