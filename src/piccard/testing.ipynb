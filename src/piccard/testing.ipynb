{
 "cells": [
  {
   "cell_type": "code",
   "execution_count": null,
   "id": "99b2feeb",
   "metadata": {},
   "outputs": [],
   "source": [
    "import pandas as pd\n",
    "import geopandas as gpd\n",
    "import numpy as np\n",
    "import matplotlib.pyplot as plt\n",
    "from tscluster.opttscluster import OptTSCluster\n",
    "from tscluster.preprocessing.utils import load_data\n",
    "\n",
    "import warnings\n",
    "warnings.filterwarnings('ignore')\n",
    "\n",
    "import piccard as pc\n",
    "import piccard2 as pc2\n",
    "\n",
    "# unused\n",
    "import networkx as nx\n",
    "import re"
   ]
  },
  {
   "cell_type": "code",
   "execution_count": null,
   "id": "cb2e334b",
   "metadata": {},
   "outputs": [],
   "source": [
    "households_data_2021 = gpd.read_file(\"data_testing/households_data_2021.geojson\")\n",
    "households_data_2016 = gpd.read_file(\"data_testing/households_data_2016.geojson\")\n",
    "households_data_2011 = gpd.read_file(\"data_testing/households_data_2011.geojson\")\n",
    "\n",
    "households_data_2021.rename(columns={'v_CA21_434: Occupied private dwellings by structural type of dwelling data': 'occupied_private_dwellings',\n",
    "                                     'v_CA21_435: Single-detached house': 'single_detached_house',\n",
    "                                     'v_CA21_440: Apartment in a building that has five or more storeys': 'apt_five_or_more'}, inplace=True)\n",
    "households_data_2016.rename(columns={'v_CA16_408: Occupied private dwellings by structural type of dwelling data': 'occupied_private_dwellings',\n",
    "                                     'v_CA16_409: Single-detached house': 'single_detached_house',\n",
    "                                     'v_CA16_410: Apartment in a building that has five or more storeys': 'apt_five_or_more'}, inplace=True)\n",
    "households_data_2011.rename(columns={'v_CA11F_199: Total number of occupied private dwellings by structural type of dwelling': 'occupied_private_dwellings',\n",
    "                                     'v_CA11F_200: Single-detached house': 'single_detached_house',\n",
    "                                     'v_CA11F_201: Apartment, building that has five or more storeys': 'apt_five_or_more',}, inplace=True)"
   ]
  },
  {
   "cell_type": "code",
   "execution_count": null,
   "id": "72a4f23d",
   "metadata": {},
   "outputs": [],
   "source": [
    "census_dfs = [households_data_2011, households_data_2021]\n",
    "years = ['2011', '2021']\n",
    "\n",
    "network_table = pc.create_network_table(census_dfs, years, 'GeoUID')\n",
    "network_table"
   ]
  },
  {
   "cell_type": "code",
   "execution_count": null,
   "id": "3922ee31",
   "metadata": {},
   "outputs": [],
   "source": [
    "from tscluster.tsplot import tsplot\n",
    "\n",
    "arr, label_dict = pc2.clustering_prep(network_table, 'name', ['occupied_private_dwellings_2011', 'single_detached_house_2011', 'apt_five_or_more_2011', 'occupied_private_dwellings_2021', 'single_detached_house_2021', 'apt_five_or_more_2021'])\n",
    "fig, ax = tsplot.plot(X=arr, label_dict=label_dict)"
   ]
  },
  {
   "cell_type": "code",
   "execution_count": null,
   "id": "bcaf1014",
   "metadata": {},
   "outputs": [],
   "source": [
    "# we will use the elbow method to determine the optimal number of clusters\n",
    "import setuptools\n",
    "from sympy import false\n",
    "from yellowbrick.cluster import KElbowVisualizer\n",
    "from sklearn.cluster import KMeans\n",
    "\n",
    "model = KMeans(random_state=4,n_init=10)\n",
    "visualizer = KElbowVisualizer(model, k=(2,10),timings=False, ax=plt.gca())\n",
    "visualizer.fit(arr)       # Fit data to visualizer\n",
    "plt.title('Elbow Method for Optimal k using Sum of Square Error')\n",
    "plt.xlabel('k')\n",
    "plt.ylabel('Sum of Squared Error')\n",
    "plt.show()"
   ]
  },
  {
   "cell_type": "code",
   "execution_count": null,
   "id": "16141c75",
   "metadata": {},
   "outputs": [],
   "source": [
    "G = pc.create_network(census_dfs, years, 'GeoUID', 0.05)\n",
    "opt_ts = pc2.cluster(network_table, G, 'GeoUID', 4, arr=arr, label_dict=label_dict)"
   ]
  },
  {
   "cell_type": "code",
   "execution_count": null,
   "id": "017a38a8",
   "metadata": {},
   "outputs": [],
   "source": [
    "fig, ax = tsplot.plot(\n",
    "    X=arr, # the temporal data\n",
    "    cluster_centers=opt_ts.cluster_centers_, # the cluster centers\n",
    "    labels=opt_ts.labels_, label_dict=label_dict, # the cluster labels and the label dictionary\n",
    "    entity_idx=[label_dict['N'].index(i) for i in opt_ts.get_dynamic_entities()[0] if int(i[5:]) % 100 == 0], # show every 100 entities that exhibit cluster label changes\n",
    "    show_all_entities=False,figsize=(7,16), annot_fontsize = 10,\n",
    "    xlabel='Year',ylabel='Number'\n",
    "    ) # show only the entities that exhibit cluster label changes"
   ]
  },
  {
   "cell_type": "code",
   "execution_count": null,
   "id": "33e28681",
   "metadata": {},
   "outputs": [],
   "source": [
    "import seaborn as sns\n",
    "from typing import List\n",
    "\n",
    "def plot_cluster_heatmap(X: np.ndarray,\n",
    "                         cluster_result: OptTSCluster,\n",
    "                         n_clusters:int,\n",
    "                         cluster_labels: List[str]|None = None,\n",
    "                         label_dict: dict|None = None,\n",
    "                         figsize: tuple = (10, 7)) -> plt.Figure:\n",
    "    \"\"\"\n",
    "    Plot the cluster heatmap for the temporal data based on the cluster result.\n",
    "\n",
    "    Parameters\n",
    "    ----------\n",
    "    temporal_data : np.ndarray\n",
    "        The temporal data with shape (n_timesteps, n_samples, n_features).\n",
    "    cluster_result : OptTSCluster|TSGlobalKmeans|KMeans\n",
    "        The cluster result from three clustering method of *tscluster*\n",
    "    n_clusters : int\n",
    "        The number of clusters in the cluster result.\n",
    "    cluster_labels : List[str], optional\n",
    "        The cluster labels, by default None.\n",
    "        If None, the cluster labels will be 'Cluster 1', 'Cluster 2', ...\n",
    "    label_dict : dict, optional\n",
    "        The label dictionary of the temporal data, by default None\n",
    "        If None, the label dictionary of the cluster result will be used.\n",
    "\n",
    "    figsize : tuple, optional\n",
    "        The figure size of the heatmap, by default (10, 7)\n",
    "\n",
    "    Returns\n",
    "    -------\n",
    "    plt.Figure\n",
    "        The heatmap figure.\n",
    "    \"\"\"\n",
    "    if label_dict is None:\n",
    "        label_dict = cluster_result.label_dict_\n",
    "\n",
    "    z_score_matrix = [[[] for _ in range(X.shape[2])]\n",
    "                      for _ in range(n_clusters)]\n",
    "    for fsa in range(X.shape[1]):\n",
    "        current_fsa = cluster_result.labels_[fsa]\n",
    "        for year in range(X.shape[0]):\n",
    "            for feature in range(X.shape[2]):\n",
    "                z_score_matrix[current_fsa[year]][feature].append(X[year,fsa,feature])\n",
    "    z_score_matrix = np.array(z_score_matrix, dtype=object).T\n",
    "    z_score_matrix = np.array([[np.mean(z_score_matrix[feature][cluster])\n",
    "                                for cluster in range(n_clusters)]\n",
    "                               for feature in range(X.shape[2])])\n",
    "    result = pd.DataFrame(z_score_matrix, index=label_dict['F'])\n",
    "    result = result.astype(float)\n",
    "    if cluster_labels is not None:\n",
    "        result.columns = cluster_labels\n",
    "    else:\n",
    "        result.columns = ['Cluster ' + str(i+1) for i in range(cluster_result.n_clusters)]\n",
    "\n",
    "    plt.figure(figsize=figsize)\n",
    "    fig = sns.heatmap(result, cmap='coolwarm', annot=True, fmt=\".2f\")\n",
    "    return plt.gcf()\n",
    "\n",
    "fig = plot_cluster_heatmap(X = arr,\n",
    "                           cluster_result=opt_ts,\n",
    "                           n_clusters=3,\n",
    "                           cluster_labels=['c1','c2','c3'])\n",
    "                           # assign the cluster labels\n",
    "plt.title('Heatmap of features by clusters')\n",
    "plt.xlabel('Clusters')\n",
    "plt.ylabel('Features')\n",
    "plt.show()"
   ]
  }
 ],
 "metadata": {
  "kernelspec": {
   "display_name": "Python 3",
   "language": "python",
   "name": "python3"
  },
  "language_info": {
   "codemirror_mode": {
    "name": "ipython",
    "version": 3
   },
   "file_extension": ".py",
   "mimetype": "text/x-python",
   "name": "python",
   "nbconvert_exporter": "python",
   "pygments_lexer": "ipython3",
   "version": "3.12.10"
  }
 },
 "nbformat": 4,
 "nbformat_minor": 5
}
