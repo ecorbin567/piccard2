{
  "cells": [
    {
      "cell_type": "markdown",
      "id": "a36e15e1",
      "metadata": {
        "id": "a36e15e1"
      },
      "source": [
        "## Piccard2 Testing Notebook\n",
        "\n",
        "Google Colab: https://colab.research.google.com/drive/1xjuNG-ebiLlx506hnJM1pvNmSHd3yNmP?usp=sharing\n",
        "\n",
        "This is a sample notebook that demonstrates usage of the functions in piccard2 using data collected from the cancensus R package.\n",
        "\n",
        "As you probably know, the piccard package is intended to make it easier to analyze geographically inconsistent census data using a graph data structure. piccard in its current iteration creates the graph network from census data files, and piccard2, which is demonstrated here, applies an existing clustering package (tscluster) to this graph network, which aids analysis and visualizations of the patterns in census data.\n",
        "\n",
        "In this notebook, we'll go through the clustering process and explore visualizations of the resulting clusters.\n",
        "\n",
        "First, we'll install all necessary dependencies. piccard and piccard2 will be installed from the new piccard2 git repo, which is necessary to get around some issues in the first iteration of piccard."
      ]
    },
    {
      "cell_type": "code",
      "execution_count": null,
      "id": "Y59tvZYa-Zj4",
      "metadata": {
        "colab": {
          "base_uri": "https://localhost:8080/"
        },
        "id": "Y59tvZYa-Zj4",
        "outputId": "b555eea8-fcb7-4fa9-9650-354c49679632"
      },
      "outputs": [],
      "source": [
        "# install piccard and piccard2\n",
        "import os\n",
        "import subprocess\n",
        "\n",
        "# Clone the repo (only if not already cloned)\n",
        "if not os.path.exists(\"piccard2\"):\n",
        "    subprocess.run([\"git\", \"clone\", \"https://github.com/ecorbin567/piccard2.git\"])\n",
        "\n",
        "# Change directory\n",
        "os.chdir(\"piccard2/src/piccard\")\n",
        "\n",
        "import piccard as pc\n",
        "import piccard2 as pc2\n",
        "\n",
        "# install other dependencies, pip install first if needed\n",
        "from tscluster.tsplot import tsplot\n",
        "import geopandas as gpd\n",
        "import numpy as np\n",
        "import matplotlib.pyplot as plt\n",
        "\n",
        "import warnings\n",
        "warnings.filterwarnings('ignore')"
      ]
    },
    {
      "cell_type": "markdown",
      "id": "6d18161d",
      "metadata": {
        "id": "6d18161d"
      },
      "source": [
        "Now we'll use geopandas to read the census data files obtained from cancensus. These files contain necessary information about each census tract in the city of Toronto, as well as three variables for each census tract: number of occupied private dwellings, single-detached houses, and apartments in buildings with five or more storeys.\n",
        "\n",
        "We rename the columns corresponding to these three variables so that they are treated as the same variable across years."
      ]
    },
    {
      "cell_type": "code",
      "execution_count": null,
      "id": "vMQ7KPpY-zjS",
      "metadata": {
        "id": "vMQ7KPpY-zjS"
      },
      "outputs": [],
      "source": [
        "households_data_2021 = gpd.read_file(\"https://raw.githubusercontent.com/ecorbin567/piccard2/refs/heads/main/docs/piccard2_testing_data/households_data_2021.geojson\")\n",
        "households_data_2016 = gpd.read_file(\"https://raw.githubusercontent.com/ecorbin567/piccard2/refs/heads/main/docs/piccard2_testing_data/households_data_2016.geojson\")\n",
        "households_data_2011 = gpd.read_file(\"https://raw.githubusercontent.com/ecorbin567/piccard2/refs/heads/main/docs/piccard2_testing_data/households_data_2011.geojson\")\n",
        "households_data_2006 = gpd.read_file(\"https://raw.githubusercontent.com/ecorbin567/piccard2/refs/heads/main/docs/piccard2_testing_data/households_data_2006.geojson\")\n",
        "\n",
        "households_data_2021.rename(columns={'v_CA21_434: Occupied private dwellings by structural type of dwelling data': 'occupied_private_dwellings',\n",
        "                                     'v_CA21_435: Single-detached house': 'single_detached_house',\n",
        "                                     'v_CA21_440: Apartment in a building that has five or more storeys': 'apt_five_or_more'}, inplace=True)\n",
        "households_data_2016.rename(columns={'v_CA16_408: Occupied private dwellings by structural type of dwelling data': 'occupied_private_dwellings',\n",
        "                                     'v_CA16_409: Single-detached house': 'single_detached_house',\n",
        "                                     'v_CA16_410: Apartment in a building that has five or more storeys': 'apt_five_or_more'}, inplace=True)\n",
        "households_data_2011.rename(columns={'v_CA11F_199: Total number of occupied private dwellings by structural type of dwelling': 'occupied_private_dwellings',\n",
        "                                     'v_CA11F_200: Single-detached house': 'single_detached_house',\n",
        "                                     'v_CA11F_201: Apartment, building that has five or more storeys': 'apt_five_or_more',}, inplace=True)\n",
        "households_data_2006.rename(columns={'v_CA06_119: Total number of occupied private dwellings by structural type of dwelling - data': 'occupied_private_dwellings',\n",
        "                                     'v_CA06_120: Single-detached house': 'single_detached_house',\n",
        "                                     'v_CA06_124: Apartment, building that has five or more storeys': 'apt_five_or_more',}, inplace=True)"
      ]
    },
    {
      "cell_type": "markdown",
      "id": "3bcbe3dd",
      "metadata": {
        "id": "3bcbe3dd"
      },
      "source": [
        "Now we'll create a piccard network table from the data files obtained above. See the piccard documentation for more information about how this is done."
      ]
    },
    {
      "cell_type": "code",
      "execution_count": null,
      "id": "72a4f23d",
      "metadata": {
        "colab": {
          "base_uri": "https://localhost:8080/",
          "height": 461
        },
        "id": "72a4f23d",
        "outputId": "754a5986-4bb1-4bee-aeac-fc3eee4ab2a7"
      },
      "outputs": [],
      "source": [
        "census_dfs = [households_data_2006, households_data_2011, households_data_2016, households_data_2021]\n",
        "years = ['2006', '2011', '2016', '2021']\n",
        "\n",
        "network_table = pc.create_network_table(census_dfs, years, 'GeoUID')\n",
        "network_table"
      ]
    },
    {
      "cell_type": "markdown",
      "id": "15cef4e9",
      "metadata": {
        "id": "15cef4e9"
      },
      "source": [
        "Next, we'll turn this network table into a 3d numpy array of all possible paths and their corresponding features so we can use it for clustering. In addition to creating the numpy array with clustering_prep, we'll also use tscluster's tsplot package to plot the values for each feature across timesteps. These values will be clustered into groups in the next step.\n",
        "\n",
        "Note that when specifying the list of columns, you need to specify the column for each individual year in the data. This is because of the way the network table renames columns, but don't worry, every feature is treated the same regardless of year."
      ]
    },
    {
      "cell_type": "code",
      "execution_count": null,
      "id": "3922ee31",
      "metadata": {
        "colab": {
          "base_uri": "https://localhost:8080/",
          "height": 493
        },
        "id": "3922ee31",
        "outputId": "3557f0ab-a62c-49ab-8a64-79eb8a571ac1"
      },
      "outputs": [],
      "source": [
        "arr, label_dict = pc2.clustering_prep(network_table, 'name', [\n",
        "    'occupied_private_dwellings_2006', 'single_detached_house_2006', 'apt_five_or_more_2006',\n",
        "    'occupied_private_dwellings_2011', 'single_detached_house_2011', 'apt_five_or_more_2011',\n",
        "    'occupied_private_dwellings_2016', 'single_detached_house_2016', 'apt_five_or_more_2016',\n",
        "    'occupied_private_dwellings_2021', 'single_detached_house_2021', 'apt_five_or_more_2021'])\n",
        "\n",
        "fig, ax = tsplot.plot(X=arr, label_dict=label_dict)"
      ]
    },
    {
      "cell_type": "markdown",
      "id": "1338eb08",
      "metadata": {
        "id": "1338eb08"
      },
      "source": [
        "Before clustering, we will use the elbow function to determine the optimal number of clusters."
      ]
    },
    {
      "cell_type": "code",
      "execution_count": null,
      "id": "bcaf1014",
      "metadata": {
        "colab": {
          "base_uri": "https://localhost:8080/",
          "height": 524
        },
        "id": "bcaf1014",
        "outputId": "facb63ad-66a2-4cc0-c8f6-812a24c8ff87"
      },
      "outputs": [],
      "source": [
        "from yellowbrick.cluster import KElbowVisualizer\n",
        "from sklearn.cluster import KMeans\n",
        "\n",
        "reshaped_arr = arr.reshape(587*4,3)\n",
        "reshaped_arr = np.nan_to_num(reshaped_arr, nan=-1000000)\n",
        "\n",
        "model = KMeans(random_state=4,n_init=10)\n",
        "visualizer = KElbowVisualizer(model, k=(2,10),timings=False, ax=plt.gca())\n",
        "visualizer.fit(reshaped_arr)       # Fit data to visualizer\n",
        "plt.title('Elbow function for Optimal k using Sum of Square Error')\n",
        "plt.xlabel('k')\n",
        "plt.ylabel('Sum of Squared Error')\n",
        "plt.show()"
      ]
    },
    {
      "cell_type": "markdown",
      "id": "66c42406",
      "metadata": {
        "id": "66c42406"
      },
      "source": [
        "There are lots of ways to customize the cluster function, so feel free to try different clustering schemes, algorithms, or even numbers of clusters if the elbow plot is inconclusive.\n",
        "\n",
        "Before running cluster, we create a piccard graph and pass it into the function."
      ]
    },
    {
      "cell_type": "code",
      "execution_count": null,
      "id": "16141c75",
      "metadata": {
        "colab": {
          "base_uri": "https://localhost:8080/"
        },
        "id": "16141c75",
        "outputId": "0b433bf2-be09-4d62-833c-5d47c1b0da49"
      },
      "outputs": [],
      "source": [
        "G = pc.create_network(census_dfs, years, 'GeoUID', 0.05)\n",
        "tsc = pc2.cluster(network_table, G, 'GeoUID', 4, arr=arr, label_dict=label_dict)"
      ]
    },
    {
      "cell_type": "markdown",
      "id": "2abcdc1c",
      "metadata": {
        "id": "2abcdc1c"
      },
      "source": [
        "As you can see below, the network table now contains new columns with each path's cluster assignment at each timestep, and each node in the graph now contains a new feature: each node's cluster assignment."
      ]
    },
    {
      "cell_type": "code",
      "execution_count": null,
      "id": "cb5742a7",
      "metadata": {
        "colab": {
          "base_uri": "https://localhost:8080/",
          "height": 743
        },
        "id": "cb5742a7",
        "outputId": "7c900395-5f2a-402c-e916-04ee8bfa7b69"
      },
      "outputs": [],
      "source": [
        "network_table.head(20)"
      ]
    },
    {
      "cell_type": "code",
      "execution_count": null,
      "id": "840491f4",
      "metadata": {
        "colab": {
          "base_uri": "https://localhost:8080/"
        },
        "id": "840491f4",
        "outputId": "7a1f69f0-f4cd-4d18-9faa-b768a976f867"
      },
      "outputs": [],
      "source": [
        "list(G.nodes(data=True))[:3]"
      ]
    },
    {
      "cell_type": "markdown",
      "id": "b666e7fa",
      "metadata": {
        "id": "b666e7fa"
      },
      "source": [
        "Finally, we'll use piccard2's plot_clusters function, inspired by tsplot, to visualize the cluster assignments. This visualization is not intended for interpreting the results of the clustering or its real-world meaning, but rather for evaluating how well the clustering algorithm performed and what changes might need to be made for a better fit.\n",
        "\n",
        "Similarly to the cluster function, plot_clusters is very customizable, so feel free to try out visualizing different groups of clusters together!"
      ]
    },
    {
      "cell_type": "code",
      "execution_count": null,
      "id": "2ba0b6fc",
      "metadata": {
        "colab": {
          "base_uri": "https://localhost:8080/",
          "height": 1000
        },
        "id": "2ba0b6fc",
        "outputId": "1cee7e85-52de-46e8-95f4-7029adcddc42"
      },
      "outputs": [],
      "source": [
        "pc2.plot_clusters(network_table, tsc)"
      ]
    },
    {
      "cell_type": "markdown",
      "id": "d4a1c670",
      "metadata": {},
      "source": [
        "Now it's time to start interpreting the cluster assignments! parallel_plot shows a Sankey diagram of each path's cluster assignments over time."
      ]
    },
    {
      "cell_type": "code",
      "execution_count": null,
      "id": "5dd997d3",
      "metadata": {},
      "outputs": [],
      "source": [
        "figure = pc2.parallel_plot(network_table,'cluster_assignment', years,height=600)\n",
        "figure.show()"
      ]
    },
    {
      "cell_type": "markdown",
      "id": "72c67a2c",
      "metadata": {},
      "source": [
        "cluster_count_plot shows just the number of paths assigned to each cluster over time, but it provides a helpful colour-coding of clusters to differentiate them."
      ]
    },
    {
      "cell_type": "code",
      "execution_count": null,
      "id": "0b08ee6f",
      "metadata": {},
      "outputs": [],
      "source": [
        "pc2.cluster_count_plot(network_table, 'cluster_assignment', years, x_label='Year', y_label='Number of Census Tracts', figure_size=(10,5), stacked=True)"
      ]
    },
    {
      "cell_type": "markdown",
      "id": "20eb7e9d",
      "metadata": {},
      "source": [
        "Finally, clustered_map_plot shows a map of cluster assignments at their real geographic locations at each timestep. \n",
        "\n",
        "There are two ways to run this function; you could run the helper function join_geometries yourself and pass in the result (this is recommended if you are using a column id different than the default GeoUID), or you could pass in the network table and geographical data file and have join_geometries run for you."
      ]
    },
    {
      "cell_type": "markdown",
      "id": "a3f9c0bf",
      "metadata": {},
      "source": [
        "First method: running join_geometries yourself."
      ]
    },
    {
      "cell_type": "code",
      "execution_count": null,
      "id": "241a0fee",
      "metadata": {},
      "outputs": [],
      "source": [
        "for year in years:\n",
        "    network_table[f'cluster_assignment_{year}'] = network_table[f'cluster_assignment_{year}'].astype(str)\n",
        "\n",
        "# Plot for each year\n",
        "for year in ['2006', '2011', '2016', '2021']:\n",
        "    gdf = pc2.join_geometries(f\"piccard2_testing_data/households_data_{year}.geojson\",network_table, year,\"GeoUID\",\"geouid\")\n",
        "    pc2.clustered_map_plot(year, cluster_col_prefix=\"cluster_assignment\", gdf=gdf)"
      ]
    },
    {
      "cell_type": "markdown",
      "id": "8d4ee284",
      "metadata": {},
      "source": [
        "Second method: passing in network table and geographical data file. We used geojson but this works for any file readable by geopandas."
      ]
    },
    {
      "cell_type": "code",
      "execution_count": null,
      "id": "f1b9ab0d",
      "metadata": {},
      "outputs": [],
      "source": [
        "for year in ['2006', '2011', '2016', '2021']:\n",
        "    pc2.clustered_map_plot(\n",
        "        year=year,\n",
        "        cluster_col_prefix='cluster_assignment',\n",
        "        geojson_path=f\"piccard2_testing_data/households_data_{year}.geojson\",\n",
        "        network_table=network_table\n",
        "    )"
      ]
    }
  ],
  "metadata": {
    "colab": {
      "provenance": []
    },
    "kernelspec": {
      "display_name": "Python 3",
      "language": "python",
      "name": "python3"
    },
    "language_info": {
      "codemirror_mode": {
        "name": "ipython",
        "version": 3
      },
      "file_extension": ".py",
      "mimetype": "text/x-python",
      "name": "python",
      "nbconvert_exporter": "python",
      "pygments_lexer": "ipython3",
      "version": "3.12.10"
    }
  },
  "nbformat": 4,
  "nbformat_minor": 5
}
